{
 "cells": [
  {
   "cell_type": "markdown",
   "source": [
    "# Encode\n",
    "Here, we will encode data as follows\n",
    "* Convert categorical data with orderings (likert scale type data) into ordinal data\n",
    "E.g.,  `GarageQual`: NoGarage->0, Po->1, Fa->2, TA->3, Gd->4, Ex->5\n",
    "* Create new features\n",
    "    * Simplify Scales\n",
    "    E.g., `OverallQual` has scale 1-10. 1-3 are simplified to \"bad\", 4-6 are \"normal\", 7-10 are \"good\""
   ],
   "metadata": {
    "collapsed": false
   }
  },
  {
   "cell_type": "code",
   "execution_count": 28,
   "outputs": [
    {
     "name": "stdout",
     "output_type": "stream",
     "text": [
      "The autoreload extension is already loaded. To reload it, use:\n",
      "  %reload_ext autoreload\n"
     ]
    }
   ],
   "source": [
    "%load_ext autoreload\n",
    "%autoreload 2"
   ],
   "metadata": {
    "collapsed": false,
    "pycharm": {
     "name": "#%%\n"
    }
   }
  },
  {
   "cell_type": "code",
   "execution_count": 29,
   "metadata": {
    "collapsed": true
   },
   "outputs": [],
   "source": [
    "import pandas as pd\n",
    "import data_dict"
   ]
  },
  {
   "cell_type": "code",
   "execution_count": 30,
   "outputs": [],
   "source": [
    "df = pd.read_csv(\"../data/cleaned.csv\")\n",
    "df.drop('Unnamed: 0', inplace=True, axis=1)"
   ],
   "metadata": {
    "collapsed": false,
    "pycharm": {
     "name": "#%%\n"
    }
   }
  },
  {
   "cell_type": "markdown",
   "source": [
    "Convert categorical to ordinal"
   ],
   "metadata": {
    "collapsed": false
   }
  },
  {
   "cell_type": "code",
   "execution_count": 31,
   "outputs": [],
   "source": [
    "# Exterior features\n",
    "df['ExterQual'] = df.ExterQual.map(data_dict.convert_exterqual)\n",
    "df['ExterCond'] = df.ExterCond.map(data_dict.convert_extercond)"
   ],
   "metadata": {
    "collapsed": false,
    "pycharm": {
     "name": "#%%\n"
    }
   }
  },
  {
   "cell_type": "code",
   "execution_count": 32,
   "outputs": [],
   "source": [
    "# Basement features\n",
    "df['BsmtQual'] = df.BsmtQual.map(data_dict.convert_bsmtqual)\n",
    "df['BsmtCond'] = df.BsmtCond.map(data_dict.convert_bsmtcond)\n",
    "df['BsmtExposure'] = df.BsmtExposure.map(data_dict.convert_bsmtexposure)\n",
    "df['BsmtFinType1'] = df.BsmtFinType1.map(data_dict.convert_bsmtfintype)\n",
    "df['BsmtFinType2'] = df.BsmtFinType2.map(data_dict.convert_bsmtfintype)"
   ],
   "metadata": {
    "collapsed": false,
    "pycharm": {
     "name": "#%%\n"
    }
   }
  },
  {
   "cell_type": "code",
   "execution_count": 33,
   "outputs": [],
   "source": [
    "# Home Interior features\n",
    "df['Functional'] = df.Functional.map(data_dict.convert_functional)\n",
    "df['FireplaceQu'] = df.FireplaceQu.map(data_dict.convert_fireplacequ)\n",
    "df['HeatingQC'] = df.HeatingQC.map(data_dict.convert_heatingqc)\n",
    "df['KitchenQual'] = df.KitchenQual.map(data_dict.convert_kitchenqual)"
   ],
   "metadata": {
    "collapsed": false,
    "pycharm": {
     "name": "#%%\n"
    }
   }
  },
  {
   "cell_type": "code",
   "execution_count": 34,
   "outputs": [],
   "source": [
    "# Land features\n",
    "df['LandSlope'] = df.LandSlope.map(data_dict.convert_landslope)\n",
    "df['LotShape'] = df.LotShape.map(data_dict.convert_lotshape)"
   ],
   "metadata": {
    "collapsed": false,
    "pycharm": {
     "name": "#%%\n"
    }
   }
  },
  {
   "cell_type": "code",
   "execution_count": 35,
   "outputs": [],
   "source": [
    "# Garage features\n",
    "df['GarageCond'] = df.GarageCond.map(data_dict.convert_garagecond)\n",
    "df['GarageQual'] = df.GarageQual.map(data_dict.convert_garagequal)"
   ],
   "metadata": {
    "collapsed": false,
    "pycharm": {
     "name": "#%%\n"
    }
   }
  },
  {
   "cell_type": "code",
   "execution_count": 36,
   "outputs": [],
   "source": [
    "# Road features\n",
    "df['Street'] = df.Street.map(data_dict.convert_street)\n",
    "df['PavedDrive'] = df.PavedDrive.map(data_dict.convert_paveddrive)\n",
    "df['Alley'] = df.Alley.map(data_dict.convert_alley)"
   ],
   "metadata": {
    "collapsed": false,
    "pycharm": {
     "name": "#%%\n"
    }
   }
  },
  {
   "cell_type": "code",
   "execution_count": 37,
   "outputs": [],
   "source": [
    "# Other features\n",
    "df['Utilities'] = df.Utilities.map(data_dict.convert_utilities)\n",
    "df['PoolQC'] = df.PoolQC.map(data_dict.convert_poolqc)"
   ],
   "metadata": {
    "collapsed": false,
    "pycharm": {
     "name": "#%%\n"
    }
   }
  },
  {
   "cell_type": "code",
   "execution_count": 38,
   "outputs": [
    {
     "data": {
      "text/plain": "         PID  GrLivArea  SalePrice  MSSubClass MSZoning  LotFrontage  LotArea  \\\n0  909176150        856     126000          30       RL         66.0     7890   \n\n   Street  Alley  LotShape  ... ScreenPorch  PoolArea PoolQC    Fence  \\\n0       2      0         4  ...         166         0      0  NoFence   \n\n  MiscFeature MiscVal MoSold YrSold SaleType  SaleCondition  \n0      NoMisc       0      3   2010      WD          Normal  \n\n[1 rows x 81 columns]",
      "text/html": "<div>\n<style scoped>\n    .dataframe tbody tr th:only-of-type {\n        vertical-align: middle;\n    }\n\n    .dataframe tbody tr th {\n        vertical-align: top;\n    }\n\n    .dataframe thead th {\n        text-align: right;\n    }\n</style>\n<table border=\"1\" class=\"dataframe\">\n  <thead>\n    <tr style=\"text-align: right;\">\n      <th></th>\n      <th>PID</th>\n      <th>GrLivArea</th>\n      <th>SalePrice</th>\n      <th>MSSubClass</th>\n      <th>MSZoning</th>\n      <th>LotFrontage</th>\n      <th>LotArea</th>\n      <th>Street</th>\n      <th>Alley</th>\n      <th>LotShape</th>\n      <th>...</th>\n      <th>ScreenPorch</th>\n      <th>PoolArea</th>\n      <th>PoolQC</th>\n      <th>Fence</th>\n      <th>MiscFeature</th>\n      <th>MiscVal</th>\n      <th>MoSold</th>\n      <th>YrSold</th>\n      <th>SaleType</th>\n      <th>SaleCondition</th>\n    </tr>\n  </thead>\n  <tbody>\n    <tr>\n      <th>0</th>\n      <td>909176150</td>\n      <td>856</td>\n      <td>126000</td>\n      <td>30</td>\n      <td>RL</td>\n      <td>66.0</td>\n      <td>7890</td>\n      <td>2</td>\n      <td>0</td>\n      <td>4</td>\n      <td>...</td>\n      <td>166</td>\n      <td>0</td>\n      <td>0</td>\n      <td>NoFence</td>\n      <td>NoMisc</td>\n      <td>0</td>\n      <td>3</td>\n      <td>2010</td>\n      <td>WD</td>\n      <td>Normal</td>\n    </tr>\n  </tbody>\n</table>\n<p>1 rows × 81 columns</p>\n</div>"
     },
     "execution_count": 38,
     "metadata": {},
     "output_type": "execute_result"
    }
   ],
   "source": [
    "df.head(1) # sanity check"
   ],
   "metadata": {
    "collapsed": false,
    "pycharm": {
     "name": "#%%\n"
    }
   }
  },
  {
   "cell_type": "code",
   "execution_count": 39,
   "outputs": [],
   "source": [
    "# WONTFIX: We could have used df.COLUMN.replace() above"
   ],
   "metadata": {
    "collapsed": false,
    "pycharm": {
     "name": "#%%\n"
    }
   }
  },
  {
   "cell_type": "code",
   "execution_count": 40,
   "outputs": [],
   "source": [
    "# See whether a property is in a PUD from the dwelling type\n",
    "df['isPUD'] = df.MSSubClass.map(data_dict.get_pud_indicator)"
   ],
   "metadata": {
    "collapsed": false,
    "pycharm": {
     "name": "#%%\n"
    }
   }
  },
  {
   "cell_type": "code",
   "execution_count": 51,
   "outputs": [],
   "source": [
    "# Get number of floors for the property from the dwelling type\n",
    "df['NumFloors'] = df.MSSubClass.map(data_dict.get_num_floors)"
   ],
   "metadata": {
    "collapsed": false,
    "pycharm": {
     "name": "#%%\n"
    }
   }
  },
  {
   "cell_type": "code",
   "execution_count": 55,
   "outputs": [],
   "source": [
    "# Convert MSSubClass and MoSold to categorical from numeric\n",
    "# df['MSSubClass'] = df.MSSubClass.map(data_dict.convert_mssubclass) # groups\n",
    "df['MoSold'] = df.MoSold.map(data_dict.convert_mosold)\n"
   ],
   "metadata": {
    "collapsed": false,
    "pycharm": {
     "name": "#%%\n"
    }
   }
  },
  {
   "cell_type": "markdown",
   "source": [
    "Simplify buckets for likert scale data"
   ],
   "metadata": {
    "collapsed": false
   }
  },
  {
   "cell_type": "code",
   "execution_count": 25,
   "outputs": [],
   "source": [
    "# TODO"
   ],
   "metadata": {
    "collapsed": false,
    "pycharm": {
     "name": "#%%\n"
    }
   }
  },
  {
   "cell_type": "markdown",
   "source": [
    "Save output"
   ],
   "metadata": {
    "collapsed": false
   }
  },
  {
   "cell_type": "code",
   "execution_count": 26,
   "outputs": [],
   "source": [
    "df.to_csv(\"../data/encoded.csv\")"
   ],
   "metadata": {
    "collapsed": false,
    "pycharm": {
     "name": "#%%\n"
    }
   }
  },
  {
   "cell_type": "code",
   "execution_count": null,
   "outputs": [],
   "source": [],
   "metadata": {
    "collapsed": false,
    "pycharm": {
     "name": "#%%\n"
    }
   }
  }
 ],
 "metadata": {
  "kernelspec": {
   "display_name": "Python 3",
   "language": "python",
   "name": "python3"
  },
  "language_info": {
   "codemirror_mode": {
    "name": "ipython",
    "version": 2
   },
   "file_extension": ".py",
   "mimetype": "text/x-python",
   "name": "python",
   "nbconvert_exporter": "python",
   "pygments_lexer": "ipython2",
   "version": "2.7.6"
  }
 },
 "nbformat": 4,
 "nbformat_minor": 0
}