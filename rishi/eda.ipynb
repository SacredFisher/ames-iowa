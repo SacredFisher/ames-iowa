{
 "cells": [
  {
   "cell_type": "code",
   "execution_count": 175,
   "metadata": {
    "collapsed": true
   },
   "outputs": [],
   "source": [
    "import pandas as pd\n",
    "import matplotlib.pyplot as plt\n",
    "import seaborn as sns\n",
    "import data_dict"
   ]
  },
  {
   "cell_type": "code",
   "execution_count": 87,
   "outputs": [
    {
     "data": {
      "text/plain": "         PID  GrLivArea  SalePrice  MSSubClass MSZoning  LotFrontage  LotArea  \\\n0  909176150        856     126000          30       RL          NaN     7890   \n1  905476230       1049     139500         120       RL         42.0     4235   \n2  911128020       1001     124900          30  C (all)         60.0     6060   \n3  535377150       1039     114000          70       RL         80.0     8146   \n4  534177230       1665     227000          60       RL         70.0     8400   \n\n  Street Alley LotShape  ... ScreenPorch PoolArea PoolQC Fence MiscFeature  \\\n0   Pave   NaN      Reg  ...         166        0    NaN   NaN         NaN   \n1   Pave   NaN      Reg  ...           0        0    NaN   NaN         NaN   \n2   Pave   NaN      Reg  ...           0        0    NaN   NaN         NaN   \n3   Pave   NaN      Reg  ...         111        0    NaN   NaN         NaN   \n4   Pave   NaN      Reg  ...           0        0    NaN   NaN         NaN   \n\n  MiscVal MoSold YrSold SaleType  SaleCondition  \n0       0      3   2010      WD          Normal  \n1       0      2   2009      WD          Normal  \n2       0     11   2007      WD          Normal  \n3       0      5   2009      WD          Normal  \n4       0     11   2009      WD          Normal  \n\n[5 rows x 81 columns]",
      "text/html": "<div>\n<style scoped>\n    .dataframe tbody tr th:only-of-type {\n        vertical-align: middle;\n    }\n\n    .dataframe tbody tr th {\n        vertical-align: top;\n    }\n\n    .dataframe thead th {\n        text-align: right;\n    }\n</style>\n<table border=\"1\" class=\"dataframe\">\n  <thead>\n    <tr style=\"text-align: right;\">\n      <th></th>\n      <th>PID</th>\n      <th>GrLivArea</th>\n      <th>SalePrice</th>\n      <th>MSSubClass</th>\n      <th>MSZoning</th>\n      <th>LotFrontage</th>\n      <th>LotArea</th>\n      <th>Street</th>\n      <th>Alley</th>\n      <th>LotShape</th>\n      <th>...</th>\n      <th>ScreenPorch</th>\n      <th>PoolArea</th>\n      <th>PoolQC</th>\n      <th>Fence</th>\n      <th>MiscFeature</th>\n      <th>MiscVal</th>\n      <th>MoSold</th>\n      <th>YrSold</th>\n      <th>SaleType</th>\n      <th>SaleCondition</th>\n    </tr>\n  </thead>\n  <tbody>\n    <tr>\n      <th>0</th>\n      <td>909176150</td>\n      <td>856</td>\n      <td>126000</td>\n      <td>30</td>\n      <td>RL</td>\n      <td>NaN</td>\n      <td>7890</td>\n      <td>Pave</td>\n      <td>NaN</td>\n      <td>Reg</td>\n      <td>...</td>\n      <td>166</td>\n      <td>0</td>\n      <td>NaN</td>\n      <td>NaN</td>\n      <td>NaN</td>\n      <td>0</td>\n      <td>3</td>\n      <td>2010</td>\n      <td>WD</td>\n      <td>Normal</td>\n    </tr>\n    <tr>\n      <th>1</th>\n      <td>905476230</td>\n      <td>1049</td>\n      <td>139500</td>\n      <td>120</td>\n      <td>RL</td>\n      <td>42.0</td>\n      <td>4235</td>\n      <td>Pave</td>\n      <td>NaN</td>\n      <td>Reg</td>\n      <td>...</td>\n      <td>0</td>\n      <td>0</td>\n      <td>NaN</td>\n      <td>NaN</td>\n      <td>NaN</td>\n      <td>0</td>\n      <td>2</td>\n      <td>2009</td>\n      <td>WD</td>\n      <td>Normal</td>\n    </tr>\n    <tr>\n      <th>2</th>\n      <td>911128020</td>\n      <td>1001</td>\n      <td>124900</td>\n      <td>30</td>\n      <td>C (all)</td>\n      <td>60.0</td>\n      <td>6060</td>\n      <td>Pave</td>\n      <td>NaN</td>\n      <td>Reg</td>\n      <td>...</td>\n      <td>0</td>\n      <td>0</td>\n      <td>NaN</td>\n      <td>NaN</td>\n      <td>NaN</td>\n      <td>0</td>\n      <td>11</td>\n      <td>2007</td>\n      <td>WD</td>\n      <td>Normal</td>\n    </tr>\n    <tr>\n      <th>3</th>\n      <td>535377150</td>\n      <td>1039</td>\n      <td>114000</td>\n      <td>70</td>\n      <td>RL</td>\n      <td>80.0</td>\n      <td>8146</td>\n      <td>Pave</td>\n      <td>NaN</td>\n      <td>Reg</td>\n      <td>...</td>\n      <td>111</td>\n      <td>0</td>\n      <td>NaN</td>\n      <td>NaN</td>\n      <td>NaN</td>\n      <td>0</td>\n      <td>5</td>\n      <td>2009</td>\n      <td>WD</td>\n      <td>Normal</td>\n    </tr>\n    <tr>\n      <th>4</th>\n      <td>534177230</td>\n      <td>1665</td>\n      <td>227000</td>\n      <td>60</td>\n      <td>RL</td>\n      <td>70.0</td>\n      <td>8400</td>\n      <td>Pave</td>\n      <td>NaN</td>\n      <td>Reg</td>\n      <td>...</td>\n      <td>0</td>\n      <td>0</td>\n      <td>NaN</td>\n      <td>NaN</td>\n      <td>NaN</td>\n      <td>0</td>\n      <td>11</td>\n      <td>2009</td>\n      <td>WD</td>\n      <td>Normal</td>\n    </tr>\n  </tbody>\n</table>\n<p>5 rows × 81 columns</p>\n</div>"
     },
     "execution_count": 87,
     "metadata": {},
     "output_type": "execute_result"
    }
   ],
   "source": [
    "df = pd.read_csv(\"../data/Ames_Housing_Price_Data.csv\")\n",
    "df.drop(['Unnamed: 0'], axis=1, inplace=True)\n",
    "df.head()"
   ],
   "metadata": {
    "collapsed": false,
    "pycharm": {
     "name": "#%%\n"
    }
   }
  },
  {
   "cell_type": "code",
   "execution_count": 88,
   "outputs": [
    {
     "name": "stdout",
     "output_type": "stream",
     "text": [
      "<class 'pandas.core.frame.DataFrame'>\n",
      "RangeIndex: 2580 entries, 0 to 2579\n",
      "Data columns (total 81 columns):\n",
      " #   Column         Non-Null Count  Dtype  \n",
      "---  ------         --------------  -----  \n",
      " 0   PID            2580 non-null   int64  \n",
      " 1   GrLivArea      2580 non-null   int64  \n",
      " 2   SalePrice      2580 non-null   int64  \n",
      " 3   MSSubClass     2580 non-null   int64  \n",
      " 4   MSZoning       2580 non-null   object \n",
      " 5   LotFrontage    2118 non-null   float64\n",
      " 6   LotArea        2580 non-null   int64  \n",
      " 7   Street         2580 non-null   object \n",
      " 8   Alley          168 non-null    object \n",
      " 9   LotShape       2580 non-null   object \n",
      " 10  LandContour    2580 non-null   object \n",
      " 11  Utilities      2580 non-null   object \n",
      " 12  LotConfig      2580 non-null   object \n",
      " 13  LandSlope      2580 non-null   object \n",
      " 14  Neighborhood   2580 non-null   object \n",
      " 15  Condition1     2580 non-null   object \n",
      " 16  Condition2     2580 non-null   object \n",
      " 17  BldgType       2580 non-null   object \n",
      " 18  HouseStyle     2580 non-null   object \n",
      " 19  OverallQual    2580 non-null   int64  \n",
      " 20  OverallCond    2580 non-null   int64  \n",
      " 21  YearBuilt      2580 non-null   int64  \n",
      " 22  YearRemodAdd   2580 non-null   int64  \n",
      " 23  RoofStyle      2580 non-null   object \n",
      " 24  RoofMatl       2580 non-null   object \n",
      " 25  Exterior1st    2580 non-null   object \n",
      " 26  Exterior2nd    2580 non-null   object \n",
      " 27  MasVnrType     2566 non-null   object \n",
      " 28  MasVnrArea     2566 non-null   float64\n",
      " 29  ExterQual      2580 non-null   object \n",
      " 30  ExterCond      2580 non-null   object \n",
      " 31  Foundation     2580 non-null   object \n",
      " 32  BsmtQual       2511 non-null   object \n",
      " 33  BsmtCond       2511 non-null   object \n",
      " 34  BsmtExposure   2509 non-null   object \n",
      " 35  BsmtFinType1   2511 non-null   object \n",
      " 36  BsmtFinSF1     2579 non-null   float64\n",
      " 37  BsmtFinType2   2510 non-null   object \n",
      " 38  BsmtFinSF2     2579 non-null   float64\n",
      " 39  BsmtUnfSF      2579 non-null   float64\n",
      " 40  TotalBsmtSF    2579 non-null   float64\n",
      " 41  Heating        2580 non-null   object \n",
      " 42  HeatingQC      2580 non-null   object \n",
      " 43  CentralAir     2580 non-null   object \n",
      " 44  Electrical     2579 non-null   object \n",
      " 45  1stFlrSF       2580 non-null   int64  \n",
      " 46  2ndFlrSF       2580 non-null   int64  \n",
      " 47  LowQualFinSF   2580 non-null   int64  \n",
      " 48  BsmtFullBath   2578 non-null   float64\n",
      " 49  BsmtHalfBath   2578 non-null   float64\n",
      " 50  FullBath       2580 non-null   int64  \n",
      " 51  HalfBath       2580 non-null   int64  \n",
      " 52  BedroomAbvGr   2580 non-null   int64  \n",
      " 53  KitchenAbvGr   2580 non-null   int64  \n",
      " 54  KitchenQual    2580 non-null   object \n",
      " 55  TotRmsAbvGrd   2580 non-null   int64  \n",
      " 56  Functional     2580 non-null   object \n",
      " 57  Fireplaces     2580 non-null   int64  \n",
      " 58  FireplaceQu    1339 non-null   object \n",
      " 59  GarageType     2453 non-null   object \n",
      " 60  GarageYrBlt    2451 non-null   float64\n",
      " 61  GarageFinish   2451 non-null   object \n",
      " 62  GarageCars     2579 non-null   float64\n",
      " 63  GarageArea     2579 non-null   float64\n",
      " 64  GarageQual     2451 non-null   object \n",
      " 65  GarageCond     2451 non-null   object \n",
      " 66  PavedDrive     2580 non-null   object \n",
      " 67  WoodDeckSF     2580 non-null   int64  \n",
      " 68  OpenPorchSF    2580 non-null   int64  \n",
      " 69  EnclosedPorch  2580 non-null   int64  \n",
      " 70  3SsnPorch      2580 non-null   int64  \n",
      " 71  ScreenPorch    2580 non-null   int64  \n",
      " 72  PoolArea       2580 non-null   int64  \n",
      " 73  PoolQC         9 non-null      object \n",
      " 74  Fence          525 non-null    object \n",
      " 75  MiscFeature    97 non-null     object \n",
      " 76  MiscVal        2580 non-null   int64  \n",
      " 77  MoSold         2580 non-null   int64  \n",
      " 78  YrSold         2580 non-null   int64  \n",
      " 79  SaleType       2580 non-null   object \n",
      " 80  SaleCondition  2580 non-null   object \n",
      "dtypes: float64(11), int64(27), object(43)\n",
      "memory usage: 1.6+ MB\n"
     ]
    }
   ],
   "source": [
    "# column data types\n",
    "df.info()"
   ],
   "metadata": {
    "collapsed": false,
    "pycharm": {
     "name": "#%%\n"
    }
   }
  },
  {
   "cell_type": "code",
   "execution_count": 89,
   "outputs": [
    {
     "data": {
      "text/plain": "                PID    GrLivArea      SalePrice   MSSubClass  LotFrontage  \\\ncount  2.580000e+03  2580.000000    2580.000000  2580.000000  2118.000000   \nmean   7.148300e+08  1486.039922  178059.623256    57.691860    68.516053   \nstd    1.886626e+08   488.650181   75031.089374    42.802105    22.835831   \nmin    5.263011e+08   334.000000   12789.000000    20.000000    21.000000   \n25%    5.313630e+08  1112.000000  129975.000000    20.000000    57.000000   \n50%    5.354546e+08  1436.000000  159900.000000    50.000000    68.000000   \n75%    9.071811e+08  1733.000000  209625.000000    70.000000    80.000000   \nmax    1.007100e+09  4676.000000  755000.000000   190.000000   313.000000   \n\n             LotArea  OverallQual  OverallCond    YearBuilt  YearRemodAdd  \\\ncount    2580.000000  2580.000000  2580.000000  2580.000000   2580.000000   \nmean    10120.153488     6.046124     5.618605  1970.313953   1983.751938   \nstd      8126.937892     1.367590     1.122008    29.719705     20.490242   \nmin      1300.000000     1.000000     1.000000  1872.000000   1950.000000   \n25%      7406.750000     5.000000     5.000000  1953.000000   1965.000000   \n50%      9391.000000     6.000000     5.000000  1972.000000   1992.000000   \n75%     11494.000000     7.000000     6.000000  1999.000000   2003.000000   \nmax    215245.000000    10.000000     9.000000  2010.000000   2010.000000   \n\n       ...   GarageArea   WoodDeckSF  OpenPorchSF  EnclosedPorch    3SsnPorch  \\\ncount  ...  2579.000000  2580.000000  2580.000000    2580.000000  2580.000000   \nmean   ...   466.842575    95.919767    46.085271      23.214341     2.511240   \nstd    ...   207.476842   129.052016    66.060664      64.107825    25.293935   \nmin    ...     0.000000     0.000000     0.000000       0.000000     0.000000   \n25%    ...   318.000000     0.000000     0.000000       0.000000     0.000000   \n50%    ...   474.000000     0.000000    25.500000       0.000000     0.000000   \n75%    ...   576.000000   168.000000    68.000000       0.000000     0.000000   \nmax    ...  1488.000000  1424.000000   742.000000    1012.000000   508.000000   \n\n       ScreenPorch     PoolArea       MiscVal       MoSold       YrSold  \ncount  2580.000000  2580.000000   2580.000000  2580.000000  2580.000000  \nmean     16.200388     1.662016     48.731395     6.150775  2007.838372  \nstd      56.824783    30.339396    498.725058     2.670647     1.312333  \nmin       0.000000     0.000000      0.000000     1.000000  2006.000000  \n25%       0.000000     0.000000      0.000000     4.000000  2007.000000  \n50%       0.000000     0.000000      0.000000     6.000000  2008.000000  \n75%       0.000000     0.000000      0.000000     8.000000  2009.000000  \nmax     576.000000   800.000000  15500.000000    12.000000  2010.000000  \n\n[8 rows x 38 columns]",
      "text/html": "<div>\n<style scoped>\n    .dataframe tbody tr th:only-of-type {\n        vertical-align: middle;\n    }\n\n    .dataframe tbody tr th {\n        vertical-align: top;\n    }\n\n    .dataframe thead th {\n        text-align: right;\n    }\n</style>\n<table border=\"1\" class=\"dataframe\">\n  <thead>\n    <tr style=\"text-align: right;\">\n      <th></th>\n      <th>PID</th>\n      <th>GrLivArea</th>\n      <th>SalePrice</th>\n      <th>MSSubClass</th>\n      <th>LotFrontage</th>\n      <th>LotArea</th>\n      <th>OverallQual</th>\n      <th>OverallCond</th>\n      <th>YearBuilt</th>\n      <th>YearRemodAdd</th>\n      <th>...</th>\n      <th>GarageArea</th>\n      <th>WoodDeckSF</th>\n      <th>OpenPorchSF</th>\n      <th>EnclosedPorch</th>\n      <th>3SsnPorch</th>\n      <th>ScreenPorch</th>\n      <th>PoolArea</th>\n      <th>MiscVal</th>\n      <th>MoSold</th>\n      <th>YrSold</th>\n    </tr>\n  </thead>\n  <tbody>\n    <tr>\n      <th>count</th>\n      <td>2.580000e+03</td>\n      <td>2580.000000</td>\n      <td>2580.000000</td>\n      <td>2580.000000</td>\n      <td>2118.000000</td>\n      <td>2580.000000</td>\n      <td>2580.000000</td>\n      <td>2580.000000</td>\n      <td>2580.000000</td>\n      <td>2580.000000</td>\n      <td>...</td>\n      <td>2579.000000</td>\n      <td>2580.000000</td>\n      <td>2580.000000</td>\n      <td>2580.000000</td>\n      <td>2580.000000</td>\n      <td>2580.000000</td>\n      <td>2580.000000</td>\n      <td>2580.000000</td>\n      <td>2580.000000</td>\n      <td>2580.000000</td>\n    </tr>\n    <tr>\n      <th>mean</th>\n      <td>7.148300e+08</td>\n      <td>1486.039922</td>\n      <td>178059.623256</td>\n      <td>57.691860</td>\n      <td>68.516053</td>\n      <td>10120.153488</td>\n      <td>6.046124</td>\n      <td>5.618605</td>\n      <td>1970.313953</td>\n      <td>1983.751938</td>\n      <td>...</td>\n      <td>466.842575</td>\n      <td>95.919767</td>\n      <td>46.085271</td>\n      <td>23.214341</td>\n      <td>2.511240</td>\n      <td>16.200388</td>\n      <td>1.662016</td>\n      <td>48.731395</td>\n      <td>6.150775</td>\n      <td>2007.838372</td>\n    </tr>\n    <tr>\n      <th>std</th>\n      <td>1.886626e+08</td>\n      <td>488.650181</td>\n      <td>75031.089374</td>\n      <td>42.802105</td>\n      <td>22.835831</td>\n      <td>8126.937892</td>\n      <td>1.367590</td>\n      <td>1.122008</td>\n      <td>29.719705</td>\n      <td>20.490242</td>\n      <td>...</td>\n      <td>207.476842</td>\n      <td>129.052016</td>\n      <td>66.060664</td>\n      <td>64.107825</td>\n      <td>25.293935</td>\n      <td>56.824783</td>\n      <td>30.339396</td>\n      <td>498.725058</td>\n      <td>2.670647</td>\n      <td>1.312333</td>\n    </tr>\n    <tr>\n      <th>min</th>\n      <td>5.263011e+08</td>\n      <td>334.000000</td>\n      <td>12789.000000</td>\n      <td>20.000000</td>\n      <td>21.000000</td>\n      <td>1300.000000</td>\n      <td>1.000000</td>\n      <td>1.000000</td>\n      <td>1872.000000</td>\n      <td>1950.000000</td>\n      <td>...</td>\n      <td>0.000000</td>\n      <td>0.000000</td>\n      <td>0.000000</td>\n      <td>0.000000</td>\n      <td>0.000000</td>\n      <td>0.000000</td>\n      <td>0.000000</td>\n      <td>0.000000</td>\n      <td>1.000000</td>\n      <td>2006.000000</td>\n    </tr>\n    <tr>\n      <th>25%</th>\n      <td>5.313630e+08</td>\n      <td>1112.000000</td>\n      <td>129975.000000</td>\n      <td>20.000000</td>\n      <td>57.000000</td>\n      <td>7406.750000</td>\n      <td>5.000000</td>\n      <td>5.000000</td>\n      <td>1953.000000</td>\n      <td>1965.000000</td>\n      <td>...</td>\n      <td>318.000000</td>\n      <td>0.000000</td>\n      <td>0.000000</td>\n      <td>0.000000</td>\n      <td>0.000000</td>\n      <td>0.000000</td>\n      <td>0.000000</td>\n      <td>0.000000</td>\n      <td>4.000000</td>\n      <td>2007.000000</td>\n    </tr>\n    <tr>\n      <th>50%</th>\n      <td>5.354546e+08</td>\n      <td>1436.000000</td>\n      <td>159900.000000</td>\n      <td>50.000000</td>\n      <td>68.000000</td>\n      <td>9391.000000</td>\n      <td>6.000000</td>\n      <td>5.000000</td>\n      <td>1972.000000</td>\n      <td>1992.000000</td>\n      <td>...</td>\n      <td>474.000000</td>\n      <td>0.000000</td>\n      <td>25.500000</td>\n      <td>0.000000</td>\n      <td>0.000000</td>\n      <td>0.000000</td>\n      <td>0.000000</td>\n      <td>0.000000</td>\n      <td>6.000000</td>\n      <td>2008.000000</td>\n    </tr>\n    <tr>\n      <th>75%</th>\n      <td>9.071811e+08</td>\n      <td>1733.000000</td>\n      <td>209625.000000</td>\n      <td>70.000000</td>\n      <td>80.000000</td>\n      <td>11494.000000</td>\n      <td>7.000000</td>\n      <td>6.000000</td>\n      <td>1999.000000</td>\n      <td>2003.000000</td>\n      <td>...</td>\n      <td>576.000000</td>\n      <td>168.000000</td>\n      <td>68.000000</td>\n      <td>0.000000</td>\n      <td>0.000000</td>\n      <td>0.000000</td>\n      <td>0.000000</td>\n      <td>0.000000</td>\n      <td>8.000000</td>\n      <td>2009.000000</td>\n    </tr>\n    <tr>\n      <th>max</th>\n      <td>1.007100e+09</td>\n      <td>4676.000000</td>\n      <td>755000.000000</td>\n      <td>190.000000</td>\n      <td>313.000000</td>\n      <td>215245.000000</td>\n      <td>10.000000</td>\n      <td>9.000000</td>\n      <td>2010.000000</td>\n      <td>2010.000000</td>\n      <td>...</td>\n      <td>1488.000000</td>\n      <td>1424.000000</td>\n      <td>742.000000</td>\n      <td>1012.000000</td>\n      <td>508.000000</td>\n      <td>576.000000</td>\n      <td>800.000000</td>\n      <td>15500.000000</td>\n      <td>12.000000</td>\n      <td>2010.000000</td>\n    </tr>\n  </tbody>\n</table>\n<p>8 rows × 38 columns</p>\n</div>"
     },
     "execution_count": 89,
     "metadata": {},
     "output_type": "execute_result"
    }
   ],
   "source": [
    "# see counts to quickly find missing values. count should be 2590\n",
    "df.describe()"
   ],
   "metadata": {
    "collapsed": false,
    "pycharm": {
     "name": "#%%\n"
    }
   }
  },
  {
   "cell_type": "markdown",
   "source": [
    "# Missing Values / NaNs\n",
    "We see that we have a lot of NaNs in our data. However, this is not necessarily missing data! E.g., a NaN in column `Alley` means there is No Alley\n",
    "See: data dictionary for details"
   ],
   "metadata": {
    "collapsed": false
   }
  },
  {
   "cell_type": "code",
   "execution_count": 90,
   "outputs": [
    {
     "name": "stdout",
     "output_type": "stream",
     "text": [
      "The columns with missing values are %s Index(['LotFrontage', 'Alley', 'MasVnrType', 'MasVnrArea', 'BsmtQual',\n",
      "       'BsmtCond', 'BsmtExposure', 'BsmtFinType1', 'BsmtFinSF1',\n",
      "       'BsmtFinType2', 'BsmtFinSF2', 'BsmtUnfSF', 'TotalBsmtSF', 'Electrical',\n",
      "       'BsmtFullBath', 'BsmtHalfBath', 'FireplaceQu', 'GarageType',\n",
      "       'GarageYrBlt', 'GarageFinish', 'GarageCars', 'GarageArea', 'GarageQual',\n",
      "       'GarageCond', 'PoolQC', 'Fence', 'MiscFeature'],\n",
      "      dtype='object')\n"
     ]
    }
   ],
   "source": [
    "missingCols = df.isnull().any()\n",
    "print(f'The columns with missing values are %s {df.columns[missingCols]}')\n",
    "# ncbirths = ncbirths.drop(missingRows.ID)"
   ],
   "metadata": {
    "collapsed": false,
    "pycharm": {
     "name": "#%%\n"
    }
   }
  },
  {
   "cell_type": "code",
   "execution_count": 91,
   "outputs": [],
   "source": [
    "missingRows = df[df.isnull().any(axis=1)]"
   ],
   "metadata": {
    "collapsed": false,
    "pycharm": {
     "name": "#%%\n"
    }
   }
  },
  {
   "cell_type": "code",
   "execution_count": 92,
   "outputs": [
    {
     "data": {
      "text/plain": "            PID  GrLivArea  SalePrice  MSSubClass MSZoning  LotFrontage  \\\n0     909176150        856     126000          30       RL          NaN   \n1     905476230       1049     139500         120       RL         42.0   \n2     911128020       1001     124900          30  C (all)         60.0   \n3     535377150       1039     114000          70       RL         80.0   \n4     534177230       1665     227000          60       RL         70.0   \n...         ...        ...        ...         ...      ...          ...   \n2575  903205040        952     121000          30       RL          NaN   \n2576  905402060       1733     139600          20       RL          NaN   \n2577  909275030       2002     145000          90       RH         82.0   \n2578  907192040       1842     217500          60       RL          NaN   \n2579  906223180       1911     215000          60       RL         80.0   \n\n      LotArea Street Alley LotShape  ... ScreenPorch PoolArea PoolQC Fence  \\\n0        7890   Pave   NaN      Reg  ...         166        0    NaN   NaN   \n1        4235   Pave   NaN      Reg  ...           0        0    NaN   NaN   \n2        6060   Pave   NaN      Reg  ...           0        0    NaN   NaN   \n3        8146   Pave   NaN      Reg  ...         111        0    NaN   NaN   \n4        8400   Pave   NaN      Reg  ...           0        0    NaN   NaN   \n...       ...    ...   ...      ...  ...         ...      ...    ...   ...   \n2575     8854   Pave   NaN      Reg  ...          40        0    NaN   NaN   \n2576    13680   Pave   NaN      IR1  ...           0        0    NaN   NaN   \n2577     6270   Pave   NaN      Reg  ...           0        0    NaN   NaN   \n2578     8826   Pave   NaN      Reg  ...           0        0    NaN   NaN   \n2579     9554   Pave   NaN      IR1  ...           0        0    NaN   NaN   \n\n     MiscFeature MiscVal MoSold YrSold SaleType  SaleCondition  \n0            NaN       0      3   2010      WD          Normal  \n1            NaN       0      2   2009      WD          Normal  \n2            NaN       0     11   2007      WD          Normal  \n3            NaN       0      5   2009      WD          Normal  \n4            NaN       0     11   2009      WD          Normal  \n...          ...     ...    ...    ...      ...            ...  \n2575         NaN       0      5   2009      WD          Normal  \n2576         NaN       0      6   2009      WD          Normal  \n2577         NaN       0      8   2007      WD          Normal  \n2578         NaN       0      7   2007      WD          Normal  \n2579         NaN       0      9   2006      WD          Normal  \n\n[2580 rows x 81 columns]",
      "text/html": "<div>\n<style scoped>\n    .dataframe tbody tr th:only-of-type {\n        vertical-align: middle;\n    }\n\n    .dataframe tbody tr th {\n        vertical-align: top;\n    }\n\n    .dataframe thead th {\n        text-align: right;\n    }\n</style>\n<table border=\"1\" class=\"dataframe\">\n  <thead>\n    <tr style=\"text-align: right;\">\n      <th></th>\n      <th>PID</th>\n      <th>GrLivArea</th>\n      <th>SalePrice</th>\n      <th>MSSubClass</th>\n      <th>MSZoning</th>\n      <th>LotFrontage</th>\n      <th>LotArea</th>\n      <th>Street</th>\n      <th>Alley</th>\n      <th>LotShape</th>\n      <th>...</th>\n      <th>ScreenPorch</th>\n      <th>PoolArea</th>\n      <th>PoolQC</th>\n      <th>Fence</th>\n      <th>MiscFeature</th>\n      <th>MiscVal</th>\n      <th>MoSold</th>\n      <th>YrSold</th>\n      <th>SaleType</th>\n      <th>SaleCondition</th>\n    </tr>\n  </thead>\n  <tbody>\n    <tr>\n      <th>0</th>\n      <td>909176150</td>\n      <td>856</td>\n      <td>126000</td>\n      <td>30</td>\n      <td>RL</td>\n      <td>NaN</td>\n      <td>7890</td>\n      <td>Pave</td>\n      <td>NaN</td>\n      <td>Reg</td>\n      <td>...</td>\n      <td>166</td>\n      <td>0</td>\n      <td>NaN</td>\n      <td>NaN</td>\n      <td>NaN</td>\n      <td>0</td>\n      <td>3</td>\n      <td>2010</td>\n      <td>WD</td>\n      <td>Normal</td>\n    </tr>\n    <tr>\n      <th>1</th>\n      <td>905476230</td>\n      <td>1049</td>\n      <td>139500</td>\n      <td>120</td>\n      <td>RL</td>\n      <td>42.0</td>\n      <td>4235</td>\n      <td>Pave</td>\n      <td>NaN</td>\n      <td>Reg</td>\n      <td>...</td>\n      <td>0</td>\n      <td>0</td>\n      <td>NaN</td>\n      <td>NaN</td>\n      <td>NaN</td>\n      <td>0</td>\n      <td>2</td>\n      <td>2009</td>\n      <td>WD</td>\n      <td>Normal</td>\n    </tr>\n    <tr>\n      <th>2</th>\n      <td>911128020</td>\n      <td>1001</td>\n      <td>124900</td>\n      <td>30</td>\n      <td>C (all)</td>\n      <td>60.0</td>\n      <td>6060</td>\n      <td>Pave</td>\n      <td>NaN</td>\n      <td>Reg</td>\n      <td>...</td>\n      <td>0</td>\n      <td>0</td>\n      <td>NaN</td>\n      <td>NaN</td>\n      <td>NaN</td>\n      <td>0</td>\n      <td>11</td>\n      <td>2007</td>\n      <td>WD</td>\n      <td>Normal</td>\n    </tr>\n    <tr>\n      <th>3</th>\n      <td>535377150</td>\n      <td>1039</td>\n      <td>114000</td>\n      <td>70</td>\n      <td>RL</td>\n      <td>80.0</td>\n      <td>8146</td>\n      <td>Pave</td>\n      <td>NaN</td>\n      <td>Reg</td>\n      <td>...</td>\n      <td>111</td>\n      <td>0</td>\n      <td>NaN</td>\n      <td>NaN</td>\n      <td>NaN</td>\n      <td>0</td>\n      <td>5</td>\n      <td>2009</td>\n      <td>WD</td>\n      <td>Normal</td>\n    </tr>\n    <tr>\n      <th>4</th>\n      <td>534177230</td>\n      <td>1665</td>\n      <td>227000</td>\n      <td>60</td>\n      <td>RL</td>\n      <td>70.0</td>\n      <td>8400</td>\n      <td>Pave</td>\n      <td>NaN</td>\n      <td>Reg</td>\n      <td>...</td>\n      <td>0</td>\n      <td>0</td>\n      <td>NaN</td>\n      <td>NaN</td>\n      <td>NaN</td>\n      <td>0</td>\n      <td>11</td>\n      <td>2009</td>\n      <td>WD</td>\n      <td>Normal</td>\n    </tr>\n    <tr>\n      <th>...</th>\n      <td>...</td>\n      <td>...</td>\n      <td>...</td>\n      <td>...</td>\n      <td>...</td>\n      <td>...</td>\n      <td>...</td>\n      <td>...</td>\n      <td>...</td>\n      <td>...</td>\n      <td>...</td>\n      <td>...</td>\n      <td>...</td>\n      <td>...</td>\n      <td>...</td>\n      <td>...</td>\n      <td>...</td>\n      <td>...</td>\n      <td>...</td>\n      <td>...</td>\n      <td>...</td>\n    </tr>\n    <tr>\n      <th>2575</th>\n      <td>903205040</td>\n      <td>952</td>\n      <td>121000</td>\n      <td>30</td>\n      <td>RL</td>\n      <td>NaN</td>\n      <td>8854</td>\n      <td>Pave</td>\n      <td>NaN</td>\n      <td>Reg</td>\n      <td>...</td>\n      <td>40</td>\n      <td>0</td>\n      <td>NaN</td>\n      <td>NaN</td>\n      <td>NaN</td>\n      <td>0</td>\n      <td>5</td>\n      <td>2009</td>\n      <td>WD</td>\n      <td>Normal</td>\n    </tr>\n    <tr>\n      <th>2576</th>\n      <td>905402060</td>\n      <td>1733</td>\n      <td>139600</td>\n      <td>20</td>\n      <td>RL</td>\n      <td>NaN</td>\n      <td>13680</td>\n      <td>Pave</td>\n      <td>NaN</td>\n      <td>IR1</td>\n      <td>...</td>\n      <td>0</td>\n      <td>0</td>\n      <td>NaN</td>\n      <td>NaN</td>\n      <td>NaN</td>\n      <td>0</td>\n      <td>6</td>\n      <td>2009</td>\n      <td>WD</td>\n      <td>Normal</td>\n    </tr>\n    <tr>\n      <th>2577</th>\n      <td>909275030</td>\n      <td>2002</td>\n      <td>145000</td>\n      <td>90</td>\n      <td>RH</td>\n      <td>82.0</td>\n      <td>6270</td>\n      <td>Pave</td>\n      <td>NaN</td>\n      <td>Reg</td>\n      <td>...</td>\n      <td>0</td>\n      <td>0</td>\n      <td>NaN</td>\n      <td>NaN</td>\n      <td>NaN</td>\n      <td>0</td>\n      <td>8</td>\n      <td>2007</td>\n      <td>WD</td>\n      <td>Normal</td>\n    </tr>\n    <tr>\n      <th>2578</th>\n      <td>907192040</td>\n      <td>1842</td>\n      <td>217500</td>\n      <td>60</td>\n      <td>RL</td>\n      <td>NaN</td>\n      <td>8826</td>\n      <td>Pave</td>\n      <td>NaN</td>\n      <td>Reg</td>\n      <td>...</td>\n      <td>0</td>\n      <td>0</td>\n      <td>NaN</td>\n      <td>NaN</td>\n      <td>NaN</td>\n      <td>0</td>\n      <td>7</td>\n      <td>2007</td>\n      <td>WD</td>\n      <td>Normal</td>\n    </tr>\n    <tr>\n      <th>2579</th>\n      <td>906223180</td>\n      <td>1911</td>\n      <td>215000</td>\n      <td>60</td>\n      <td>RL</td>\n      <td>80.0</td>\n      <td>9554</td>\n      <td>Pave</td>\n      <td>NaN</td>\n      <td>IR1</td>\n      <td>...</td>\n      <td>0</td>\n      <td>0</td>\n      <td>NaN</td>\n      <td>NaN</td>\n      <td>NaN</td>\n      <td>0</td>\n      <td>9</td>\n      <td>2006</td>\n      <td>WD</td>\n      <td>Normal</td>\n    </tr>\n  </tbody>\n</table>\n<p>2580 rows × 81 columns</p>\n</div>"
     },
     "execution_count": 92,
     "metadata": {},
     "output_type": "execute_result"
    }
   ],
   "source": [
    "missingRows"
   ],
   "metadata": {
    "collapsed": false,
    "pycharm": {
     "name": "#%%\n"
    }
   }
  },
  {
   "cell_type": "markdown",
   "source": [
    "# Duplicate Properties"
   ],
   "metadata": {
    "collapsed": false,
    "pycharm": {
     "name": "#%% md\n"
    }
   }
  },
  {
   "cell_type": "code",
   "execution_count": 93,
   "outputs": [
    {
     "data": {
      "text/plain": "False"
     },
     "execution_count": 93,
     "metadata": {},
     "output_type": "execute_result"
    }
   ],
   "source": [
    "# We see that there are duplicate PIDs\n",
    "df.PID.is_unique\n",
    "# or do\n",
    "# df.PID.duplicated().any()"
   ],
   "metadata": {
    "collapsed": false,
    "pycharm": {
     "name": "#%%\n"
    }
   }
  },
  {
   "cell_type": "code",
   "execution_count": 94,
   "outputs": [
    {
     "data": {
      "text/plain": "            PID  GrLivArea  SalePrice  MSSubClass MSZoning  LotFrontage  \\\n1817  909276070       1717     194000          50       RL         80.0   \n\n      LotArea Street Alley LotShape  ... ScreenPorch PoolArea PoolQC Fence  \\\n1817    12400   Pave   NaN      Reg  ...         113        0    NaN   NaN   \n\n     MiscFeature MiscVal MoSold YrSold SaleType  SaleCondition  \n1817         NaN       0      2   2006      WD          Normal  \n\n[1 rows x 81 columns]",
      "text/html": "<div>\n<style scoped>\n    .dataframe tbody tr th:only-of-type {\n        vertical-align: middle;\n    }\n\n    .dataframe tbody tr th {\n        vertical-align: top;\n    }\n\n    .dataframe thead th {\n        text-align: right;\n    }\n</style>\n<table border=\"1\" class=\"dataframe\">\n  <thead>\n    <tr style=\"text-align: right;\">\n      <th></th>\n      <th>PID</th>\n      <th>GrLivArea</th>\n      <th>SalePrice</th>\n      <th>MSSubClass</th>\n      <th>MSZoning</th>\n      <th>LotFrontage</th>\n      <th>LotArea</th>\n      <th>Street</th>\n      <th>Alley</th>\n      <th>LotShape</th>\n      <th>...</th>\n      <th>ScreenPorch</th>\n      <th>PoolArea</th>\n      <th>PoolQC</th>\n      <th>Fence</th>\n      <th>MiscFeature</th>\n      <th>MiscVal</th>\n      <th>MoSold</th>\n      <th>YrSold</th>\n      <th>SaleType</th>\n      <th>SaleCondition</th>\n    </tr>\n  </thead>\n  <tbody>\n    <tr>\n      <th>1817</th>\n      <td>909276070</td>\n      <td>1717</td>\n      <td>194000</td>\n      <td>50</td>\n      <td>RL</td>\n      <td>80.0</td>\n      <td>12400</td>\n      <td>Pave</td>\n      <td>NaN</td>\n      <td>Reg</td>\n      <td>...</td>\n      <td>113</td>\n      <td>0</td>\n      <td>NaN</td>\n      <td>NaN</td>\n      <td>NaN</td>\n      <td>0</td>\n      <td>2</td>\n      <td>2006</td>\n      <td>WD</td>\n      <td>Normal</td>\n    </tr>\n  </tbody>\n</table>\n<p>1 rows × 81 columns</p>\n</div>"
     },
     "execution_count": 94,
     "metadata": {},
     "output_type": "execute_result"
    }
   ],
   "source": [
    "# We have one duplicated row\n",
    "df[df.PID.duplicated()] # PID 909276070 is a dupe!"
   ],
   "metadata": {
    "collapsed": false,
    "pycharm": {
     "name": "#%%\n"
    }
   }
  },
  {
   "cell_type": "code",
   "execution_count": 95,
   "outputs": [
    {
     "data": {
      "text/plain": "            PID  GrLivArea  SalePrice  MSSubClass MSZoning  LotFrontage  \\\n1816  909276070       1717     194000          50       RL         80.0   \n1817  909276070       1717     194000          50       RL         80.0   \n\n      LotArea Street Alley LotShape  ... ScreenPorch PoolArea PoolQC Fence  \\\n1816    12400   Pave   NaN      Reg  ...         113        0    NaN   NaN   \n1817    12400   Pave   NaN      Reg  ...         113        0    NaN   NaN   \n\n     MiscFeature MiscVal MoSold YrSold SaleType  SaleCondition  \n1816         NaN       0      2   2006      WD          Normal  \n1817         NaN       0      2   2006      WD          Normal  \n\n[2 rows x 81 columns]",
      "text/html": "<div>\n<style scoped>\n    .dataframe tbody tr th:only-of-type {\n        vertical-align: middle;\n    }\n\n    .dataframe tbody tr th {\n        vertical-align: top;\n    }\n\n    .dataframe thead th {\n        text-align: right;\n    }\n</style>\n<table border=\"1\" class=\"dataframe\">\n  <thead>\n    <tr style=\"text-align: right;\">\n      <th></th>\n      <th>PID</th>\n      <th>GrLivArea</th>\n      <th>SalePrice</th>\n      <th>MSSubClass</th>\n      <th>MSZoning</th>\n      <th>LotFrontage</th>\n      <th>LotArea</th>\n      <th>Street</th>\n      <th>Alley</th>\n      <th>LotShape</th>\n      <th>...</th>\n      <th>ScreenPorch</th>\n      <th>PoolArea</th>\n      <th>PoolQC</th>\n      <th>Fence</th>\n      <th>MiscFeature</th>\n      <th>MiscVal</th>\n      <th>MoSold</th>\n      <th>YrSold</th>\n      <th>SaleType</th>\n      <th>SaleCondition</th>\n    </tr>\n  </thead>\n  <tbody>\n    <tr>\n      <th>1816</th>\n      <td>909276070</td>\n      <td>1717</td>\n      <td>194000</td>\n      <td>50</td>\n      <td>RL</td>\n      <td>80.0</td>\n      <td>12400</td>\n      <td>Pave</td>\n      <td>NaN</td>\n      <td>Reg</td>\n      <td>...</td>\n      <td>113</td>\n      <td>0</td>\n      <td>NaN</td>\n      <td>NaN</td>\n      <td>NaN</td>\n      <td>0</td>\n      <td>2</td>\n      <td>2006</td>\n      <td>WD</td>\n      <td>Normal</td>\n    </tr>\n    <tr>\n      <th>1817</th>\n      <td>909276070</td>\n      <td>1717</td>\n      <td>194000</td>\n      <td>50</td>\n      <td>RL</td>\n      <td>80.0</td>\n      <td>12400</td>\n      <td>Pave</td>\n      <td>NaN</td>\n      <td>Reg</td>\n      <td>...</td>\n      <td>113</td>\n      <td>0</td>\n      <td>NaN</td>\n      <td>NaN</td>\n      <td>NaN</td>\n      <td>0</td>\n      <td>2</td>\n      <td>2006</td>\n      <td>WD</td>\n      <td>Normal</td>\n    </tr>\n  </tbody>\n</table>\n<p>2 rows × 81 columns</p>\n</div>"
     },
     "execution_count": 95,
     "metadata": {},
     "output_type": "execute_result"
    }
   ],
   "source": [
    "# We manually verify that the rows are identical\n",
    "df[df['PID'] == 909276070]"
   ],
   "metadata": {
    "collapsed": false,
    "pycharm": {
     "name": "#%%\n"
    }
   }
  },
  {
   "cell_type": "code",
   "execution_count": 96,
   "outputs": [],
   "source": [
    "# Drop the dupe and we have 2579 rows now\n",
    "df.drop_duplicates(inplace=True)"
   ],
   "metadata": {
    "collapsed": false,
    "pycharm": {
     "name": "#%%\n"
    }
   }
  },
  {
   "cell_type": "markdown",
   "source": [
    "# SalePrice"
   ],
   "metadata": {
    "collapsed": false,
    "pycharm": {
     "name": "#%% md\n"
    }
   }
  },
  {
   "cell_type": "code",
   "execution_count": 149,
   "outputs": [
    {
     "data": {
      "text/plain": "<Figure size 1152x576 with 1 Axes>",
      "image/png": "[encoded data removed]"
     },
     "metadata": {
      "needs_background": "light"
     },
     "output_type": "display_data"
    }
   ],
   "source": [
    "# df.SalePrice.hist(bins=30)\n",
    "# df.SalePrice.plot.kde()\n",
    "plt.figure(figsize=(16,8))\n",
    "sns.histplot(df.SalePrice, bins=30, kde=True)\n",
    "plt.title(\"Ames Property Sale Prices\")\n",
    "plt.xlabel(\"Sale Price ($)\")\n",
    "plt.ylabel(\"Count and Density\")\n",
    "plt.show()"
   ],
   "metadata": {
    "collapsed": false,
    "pycharm": {
     "name": "#%%\n"
    }
   }
  },
  {
   "cell_type": "markdown",
   "source": [
    "# Sale Details\n",
    "Let's look at SalePrice by SaleType, SaleCondition, MSSubClass (type of dwelling)"
   ],
   "metadata": {
    "collapsed": false,
    "pycharm": {
     "name": "#%% md\n"
    }
   }
  },
  {
   "cell_type": "code",
   "execution_count": 150,
   "outputs": [
    {
     "data": {
      "text/plain": "       SaleType   Percent\nWD         2391  0.927104\nNew          79  0.030632\nCOD          50  0.019387\nConLD        23  0.008918\nCWD          11  0.004265\nConLw         8  0.003102\nConLI         7  0.002714\nCon           5  0.001939\nOth           4  0.001551\nVWD           1  0.000388",
      "text/html": "<div>\n<style scoped>\n    .dataframe tbody tr th:only-of-type {\n        vertical-align: middle;\n    }\n\n    .dataframe tbody tr th {\n        vertical-align: top;\n    }\n\n    .dataframe thead th {\n        text-align: right;\n    }\n</style>\n<table border=\"1\" class=\"dataframe\">\n  <thead>\n    <tr style=\"text-align: right;\">\n      <th></th>\n      <th>SaleType</th>\n      <th>Percent</th>\n    </tr>\n  </thead>\n  <tbody>\n    <tr>\n      <th>WD</th>\n      <td>2391</td>\n      <td>0.927104</td>\n    </tr>\n    <tr>\n      <th>New</th>\n      <td>79</td>\n      <td>0.030632</td>\n    </tr>\n    <tr>\n      <th>COD</th>\n      <td>50</td>\n      <td>0.019387</td>\n    </tr>\n    <tr>\n      <th>ConLD</th>\n      <td>23</td>\n      <td>0.008918</td>\n    </tr>\n    <tr>\n      <th>CWD</th>\n      <td>11</td>\n      <td>0.004265</td>\n    </tr>\n    <tr>\n      <th>ConLw</th>\n      <td>8</td>\n      <td>0.003102</td>\n    </tr>\n    <tr>\n      <th>ConLI</th>\n      <td>7</td>\n      <td>0.002714</td>\n    </tr>\n    <tr>\n      <th>Con</th>\n      <td>5</td>\n      <td>0.001939</td>\n    </tr>\n    <tr>\n      <th>Oth</th>\n      <td>4</td>\n      <td>0.001551</td>\n    </tr>\n    <tr>\n      <th>VWD</th>\n      <td>1</td>\n      <td>0.000388</td>\n    </tr>\n  </tbody>\n</table>\n</div>"
     },
     "execution_count": 150,
     "metadata": {},
     "output_type": "execute_result"
    }
   ],
   "source": [
    "# We see that most SaleTypes are `WD` (Warranty Deed - Conventional)\n",
    "pd.concat([df.SaleType.value_counts(),\n",
    "           (df.SaleType.value_counts()/len(df)).rename(\"Percent\")], axis=1)"
   ],
   "metadata": {
    "collapsed": false,
    "pycharm": {
     "name": "#%%\n"
    }
   }
  },
  {
   "cell_type": "code",
   "execution_count": 146,
   "outputs": [
    {
     "data": {
      "text/plain": "         SaleCondition   Percent\nNormal            2413  0.935634\nPartial             82  0.031795\nAbnorml             61  0.023653\nFamily              17  0.006592\nAlloca               4  0.001551\nAdjLand              2  0.000775",
      "text/html": "<div>\n<style scoped>\n    .dataframe tbody tr th:only-of-type {\n        vertical-align: middle;\n    }\n\n    .dataframe tbody tr th {\n        vertical-align: top;\n    }\n\n    .dataframe thead th {\n        text-align: right;\n    }\n</style>\n<table border=\"1\" class=\"dataframe\">\n  <thead>\n    <tr style=\"text-align: right;\">\n      <th></th>\n      <th>SaleCondition</th>\n      <th>Percent</th>\n    </tr>\n  </thead>\n  <tbody>\n    <tr>\n      <th>Normal</th>\n      <td>2413</td>\n      <td>0.935634</td>\n    </tr>\n    <tr>\n      <th>Partial</th>\n      <td>82</td>\n      <td>0.031795</td>\n    </tr>\n    <tr>\n      <th>Abnorml</th>\n      <td>61</td>\n      <td>0.023653</td>\n    </tr>\n    <tr>\n      <th>Family</th>\n      <td>17</td>\n      <td>0.006592</td>\n    </tr>\n    <tr>\n      <th>Alloca</th>\n      <td>4</td>\n      <td>0.001551</td>\n    </tr>\n    <tr>\n      <th>AdjLand</th>\n      <td>2</td>\n      <td>0.000775</td>\n    </tr>\n  </tbody>\n</table>\n</div>"
     },
     "execution_count": 146,
     "metadata": {},
     "output_type": "execute_result"
    }
   ],
   "source": [
    "# We see that most SaleCondition are `Normal`\n",
    "pd.concat([df.SaleCondition.value_counts(),\n",
    "           (df.SaleCondition.value_counts()/len(df)).rename(\"Percent\")], axis=1)"
   ],
   "metadata": {
    "collapsed": false,
    "pycharm": {
     "name": "#%%\n"
    }
   }
  },
  {
   "cell_type": "code",
   "execution_count": 176,
   "outputs": [
    {
     "data": {
      "text/plain": "                                            MSSubClass  Count   Percent\n20                     1-STORY 1946 & NEWER ALL STYLES    939  0.364095\n60                                2-STORY 1946 & NEWER    502  0.194649\n50                       1-1/2 STORY FINISHED ALL AGES    258  0.100039\n120  1-STORY PUD (Planned Unit Development) - 1946 ...    169  0.065529\n30                                1-STORY 1945 & OLDER    123  0.047693\n160                         2-STORY PUD - 1946 & NEWER    120  0.046530\n70                                2-STORY 1945 & OLDER    116  0.044979\n80                                SPLIT OR MULTI-LEVEL    109  0.042264\n90                        DUPLEX - ALL STYLES AND AGES     87  0.033734\n190          2 FAMILY CONVERSION - ALL STYLES AND AGES     53  0.020551\n85                                         SPLIT FOYER     43  0.016673\n75                                2-1/2 STORY ALL AGES     21  0.008143\n45                   1-1/2 STORY - UNFINISHED ALL AGES     17  0.006592\n180            PUD - MULTILEVEL - INCL SPLIT LEV/FOYER     15  0.005816\n40                   1-STORY W/FINISHED ATTIC ALL AGES      6  0.002326\n150                         1-1/2 STORY PUD - ALL AGES      1  0.000388",
      "text/html": "<div>\n<style scoped>\n    .dataframe tbody tr th:only-of-type {\n        vertical-align: middle;\n    }\n\n    .dataframe tbody tr th {\n        vertical-align: top;\n    }\n\n    .dataframe thead th {\n        text-align: right;\n    }\n</style>\n<table border=\"1\" class=\"dataframe\">\n  <thead>\n    <tr style=\"text-align: right;\">\n      <th></th>\n      <th>MSSubClass</th>\n      <th>Count</th>\n      <th>Percent</th>\n    </tr>\n  </thead>\n  <tbody>\n    <tr>\n      <th>20</th>\n      <td>1-STORY 1946 &amp; NEWER ALL STYLES</td>\n      <td>939</td>\n      <td>0.364095</td>\n    </tr>\n    <tr>\n      <th>60</th>\n      <td>2-STORY 1946 &amp; NEWER</td>\n      <td>502</td>\n      <td>0.194649</td>\n    </tr>\n    <tr>\n      <th>50</th>\n      <td>1-1/2 STORY FINISHED ALL AGES</td>\n      <td>258</td>\n      <td>0.100039</td>\n    </tr>\n    <tr>\n      <th>120</th>\n      <td>1-STORY PUD (Planned Unit Development) - 1946 ...</td>\n      <td>169</td>\n      <td>0.065529</td>\n    </tr>\n    <tr>\n      <th>30</th>\n      <td>1-STORY 1945 &amp; OLDER</td>\n      <td>123</td>\n      <td>0.047693</td>\n    </tr>\n    <tr>\n      <th>160</th>\n      <td>2-STORY PUD - 1946 &amp; NEWER</td>\n      <td>120</td>\n      <td>0.046530</td>\n    </tr>\n    <tr>\n      <th>70</th>\n      <td>2-STORY 1945 &amp; OLDER</td>\n      <td>116</td>\n      <td>0.044979</td>\n    </tr>\n    <tr>\n      <th>80</th>\n      <td>SPLIT OR MULTI-LEVEL</td>\n      <td>109</td>\n      <td>0.042264</td>\n    </tr>\n    <tr>\n      <th>90</th>\n      <td>DUPLEX - ALL STYLES AND AGES</td>\n      <td>87</td>\n      <td>0.033734</td>\n    </tr>\n    <tr>\n      <th>190</th>\n      <td>2 FAMILY CONVERSION - ALL STYLES AND AGES</td>\n      <td>53</td>\n      <td>0.020551</td>\n    </tr>\n    <tr>\n      <th>85</th>\n      <td>SPLIT FOYER</td>\n      <td>43</td>\n      <td>0.016673</td>\n    </tr>\n    <tr>\n      <th>75</th>\n      <td>2-1/2 STORY ALL AGES</td>\n      <td>21</td>\n      <td>0.008143</td>\n    </tr>\n    <tr>\n      <th>45</th>\n      <td>1-1/2 STORY - UNFINISHED ALL AGES</td>\n      <td>17</td>\n      <td>0.006592</td>\n    </tr>\n    <tr>\n      <th>180</th>\n      <td>PUD - MULTILEVEL - INCL SPLIT LEV/FOYER</td>\n      <td>15</td>\n      <td>0.005816</td>\n    </tr>\n    <tr>\n      <th>40</th>\n      <td>1-STORY W/FINISHED ATTIC ALL AGES</td>\n      <td>6</td>\n      <td>0.002326</td>\n    </tr>\n    <tr>\n      <th>150</th>\n      <td>1-1/2 STORY PUD - ALL AGES</td>\n      <td>1</td>\n      <td>0.000388</td>\n    </tr>\n  </tbody>\n</table>\n</div>"
     },
     "execution_count": 176,
     "metadata": {},
     "output_type": "execute_result"
    }
   ],
   "source": [
    "# We see that most Dwelling Types (MSSubClass) are `20` or `60`\n",
    "pd.concat([data_dict.MSSubClass,\n",
    "           df.MSSubClass.value_counts().rename(\"Count\"),\n",
    "           (df.MSSubClass.value_counts()/len(df)).rename(\"Percent\")], axis=1)\\\n",
    "    .sort_values('Count', ascending=False)"
   ],
   "metadata": {
    "collapsed": false,
    "pycharm": {
     "name": "#%%\n"
    }
   }
  },
  {
   "cell_type": "code",
   "execution_count": null,
   "outputs": [],
   "source": [],
   "metadata": {
    "collapsed": false,
    "pycharm": {
     "name": "#%%\n"
    }
   }
  }
 ],
 "metadata": {
  "kernelspec": {
   "display_name": "Python 3",
   "language": "python",
   "name": "python3"
  },
  "language_info": {
   "codemirror_mode": {
    "name": "ipython",
    "version": 2
   },
   "file_extension": ".py",
   "mimetype": "text/x-python",
   "name": "python",
   "nbconvert_exporter": "python",
   "pygments_lexer": "ipython2",
   "version": "2.7.6"
  }
 },
 "nbformat": 4,
 "nbformat_minor": 0
}