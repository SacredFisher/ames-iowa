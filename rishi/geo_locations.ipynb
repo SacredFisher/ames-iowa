{
 "cells": [
  {
   "cell_type": "markdown",
   "metadata": {
    "collapsed": true,
    "pycharm": {
     "name": "#%% md\n"
    }
   },
   "source": [
    "This notebook is used to get geo locations for addresses in the housing dataset.\n",
    "WARNING: Does not currently remove duplicate properties\n",
    "\n",
    "Reads `Ames_Real_Estate_Data.csv` and `Ames_Housing_Price_Data.csv`\n",
    "Writes `housing_geolocation.csv` with location columns `latitude` and `longitude`"
   ]
  },
  {
   "cell_type": "code",
   "execution_count": 1,
   "outputs": [],
   "source": [
    "# See: https://geopy.readthedocs.io/en/stable/#usage-with-pandas\n",
    "\n",
    "import pandas as pd\n",
    "from geopy import Nominatim\n",
    "from geopy.extra.rate_limiter import RateLimiter\n",
    "from tqdm import tqdm\n",
    "\n",
    "# Show progress bar\n",
    "tqdm.pandas()"
   ],
   "metadata": {
    "collapsed": false,
    "pycharm": {
     "name": "#%%\n"
    }
   }
  },
  {
   "cell_type": "code",
   "execution_count": 2,
   "outputs": [],
   "source": [
    "# TODO check: Do we need anything besides Prop_Addr from the real estate data?\n",
    "df = pd.read_csv('../data/Ames_Real_Estate_Data.csv', usecols=['MapRefNo', 'Prop_Addr'])\n",
    "housing = pd.read_csv('../data/Ames_Housing_Price_Data.csv', index_col=0)\n",
    "merged = pd.merge(left=housing, right=df,\n",
    "                  left_on=\"PID\", right_on=\"MapRefNo\")\n",
    "# NOTE: We have not removed dupes above TODO fix\n"
   ],
   "metadata": {
    "collapsed": false,
    "pycharm": {
     "name": "#%%\n"
    }
   }
  },
  {
   "cell_type": "code",
   "execution_count": 3,
   "outputs": [
    {
     "name": "stdout",
     "output_type": "stream",
     "text": [
      "Housing data has 2579 unique PIDs, but 2580 total PIDs\n",
      "Address data has 14235 unique MapRefNos, but 22213 total MapRefNos\n",
      "\n",
      "<---- WARNING WARNING WARNING ----> \n",
      "Merge found 2603 properties with addresses out of 2580 total\n"
     ]
    }
   ],
   "source": [
    "print(f\"Housing data has {len(set(housing.PID))} unique PIDs, but {len(housing.PID)} total PIDs\")\n",
    "print(f\"Address data has {len(set(df.MapRefNo))} unique MapRefNos, but {len(df.MapRefNo)} total MapRefNos\\n\")\n",
    "\n",
    "print(f\"<---- WARNING WARNING WARNING ----> \\nMerge found {merged.shape[0]} properties with addresses out of {housing.shape[0]} total\")"
   ],
   "metadata": {
    "collapsed": false,
    "pycharm": {
     "name": "#%%\n"
    }
   }
  },
  {
   "cell_type": "code",
   "execution_count": 4,
   "outputs": [],
   "source": [
    "# Use Nominatim as geolocator provider\n",
    "geolocator = Nominatim(user_agent=\"ames-iowa-nycdsa-1\")\n",
    "geocode = RateLimiter(geolocator.geocode, min_delay_seconds=1)\n",
    "\n",
    "# Get location from provider\n",
    "merged['Prop_Addr_Full'] = merged['Prop_Addr'] + \", Ames, USA\"\n",
    "merged['geolocation'] = merged['Prop_Addr_Full'].progress_apply(geocode)"
   ],
   "metadata": {
    "collapsed": false,
    "pycharm": {
     "name": "#%%\n"
    }
   }
  },
  {
   "cell_type": "code",
   "execution_count": 17,
   "outputs": [],
   "source": [
    "# Extract lat/lon from location\n",
    "merged['latitude'] = merged['geolocation'].apply(lambda loc: loc.latitude if loc else None)\n",
    "merged['longitude'] = merged['geolocation'].apply(lambda loc: loc.longitude if loc else None)"
   ],
   "metadata": {
    "collapsed": false,
    "pycharm": {
     "name": "#%%\n"
    }
   }
  },
  {
   "cell_type": "code",
   "execution_count": 25,
   "outputs": [],
   "source": [
    "merged.to_csv(\"../data/housing_geolocation.csv\")"
   ],
   "metadata": {
    "collapsed": false,
    "pycharm": {
     "name": "#%%\n"
    }
   }
  }
 ],
 "metadata": {
  "kernelspec": {
   "display_name": "Python 3",
   "language": "python",
   "name": "python3"
  },
  "language_info": {
   "codemirror_mode": {
    "name": "ipython",
    "version": 2
   },
   "file_extension": ".py",
   "mimetype": "text/x-python",
   "name": "python",
   "nbconvert_exporter": "python",
   "pygments_lexer": "ipython2",
   "version": "2.7.6"
  }
 },
 "nbformat": 4,
 "nbformat_minor": 0
}