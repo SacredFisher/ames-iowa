{
 "cells": [
  {
   "cell_type": "markdown",
   "source": [
    "# Engineer\n",
    "Here, we will engineer our features as follows:\n",
    "* Convert numeric data to categorical\n",
    "    * MoSold\n",
    "    * MSSubClass\n",
    "* Convert categorical data with orderings (likert scale type data) into ordinal data\n",
    "E.g.,  `GarageQual`: NoGarage->0, Po->1, Fa->2, TA->3, Gd->4, Ex->5\n",
    "* Create new features\n",
    "    * Derived\n",
    "    E.g., `NumFloors` in a property\n",
    "    * Indicators (booleans)\n",
    "    E.g., `IsPUD` whether a property is in a PUD\n",
    "* Collapse number of categories for categorical features on a case-by-case basis\n",
    "E.g., `OverallQual` has scale 1-10. 1-3 are simplified to \"bad\", 4-6 are \"normal\", 7-10 are \"good\"\n",
    "* Dummify categorical features"
   ],
   "metadata": {
    "collapsed": false
   }
  },
  {
   "cell_type": "code",
   "execution_count": 264,
   "outputs": [
    {
     "name": "stdout",
     "output_type": "stream",
     "text": [
      "The autoreload extension is already loaded. To reload it, use:\n",
      "  %reload_ext autoreload\n"
     ]
    }
   ],
   "source": [
    "%load_ext autoreload\n",
    "%autoreload 2"
   ],
   "metadata": {
    "collapsed": false,
    "pycharm": {
     "name": "#%%\n"
    }
   }
  },
  {
   "cell_type": "code",
   "execution_count": 289,
   "metadata": {
    "collapsed": true
   },
   "outputs": [],
   "source": [
    "import pandas as pd\n",
    "import data_dict\n",
    "import features"
   ]
  },
  {
   "cell_type": "code",
   "execution_count": 266,
   "outputs": [],
   "source": [
    "df = pd.read_csv(\"../data/cleaned.csv\")\n",
    "df.drop('Unnamed: 0', inplace=True, axis=1)"
   ],
   "metadata": {
    "collapsed": false,
    "pycharm": {
     "name": "#%%\n"
    }
   }
  },
  {
   "cell_type": "markdown",
   "source": [
    "## Convert numerical data to categorical\n",
    "`YrSold`, `MoSold`, and `MSSubClass` are categorical data but are encoded as integers in the dataset"
   ],
   "metadata": {
    "collapsed": false
   }
  },
  {
   "cell_type": "code",
   "execution_count": 267,
   "outputs": [],
   "source": [
    "# NOTE: We will treat MoSold and YrSold as categorical because there are only 12 (Jan->Dec) and 5 values (2006->2010).\n",
    "# This might not be the case if we had many years of sales data in our dataset\n",
    "df['YrSold'] = df['YrSold'].astype(str)\n",
    "df['MoSold'] = df.MoSold.map(data_dict.convert_mosold)\n",
    "df['MSSubClass'] = df['MSSubClass'].astype(str)"
   ],
   "metadata": {
    "collapsed": false,
    "pycharm": {
     "name": "#%%\n"
    }
   }
  },
  {
   "cell_type": "markdown",
   "source": [
    "## Convert categorical to ordinal"
   ],
   "metadata": {
    "collapsed": false
   }
  },
  {
   "cell_type": "code",
   "execution_count": 268,
   "outputs": [],
   "source": [
    "# Overall features\n",
    "df['OverallQual'] = df.OverallQual.map(data_dict.convert_overallqual)\n",
    "df['OverallCond'] = df.OverallCond.map(data_dict.convert_overallcond)"
   ],
   "metadata": {
    "collapsed": false,
    "pycharm": {
     "name": "#%%\n"
    }
   }
  },
  {
   "cell_type": "code",
   "execution_count": 269,
   "outputs": [],
   "source": [
    "# Exterior features\n",
    "df['ExterQual'] = df.ExterQual.map(data_dict.convert_exterqual)\n",
    "df['ExterCond'] = df.ExterCond.map(data_dict.convert_extercond)"
   ],
   "metadata": {
    "collapsed": false,
    "pycharm": {
     "name": "#%%\n"
    }
   }
  },
  {
   "cell_type": "code",
   "execution_count": 270,
   "outputs": [],
   "source": [
    "# Basement features\n",
    "df['BsmtQual'] = df.BsmtQual.map(data_dict.convert_bsmtqual)\n",
    "df['BsmtCond'] = df.BsmtCond.map(data_dict.convert_bsmtcond)\n",
    "df['BsmtExposure'] = df.BsmtExposure.map(data_dict.convert_bsmtexposure)\n",
    "df['BsmtFinType1'] = df.BsmtFinType1.map(data_dict.convert_bsmtfintype)\n",
    "df['BsmtFinType2'] = df.BsmtFinType2.map(data_dict.convert_bsmtfintype)"
   ],
   "metadata": {
    "collapsed": false,
    "pycharm": {
     "name": "#%%\n"
    }
   }
  },
  {
   "cell_type": "code",
   "execution_count": 271,
   "outputs": [],
   "source": [
    "# Home Interior features\n",
    "df['Functional'] = df.Functional.map(data_dict.convert_functional)\n",
    "df['FireplaceQu'] = df.FireplaceQu.map(data_dict.convert_fireplacequ)\n",
    "df['HeatingQC'] = df.HeatingQC.map(data_dict.convert_heatingqc)\n",
    "df['KitchenQual'] = df.KitchenQual.map(data_dict.convert_kitchenqual)"
   ],
   "metadata": {
    "collapsed": false,
    "pycharm": {
     "name": "#%%\n"
    }
   }
  },
  {
   "cell_type": "code",
   "execution_count": 272,
   "outputs": [],
   "source": [
    "# Land features\n",
    "df['LandSlope'] = df.LandSlope.map(data_dict.convert_landslope)\n",
    "df['LotShape'] = df.LotShape.map(data_dict.convert_lotshape)"
   ],
   "metadata": {
    "collapsed": false,
    "pycharm": {
     "name": "#%%\n"
    }
   }
  },
  {
   "cell_type": "code",
   "execution_count": 273,
   "outputs": [],
   "source": [
    "# Garage features\n",
    "df['GarageCond'] = df.GarageCond.map(data_dict.convert_garagecond)\n",
    "df['GarageQual'] = df.GarageQual.map(data_dict.convert_garagequal)"
   ],
   "metadata": {
    "collapsed": false,
    "pycharm": {
     "name": "#%%\n"
    }
   }
  },
  {
   "cell_type": "code",
   "execution_count": 274,
   "outputs": [],
   "source": [
    "# Road features\n",
    "df['Street'] = df.Street.map(data_dict.convert_street)\n",
    "df['PavedDrive'] = df.PavedDrive.map(data_dict.convert_paveddrive)\n",
    "df['Alley'] = df.Alley.map(data_dict.convert_alley)"
   ],
   "metadata": {
    "collapsed": false,
    "pycharm": {
     "name": "#%%\n"
    }
   }
  },
  {
   "cell_type": "code",
   "execution_count": 275,
   "outputs": [],
   "source": [
    "# Other features\n",
    "df['Utilities'] = df.Utilities.map(data_dict.convert_utilities)\n",
    "df['PoolQC'] = df.PoolQC.map(data_dict.convert_poolqc)"
   ],
   "metadata": {
    "collapsed": false,
    "pycharm": {
     "name": "#%%\n"
    }
   }
  },
  {
   "cell_type": "markdown",
   "source": [
    "## New Features"
   ],
   "metadata": {
    "collapsed": false
   }
  },
  {
   "cell_type": "markdown",
   "source": [
    "#### Indicators"
   ],
   "metadata": {
    "collapsed": false
   }
  },
  {
   "cell_type": "code",
   "execution_count": 276,
   "outputs": [],
   "source": [
    "# See whether a property is in a PUD from the dwelling type\n",
    "df['IsPUD'] = df.MSSubClass.map(data_dict.get_pud_indicator)"
   ],
   "metadata": {
    "collapsed": false,
    "pycharm": {
     "name": "#%%\n"
    }
   }
  },
  {
   "cell_type": "code",
   "execution_count": 277,
   "outputs": [],
   "source": [
    "# TODO LotShape isRegular"
   ],
   "metadata": {
    "collapsed": false,
    "pycharm": {
     "name": "#%%\n"
    }
   }
  },
  {
   "cell_type": "markdown",
   "source": [
    "#### Other new features"
   ],
   "metadata": {
    "collapsed": false,
    "pycharm": {
     "name": "#%% md\n"
    }
   }
  },
  {
   "cell_type": "code",
   "execution_count": 278,
   "outputs": [],
   "source": [
    "# Get number of floors for the property from the dwelling type\n",
    "df['NumFloors'] = df.MSSubClass.map(data_dict.get_num_floors)"
   ],
   "metadata": {
    "collapsed": false,
    "pycharm": {
     "name": "#%%\n"
    }
   }
  },
  {
   "cell_type": "code",
   "execution_count": 279,
   "outputs": [],
   "source": [
    "df['BsmtAllBaths'] = df['BsmtFullBath'] + df['BsmtHalfBath']*.25\n",
    "df['AbvGrdBaths'] = df['FullBath'] + df['HalfBath']*.25"
   ],
   "metadata": {
    "collapsed": false,
    "pycharm": {
     "name": "#%%\n"
    }
   }
  },
  {
   "cell_type": "markdown",
   "source": [
    "## Collapse Categorical Features\n",
    "Use smaller scales for Likert scale-type categorical features"
   ],
   "metadata": {
    "collapsed": false
   }
  },
  {
   "cell_type": "code",
   "execution_count": 280,
   "outputs": [],
   "source": [
    "df['Collapse_MSSubClass'] = df.MSSubClass.map(data_dict.collapse_mssubclass)\n",
    "# TODO ask team others: (*Qual, *Cond)->*QualCond, Year->Age, IsNew,"
   ],
   "metadata": {
    "collapsed": false,
    "pycharm": {
     "name": "#%%\n"
    }
   }
  },
  {
   "cell_type": "markdown",
   "source": [
    "### Dummify\n",
    "Dummify the categorical features"
   ],
   "metadata": {
    "collapsed": false
   }
  },
  {
   "cell_type": "code",
   "execution_count": null,
   "outputs": [],
   "source": [
    "# TODO"
   ],
   "metadata": {
    "collapsed": false,
    "pycharm": {
     "name": "#%%\n"
    }
   }
  },
  {
   "cell_type": "markdown",
   "source": [
    "#### Housekeeping\n",
    "Check that we organized every feature"
   ],
   "metadata": {
    "collapsed": false
   }
  },
  {
   "cell_type": "code",
   "execution_count": 290,
   "outputs": [
    {
     "name": "stdout",
     "output_type": "stream",
     "text": [
      "86 #columns == 86 #features+PID+SalePrice\n"
     ]
    }
   ],
   "source": [
    "# Test that we have all features labeled by type of data\n",
    "features.check_features(df)"
   ],
   "metadata": {
    "collapsed": false,
    "pycharm": {
     "name": "#%%\n"
    }
   }
  },
  {
   "cell_type": "code",
   "execution_count": 292,
   "outputs": [
    {
     "data": {
      "text/plain": "        features    df.columns\n0       1stFlrSF      1stFlrSF\n1       2ndFlrSF      2ndFlrSF\n2      3SsnPorch     3SsnPorch\n3    AbvGrdBaths   AbvGrdBaths\n4          Alley         Alley\n..           ...           ...\n81     Utilities     Utilities\n82    WoodDeckSF    WoodDeckSF\n83     YearBuilt     YearBuilt\n84  YearRemodAdd  YearRemodAdd\n85        YrSold        YrSold\n\n[86 rows x 2 columns]",
      "text/html": "<div>\n<style scoped>\n    .dataframe tbody tr th:only-of-type {\n        vertical-align: middle;\n    }\n\n    .dataframe tbody tr th {\n        vertical-align: top;\n    }\n\n    .dataframe thead th {\n        text-align: right;\n    }\n</style>\n<table border=\"1\" class=\"dataframe\">\n  <thead>\n    <tr style=\"text-align: right;\">\n      <th></th>\n      <th>features</th>\n      <th>df.columns</th>\n    </tr>\n  </thead>\n  <tbody>\n    <tr>\n      <th>0</th>\n      <td>1stFlrSF</td>\n      <td>1stFlrSF</td>\n    </tr>\n    <tr>\n      <th>1</th>\n      <td>2ndFlrSF</td>\n      <td>2ndFlrSF</td>\n    </tr>\n    <tr>\n      <th>2</th>\n      <td>3SsnPorch</td>\n      <td>3SsnPorch</td>\n    </tr>\n    <tr>\n      <th>3</th>\n      <td>AbvGrdBaths</td>\n      <td>AbvGrdBaths</td>\n    </tr>\n    <tr>\n      <th>4</th>\n      <td>Alley</td>\n      <td>Alley</td>\n    </tr>\n    <tr>\n      <th>...</th>\n      <td>...</td>\n      <td>...</td>\n    </tr>\n    <tr>\n      <th>81</th>\n      <td>Utilities</td>\n      <td>Utilities</td>\n    </tr>\n    <tr>\n      <th>82</th>\n      <td>WoodDeckSF</td>\n      <td>WoodDeckSF</td>\n    </tr>\n    <tr>\n      <th>83</th>\n      <td>YearBuilt</td>\n      <td>YearBuilt</td>\n    </tr>\n    <tr>\n      <th>84</th>\n      <td>YearRemodAdd</td>\n      <td>YearRemodAdd</td>\n    </tr>\n    <tr>\n      <th>85</th>\n      <td>YrSold</td>\n      <td>YrSold</td>\n    </tr>\n  </tbody>\n</table>\n<p>86 rows × 2 columns</p>\n</div>"
     },
     "execution_count": 292,
     "metadata": {},
     "output_type": "execute_result"
    }
   ],
   "source": [
    "# Manually check that these are the same\n",
    "features.get_features(df)"
   ],
   "metadata": {
    "collapsed": false,
    "pycharm": {
     "name": "#%%\n"
    }
   }
  },
  {
   "cell_type": "markdown",
   "source": [
    "Save output"
   ],
   "metadata": {
    "collapsed": false
   }
  },
  {
   "cell_type": "code",
   "execution_count": 284,
   "outputs": [],
   "source": [
    "df.to_csv(\"../data/engineered.csv\")"
   ],
   "metadata": {
    "collapsed": false,
    "pycharm": {
     "name": "#%%\n"
    }
   }
  }
 ],
 "metadata": {
  "kernelspec": {
   "display_name": "Python 3",
   "language": "python",
   "name": "python3"
  },
  "language_info": {
   "codemirror_mode": {
    "name": "ipython",
    "version": 2
   },
   "file_extension": ".py",
   "mimetype": "text/x-python",
   "name": "python",
   "nbconvert_exporter": "python",
   "pygments_lexer": "ipython2",
   "version": "2.7.6"
  }
 },
 "nbformat": 4,
 "nbformat_minor": 0
}