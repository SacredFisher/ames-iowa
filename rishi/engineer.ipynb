{
 "cells": [
  {
   "cell_type": "markdown",
   "source": [
    "# Engineer\n",
    "Here, we will engineer our features as follows:\n",
    "* Convert numeric data to categorical\n",
    "    * MoSold\n",
    "    * MSSubClass\n",
    "* Convert categorical data with orderings (likert scale type data) into ordinal data\n",
    "E.g.,  `GarageQual`: NoGarage->0, Po->1, Fa->2, TA->3, Gd->4, Ex->5\n",
    "* Create new features\n",
    "    * Derived\n",
    "    E.g., `NumFloors` in a property\n",
    "    * Indicators (booleans)\n",
    "    E.g., `IsPUD` whether a property is in a PUD\n",
    "* Collapse number of categories for categorical features on a case-by-case basis\n",
    "E.g., `OverallQual` has scale 1-10. 1-3 are simplified to \"bad\", 4-6 are \"normal\", 7-10 are \"good\"\n",
    "* Dummify categorical features"
   ],
   "metadata": {
    "collapsed": false
   }
  },
  {
   "cell_type": "code",
   "execution_count": 327,
   "outputs": [
    {
     "name": "stdout",
     "output_type": "stream",
     "text": [
      "The autoreload extension is already loaded. To reload it, use:\n",
      "  %reload_ext autoreload\n"
     ]
    }
   ],
   "source": [
    "%load_ext autoreload\n",
    "%autoreload 2"
   ],
   "metadata": {
    "collapsed": false,
    "pycharm": {
     "name": "#%%\n"
    }
   }
  },
  {
   "cell_type": "code",
   "execution_count": 328,
   "metadata": {
    "collapsed": true
   },
   "outputs": [],
   "source": [
    "import pandas as pd\n",
    "import numpy as np\n",
    "from helpers import data_dict\n",
    "from helpers import features"
   ]
  },
  {
   "cell_type": "code",
   "execution_count": 329,
   "outputs": [],
   "source": [
    "df = pd.read_csv(\"../data/cleaned.csv\")\n",
    "df.drop('Unnamed: 0', inplace=True, axis=1)"
   ],
   "metadata": {
    "collapsed": false,
    "pycharm": {
     "name": "#%%\n"
    }
   }
  },
  {
   "cell_type": "markdown",
   "source": [
    "## Convert numerical data to categorical\n",
    "`YrSold`, `MoSold`, and `MSSubClass` are categorical data but are encoded as integers in the dataset"
   ],
   "metadata": {
    "collapsed": false
   }
  },
  {
   "cell_type": "code",
   "execution_count": 330,
   "outputs": [],
   "source": [
    "# NOTE: We will treat MoSold and YrSold as categorical because there are only 12 (Jan->Dec) and 5 values (2006->2010).\n",
    "# This might not be the case if we had many years of sales data in our dataset\n",
    "df['YrSold'] = df['YrSold'].astype(str)\n",
    "df['MoSold'] = df.MoSold.map(data_dict.convert_mosold)\n",
    "df['MSSubClass'] = df['MSSubClass'].astype(str)\n",
    "\n",
    "# Because we write out to a csv, we need to make sure that YrSold and MSSubClass are read back as categorical in other files.\n",
    "# So we prepend a string to these columns\n",
    "df['YrSold'] = df['YrSold'].apply(lambda x: \"Yr_\" + x)\n",
    "df['MSSubClass'] = df['MSSubClass'].apply(lambda x: \"Dwelling_\" + x)"
   ],
   "metadata": {
    "collapsed": false,
    "pycharm": {
     "name": "#%%\n"
    }
   }
  },
  {
   "cell_type": "markdown",
   "source": [
    "## Convert categorical to ordinal"
   ],
   "metadata": {
    "collapsed": false
   }
  },
  {
   "cell_type": "code",
   "execution_count": 331,
   "outputs": [],
   "source": [
    "# Overall features\n",
    "# NO OP: These are already ordinalized"
   ],
   "metadata": {
    "collapsed": false,
    "pycharm": {
     "name": "#%%\n"
    }
   }
  },
  {
   "cell_type": "code",
   "execution_count": 332,
   "outputs": [],
   "source": [
    "# Exterior features\n",
    "df['ExterQual'] = df.ExterQual.map(data_dict.convert_exterqual)\n",
    "df['ExterCond'] = df.ExterCond.map(data_dict.convert_extercond)"
   ],
   "metadata": {
    "collapsed": false,
    "pycharm": {
     "name": "#%%\n"
    }
   }
  },
  {
   "cell_type": "code",
   "execution_count": 333,
   "outputs": [],
   "source": [
    "# Basement features\n",
    "df['BsmtQual'] = df.BsmtQual.map(data_dict.convert_bsmtqual)\n",
    "df['BsmtCond'] = df.BsmtCond.map(data_dict.convert_bsmtcond)\n",
    "df['BsmtExposure'] = df.BsmtExposure.map(data_dict.convert_bsmtexposure)\n",
    "df['BsmtFinType1'] = df.BsmtFinType1.map(data_dict.convert_bsmtfintype)\n",
    "df['BsmtFinType2'] = df.BsmtFinType2.map(data_dict.convert_bsmtfintype)"
   ],
   "metadata": {
    "collapsed": false,
    "pycharm": {
     "name": "#%%\n"
    }
   }
  },
  {
   "cell_type": "code",
   "execution_count": 334,
   "outputs": [],
   "source": [
    "# Home Interior features\n",
    "df['Functional'] = df.Functional.map(data_dict.convert_functional)\n",
    "df['FireplaceQu'] = df.FireplaceQu.map(data_dict.convert_fireplacequ)\n",
    "df['HeatingQC'] = df.HeatingQC.map(data_dict.convert_heatingqc)\n",
    "df['KitchenQual'] = df.KitchenQual.map(data_dict.convert_kitchenqual)"
   ],
   "metadata": {
    "collapsed": false,
    "pycharm": {
     "name": "#%%\n"
    }
   }
  },
  {
   "cell_type": "code",
   "execution_count": 335,
   "outputs": [],
   "source": [
    "# Land features\n",
    "df['LandSlope'] = df.LandSlope.map(data_dict.convert_landslope)\n",
    "df['LotShape'] = df.LotShape.map(data_dict.convert_lotshape)"
   ],
   "metadata": {
    "collapsed": false,
    "pycharm": {
     "name": "#%%\n"
    }
   }
  },
  {
   "cell_type": "code",
   "execution_count": 336,
   "outputs": [],
   "source": [
    "# Garage features\n",
    "df['GarageCond'] = df.GarageCond.map(data_dict.convert_garagecond)\n",
    "df['GarageQual'] = df.GarageQual.map(data_dict.convert_garagequal)"
   ],
   "metadata": {
    "collapsed": false,
    "pycharm": {
     "name": "#%%\n"
    }
   }
  },
  {
   "cell_type": "code",
   "execution_count": 337,
   "outputs": [],
   "source": [
    "# Road features\n",
    "df['Street'] = df.Street.map(data_dict.convert_street)\n",
    "df['PavedDrive'] = df.PavedDrive.map(data_dict.convert_paveddrive)\n",
    "df['Alley'] = df.Alley.map(data_dict.convert_alley)"
   ],
   "metadata": {
    "collapsed": false,
    "pycharm": {
     "name": "#%%\n"
    }
   }
  },
  {
   "cell_type": "code",
   "execution_count": 338,
   "outputs": [],
   "source": [
    "# Other features\n",
    "df['Utilities'] = df.Utilities.map(data_dict.convert_utilities)\n",
    "df['PoolQC'] = df.PoolQC.map(data_dict.convert_poolqc)"
   ],
   "metadata": {
    "collapsed": false,
    "pycharm": {
     "name": "#%%\n"
    }
   }
  },
  {
   "cell_type": "markdown",
   "source": [
    "## New Features\n",
    "New data we can create from existing data. Does not mean we need to drop old data columns"
   ],
   "metadata": {
    "collapsed": false
   }
  },
  {
   "cell_type": "code",
   "execution_count": 339,
   "outputs": [],
   "source": [
    "# See whether a property is in a PUD from the dwelling type\n",
    "df['IsPUD'] = df.MSSubClass.map(data_dict.get_pud_indicator)"
   ],
   "metadata": {
    "collapsed": false,
    "pycharm": {
     "name": "#%%\n"
    }
   }
  },
  {
   "cell_type": "code",
   "execution_count": 340,
   "outputs": [],
   "source": [
    "# TODO LotShape isRegular"
   ],
   "metadata": {
    "collapsed": false,
    "pycharm": {
     "name": "#%%\n"
    }
   }
  },
  {
   "cell_type": "code",
   "execution_count": 341,
   "outputs": [],
   "source": [
    "# Whether the property is near bad conditions (a busy road or a railroad)\n",
    "df['IsNearNegativeCondition1'] = df.Condition1.map(data_dict.get_bad_condition_indicator)\n",
    "df['IsNearNegativeCondition2'] = df.Condition2.map(data_dict.get_bad_condition_indicator)\n",
    "df['IsNearNegativeCondition'] = df.apply(lambda x: x['IsNearNegativeCondition1'] | x['IsNearNegativeCondition2'], axis=1)\n",
    "df.drop(['IsNearNegativeCondition1', 'IsNearNegativeCondition2'], axis=1, inplace=True)\n",
    "\n",
    "# Whether the property is near good conditions (a park, green-belt, etc)\n",
    "df['IsNearPositiveCondition1'] = df.Condition1.map(data_dict.get_good_condition_indicator)\n",
    "df['IsNearPositiveCondition2'] = df.Condition2.map(data_dict.get_good_condition_indicator)\n",
    "df['IsNearPositiveCondition'] = df.apply(lambda x: x['IsNearPositiveCondition1'] | x['IsNearPositiveCondition2'], axis=1)\n",
    "df.drop(['IsNearPositiveCondition1', 'IsNearPositiveCondition2'], axis=1, inplace=True)"
   ],
   "metadata": {
    "collapsed": false,
    "pycharm": {
     "name": "#%%\n"
    }
   }
  },
  {
   "cell_type": "code",
   "execution_count": 342,
   "outputs": [
    {
     "name": "stdout",
     "output_type": "stream",
     "text": [
      "164 properties near an artery or railroad\n",
      "56 properties near park, green-belt, etc\n"
     ]
    }
   ],
   "source": [
    "# Check good/bad counts\n",
    "print(f\"{df.IsNearNegativeCondition.sum()} properties near an artery or railroad\")\n",
    "print(f\"{df.IsNearPositiveCondition.sum()} properties near park, green-belt, etc\")"
   ],
   "metadata": {
    "collapsed": false,
    "pycharm": {
     "name": "#%%\n"
    }
   }
  },
  {
   "cell_type": "code",
   "execution_count": 343,
   "outputs": [],
   "source": [
    "# Get number of floors for the property from the dwelling type\n",
    "df['NumFloors'] = df.MSSubClass.map(data_dict.get_num_floors)"
   ],
   "metadata": {
    "collapsed": false,
    "pycharm": {
     "name": "#%%\n"
    }
   }
  },
  {
   "cell_type": "markdown",
   "source": [
    "## Collapse/Combine Features\n",
    "* Collapse: Use smaller scales for Likert scale-type categorical features (and drop the larger scale feature)\n",
    "* Combine: Convert multiple features into a new feature (and drop the others)"
   ],
   "metadata": {
    "collapsed": false
   }
  },
  {
   "cell_type": "markdown",
   "source": [
    "Use smaller scales. Featured prefixed with `Collapse_`"
   ],
   "metadata": {
    "collapsed": false
   }
  },
  {
   "cell_type": "code",
   "execution_count": 344,
   "outputs": [],
   "source": [
    "df['Collapse_MSSubClass'] = df.MSSubClass.map(data_dict.collapse_mssubclass)"
   ],
   "metadata": {
    "collapsed": false,
    "pycharm": {
     "name": "#%%\n"
    }
   }
  },
  {
   "cell_type": "markdown",
   "source": [
    "Combine multiple features. Features prefixed with `Combined_`"
   ],
   "metadata": {
    "collapsed": false,
    "pycharm": {
     "name": "#%% md\n"
    }
   }
  },
  {
   "cell_type": "code",
   "execution_count": 345,
   "outputs": [],
   "source": [
    "# Bathrooms\n",
    "df['Combine_BathroomsBsmt'] = df['BsmtFullBath'] + df['BsmtHalfBath']*.5\n",
    "df['Combine_BathroomsAbvGrd'] = df['FullBath'] + df['HalfBath']*0.5\n",
    "df['AllBathrooms'] = df['Combine_BathroomsBsmt'] + df['Combine_BathroomsAbvGrd']"
   ],
   "metadata": {
    "collapsed": false,
    "pycharm": {
     "name": "#%%\n"
    }
   }
  },
  {
   "cell_type": "code",
   "execution_count": 346,
   "outputs": [
    {
     "data": {
      "text/plain": "      Combine_Age  tempYrSold  YearBuilt  YearRemodAdd  IsRenovated\n0              60        2010       1939          1950         True\n1              25        2009       1984          1984        False\n2               0        2007       1930          2007         True\n3               6        2009       1900          2003         True\n4               8        2009       2001          2001        False\n...           ...         ...        ...           ...          ...\n2572           59        2009       1916          1950         True\n2573           54        2009       1955          1955        False\n2574           57        2007       1949          1950         True\n2575            7        2007       2000          2000        False\n2576           12        2006       1993          1994         True\n\n[2577 rows x 5 columns]",
      "text/html": "<div>\n<style scoped>\n    .dataframe tbody tr th:only-of-type {\n        vertical-align: middle;\n    }\n\n    .dataframe tbody tr th {\n        vertical-align: top;\n    }\n\n    .dataframe thead th {\n        text-align: right;\n    }\n</style>\n<table border=\"1\" class=\"dataframe\">\n  <thead>\n    <tr style=\"text-align: right;\">\n      <th></th>\n      <th>Combine_Age</th>\n      <th>tempYrSold</th>\n      <th>YearBuilt</th>\n      <th>YearRemodAdd</th>\n      <th>IsRenovated</th>\n    </tr>\n  </thead>\n  <tbody>\n    <tr>\n      <th>0</th>\n      <td>60</td>\n      <td>2010</td>\n      <td>1939</td>\n      <td>1950</td>\n      <td>True</td>\n    </tr>\n    <tr>\n      <th>1</th>\n      <td>25</td>\n      <td>2009</td>\n      <td>1984</td>\n      <td>1984</td>\n      <td>False</td>\n    </tr>\n    <tr>\n      <th>2</th>\n      <td>0</td>\n      <td>2007</td>\n      <td>1930</td>\n      <td>2007</td>\n      <td>True</td>\n    </tr>\n    <tr>\n      <th>3</th>\n      <td>6</td>\n      <td>2009</td>\n      <td>1900</td>\n      <td>2003</td>\n      <td>True</td>\n    </tr>\n    <tr>\n      <th>4</th>\n      <td>8</td>\n      <td>2009</td>\n      <td>2001</td>\n      <td>2001</td>\n      <td>False</td>\n    </tr>\n    <tr>\n      <th>...</th>\n      <td>...</td>\n      <td>...</td>\n      <td>...</td>\n      <td>...</td>\n      <td>...</td>\n    </tr>\n    <tr>\n      <th>2572</th>\n      <td>59</td>\n      <td>2009</td>\n      <td>1916</td>\n      <td>1950</td>\n      <td>True</td>\n    </tr>\n    <tr>\n      <th>2573</th>\n      <td>54</td>\n      <td>2009</td>\n      <td>1955</td>\n      <td>1955</td>\n      <td>False</td>\n    </tr>\n    <tr>\n      <th>2574</th>\n      <td>57</td>\n      <td>2007</td>\n      <td>1949</td>\n      <td>1950</td>\n      <td>True</td>\n    </tr>\n    <tr>\n      <th>2575</th>\n      <td>7</td>\n      <td>2007</td>\n      <td>2000</td>\n      <td>2000</td>\n      <td>False</td>\n    </tr>\n    <tr>\n      <th>2576</th>\n      <td>12</td>\n      <td>2006</td>\n      <td>1993</td>\n      <td>1994</td>\n      <td>True</td>\n    </tr>\n  </tbody>\n</table>\n<p>2577 rows × 5 columns</p>\n</div>"
     },
     "execution_count": 346,
     "metadata": {},
     "output_type": "execute_result"
    }
   ],
   "source": [
    "# Age (since remodeling, if property was remodeled)\n",
    "df['tempYrSold'] = df['YrSold'].apply(lambda y: (y[3:])).astype(int)\n",
    "df['tempWasRenovatedAfterBuilding'] = df.apply(lambda x: x['YearRemodAdd'] > x['YearBuilt'], axis=1)\n",
    "df['Combine_Age'] = df.apply(lambda x: (x['tempYrSold'] - x['YearRemodAdd'])\n",
    "                                        if x['tempWasRenovatedAfterBuilding']\n",
    "                                        else (x['tempYrSold'] - x['YearBuilt']), axis=1)\n",
    "# IsRenovated\n",
    "df['IsRenovated'] = df.apply(lambda x: (x['YearRemodAdd'] > x['YearBuilt']), axis=1)\n",
    "# Check\n",
    "df[['Combine_Age', 'tempYrSold', 'YearBuilt', 'YearRemodAdd', 'IsRenovated']]"
   ],
   "metadata": {
    "collapsed": false,
    "pycharm": {
     "name": "#%%\n"
    }
   }
  },
  {
   "cell_type": "code",
   "execution_count": 347,
   "outputs": [],
   "source": [
    "df.drop(['tempYrSold', 'tempWasRenovatedAfterBuilding'], inplace=True, axis=1)"
   ],
   "metadata": {
    "collapsed": false,
    "pycharm": {
     "name": "#%%\n"
    }
   }
  },
  {
   "cell_type": "markdown",
   "source": [
    "## Drop Other Features\n",
    "Drop features that have been identified via EDA to be\n",
    "* causes of multicolinearity\n",
    "* have low explanatory power (insignificant; having low p-values)"
   ],
   "metadata": {
    "collapsed": false,
    "pycharm": {
     "name": "#%% md\n"
    }
   }
  },
  {
   "cell_type": "code",
   "execution_count": 348,
   "outputs": [],
   "source": [
    "# TODO drop features"
   ],
   "metadata": {
    "collapsed": false,
    "pycharm": {
     "name": "#%%\n"
    }
   }
  },
  {
   "cell_type": "markdown",
   "source": [
    "## Add Log Target (SalePrice)\n",
    "From EDA, we found that the distributions of features are skewed when plotted against `SalePrice`"
   ],
   "metadata": {
    "collapsed": false
   }
  },
  {
   "cell_type": "code",
   "execution_count": 349,
   "outputs": [],
   "source": [
    "df['LogSalePrice'] = np.log(df.SalePrice)"
   ],
   "metadata": {
    "collapsed": false,
    "pycharm": {
     "name": "#%%\n"
    }
   }
  },
  {
   "cell_type": "markdown",
   "source": [
    "#### Housekeeping\n",
    "Check that we organized every feature in `features.py`"
   ],
   "metadata": {
    "collapsed": false
   }
  },
  {
   "cell_type": "code",
   "execution_count": 350,
   "outputs": [
    {
     "name": "stdout",
     "output_type": "stream",
     "text": [
      "92 #columns == 92 #features+PID+targets\n"
     ]
    }
   ],
   "source": [
    "# Test that we have all features labeled by type of data\n",
    "features.check_features(df)"
   ],
   "metadata": {
    "collapsed": false,
    "pycharm": {
     "name": "#%%\n"
    }
   }
  },
  {
   "cell_type": "code",
   "execution_count": 351,
   "outputs": [
    {
     "data": {
      "text/plain": "      df.columns      features\n0       1stFlrSF      1stFlrSF\n1       2ndFlrSF      2ndFlrSF\n2      3SsnPorch     3SsnPorch\n3   AllBathrooms  AllBathrooms\n4          Alley         Alley\n..           ...           ...\n87     Utilities     Utilities\n88    WoodDeckSF    WoodDeckSF\n89     YearBuilt     YearBuilt\n90  YearRemodAdd  YearRemodAdd\n91        YrSold        YrSold\n\n[92 rows x 2 columns]",
      "text/html": "<div>\n<style scoped>\n    .dataframe tbody tr th:only-of-type {\n        vertical-align: middle;\n    }\n\n    .dataframe tbody tr th {\n        vertical-align: top;\n    }\n\n    .dataframe thead th {\n        text-align: right;\n    }\n</style>\n<table border=\"1\" class=\"dataframe\">\n  <thead>\n    <tr style=\"text-align: right;\">\n      <th></th>\n      <th>df.columns</th>\n      <th>features</th>\n    </tr>\n  </thead>\n  <tbody>\n    <tr>\n      <th>0</th>\n      <td>1stFlrSF</td>\n      <td>1stFlrSF</td>\n    </tr>\n    <tr>\n      <th>1</th>\n      <td>2ndFlrSF</td>\n      <td>2ndFlrSF</td>\n    </tr>\n    <tr>\n      <th>2</th>\n      <td>3SsnPorch</td>\n      <td>3SsnPorch</td>\n    </tr>\n    <tr>\n      <th>3</th>\n      <td>AllBathrooms</td>\n      <td>AllBathrooms</td>\n    </tr>\n    <tr>\n      <th>4</th>\n      <td>Alley</td>\n      <td>Alley</td>\n    </tr>\n    <tr>\n      <th>...</th>\n      <td>...</td>\n      <td>...</td>\n    </tr>\n    <tr>\n      <th>87</th>\n      <td>Utilities</td>\n      <td>Utilities</td>\n    </tr>\n    <tr>\n      <th>88</th>\n      <td>WoodDeckSF</td>\n      <td>WoodDeckSF</td>\n    </tr>\n    <tr>\n      <th>89</th>\n      <td>YearBuilt</td>\n      <td>YearBuilt</td>\n    </tr>\n    <tr>\n      <th>90</th>\n      <td>YearRemodAdd</td>\n      <td>YearRemodAdd</td>\n    </tr>\n    <tr>\n      <th>91</th>\n      <td>YrSold</td>\n      <td>YrSold</td>\n    </tr>\n  </tbody>\n</table>\n<p>92 rows × 2 columns</p>\n</div>"
     },
     "execution_count": 351,
     "metadata": {},
     "output_type": "execute_result"
    }
   ],
   "source": [
    "# Manually check that these are the same\n",
    "features.check_features2(df)"
   ],
   "metadata": {
    "collapsed": false,
    "pycharm": {
     "name": "#%%\n"
    }
   }
  },
  {
   "cell_type": "markdown",
   "source": [
    "Save outputs"
   ],
   "metadata": {
    "collapsed": false
   }
  },
  {
   "cell_type": "code",
   "execution_count": 352,
   "outputs": [],
   "source": [
    "df.to_csv(\"../data/engineered.csv\")"
   ],
   "metadata": {
    "collapsed": false,
    "pycharm": {
     "name": "#%%\n"
    }
   }
  },
  {
   "cell_type": "code",
   "execution_count": 352,
   "outputs": [],
   "source": [],
   "metadata": {
    "collapsed": false,
    "pycharm": {
     "name": "#%%\n"
    }
   }
  }
 ],
 "metadata": {
  "kernelspec": {
   "display_name": "Python 3",
   "language": "python",
   "name": "python3"
  },
  "language_info": {
   "codemirror_mode": {
    "name": "ipython",
    "version": 2
   },
   "file_extension": ".py",
   "mimetype": "text/x-python",
   "name": "python",
   "nbconvert_exporter": "python",
   "pygments_lexer": "ipython2",
   "version": "2.7.6"
  }
 },
 "nbformat": 4,
 "nbformat_minor": 0
}