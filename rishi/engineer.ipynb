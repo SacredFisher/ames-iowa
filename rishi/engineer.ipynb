{
 "cells": [
  {
   "cell_type": "markdown",
   "source": [
    "# Engineer\n",
    "Here, we will engineer our features as follows:\n",
    "* Convert numeric data to categorical\n",
    "    * MoSold\n",
    "    * MSSubClass\n",
    "* Convert categorical data with orderings (likert scale type data) into ordinal data\n",
    "E.g.,  `GarageQual`: NoGarage->0, Po->1, Fa->2, TA->3, Gd->4, Ex->5\n",
    "* Create new features\n",
    "    * Derived\n",
    "    E.g., `NumFloors` in a property\n",
    "    * Indicators (booleans)\n",
    "    E.g., `IsPUD` whether a property is in a PUD\n",
    "* Collapse number of categories for categorical features on a case-by-case basis\n",
    "E.g., `OverallQual` has scale 1-10. 1-3 are simplified to \"bad\", 4-6 are \"normal\", 7-10 are \"good\"\n",
    "* Dummify categorical features"
   ],
   "metadata": {
    "collapsed": false
   }
  },
  {
   "cell_type": "code",
   "execution_count": 602,
   "outputs": [
    {
     "name": "stdout",
     "output_type": "stream",
     "text": [
      "The autoreload extension is already loaded. To reload it, use:\n",
      "  %reload_ext autoreload\n"
     ]
    }
   ],
   "source": [
    "%load_ext autoreload\n",
    "%autoreload 2"
   ],
   "metadata": {
    "collapsed": false,
    "pycharm": {
     "name": "#%%\n"
    }
   }
  },
  {
   "cell_type": "code",
   "execution_count": 603,
   "metadata": {
    "collapsed": true
   },
   "outputs": [],
   "source": [
    "import pandas as pd\n",
    "import numpy as np\n",
    "import data_dict\n",
    "import features"
   ]
  },
  {
   "cell_type": "code",
   "execution_count": 604,
   "outputs": [],
   "source": [
    "df = pd.read_csv(\"../data/cleaned.csv\")\n",
    "df.drop('Unnamed: 0', inplace=True, axis=1)"
   ],
   "metadata": {
    "collapsed": false,
    "pycharm": {
     "name": "#%%\n"
    }
   }
  },
  {
   "cell_type": "markdown",
   "source": [
    "## Convert numerical data to categorical\n",
    "`YrSold`, `MoSold`, and `MSSubClass` are categorical data but are encoded as integers in the dataset"
   ],
   "metadata": {
    "collapsed": false
   }
  },
  {
   "cell_type": "code",
   "execution_count": 605,
   "outputs": [],
   "source": [
    "# NOTE: We will treat MoSold and YrSold as categorical because there are only 12 (Jan->Dec) and 5 values (2006->2010).\n",
    "# This might not be the case if we had many years of sales data in our dataset\n",
    "df['YrSold'] = df['YrSold'].astype(str)\n",
    "df['MoSold'] = df.MoSold.map(data_dict.convert_mosold)\n",
    "df['MSSubClass'] = df['MSSubClass'].astype(str)\n",
    "\n",
    "# Because we write out to a csv, we need to make sure that YrSold and MSSubClass are read back as categorical in other files.\n",
    "# So we prepend a string to these columns\n",
    "df['YrSold'] = df['YrSold'].apply(lambda x: \"Yr_\" + x)\n",
    "df['MSSubClass'] = df['MSSubClass'].apply(lambda x: \"Dwelling_\" + x)"
   ],
   "metadata": {
    "collapsed": false,
    "pycharm": {
     "name": "#%%\n"
    }
   }
  },
  {
   "cell_type": "markdown",
   "source": [
    "## Convert categorical to ordinal"
   ],
   "metadata": {
    "collapsed": false
   }
  },
  {
   "cell_type": "code",
   "execution_count": 606,
   "outputs": [],
   "source": [
    "# Overall features\n",
    "# NO OP: These are already ordinalized"
   ],
   "metadata": {
    "collapsed": false,
    "pycharm": {
     "name": "#%%\n"
    }
   }
  },
  {
   "cell_type": "code",
   "execution_count": 607,
   "outputs": [],
   "source": [
    "# Exterior features\n",
    "df['ExterQual'] = df.ExterQual.map(data_dict.convert_exterqual)\n",
    "df['ExterCond'] = df.ExterCond.map(data_dict.convert_extercond)"
   ],
   "metadata": {
    "collapsed": false,
    "pycharm": {
     "name": "#%%\n"
    }
   }
  },
  {
   "cell_type": "code",
   "execution_count": 608,
   "outputs": [],
   "source": [
    "# Basement features\n",
    "df['BsmtQual'] = df.BsmtQual.map(data_dict.convert_bsmtqual)\n",
    "df['BsmtCond'] = df.BsmtCond.map(data_dict.convert_bsmtcond)\n",
    "df['BsmtExposure'] = df.BsmtExposure.map(data_dict.convert_bsmtexposure)\n",
    "df['BsmtFinType1'] = df.BsmtFinType1.map(data_dict.convert_bsmtfintype)\n",
    "df['BsmtFinType2'] = df.BsmtFinType2.map(data_dict.convert_bsmtfintype)"
   ],
   "metadata": {
    "collapsed": false,
    "pycharm": {
     "name": "#%%\n"
    }
   }
  },
  {
   "cell_type": "code",
   "execution_count": 609,
   "outputs": [],
   "source": [
    "# Home Interior features\n",
    "df['Functional'] = df.Functional.map(data_dict.convert_functional)\n",
    "df['FireplaceQu'] = df.FireplaceQu.map(data_dict.convert_fireplacequ)\n",
    "df['HeatingQC'] = df.HeatingQC.map(data_dict.convert_heatingqc)\n",
    "df['KitchenQual'] = df.KitchenQual.map(data_dict.convert_kitchenqual)"
   ],
   "metadata": {
    "collapsed": false,
    "pycharm": {
     "name": "#%%\n"
    }
   }
  },
  {
   "cell_type": "code",
   "execution_count": 610,
   "outputs": [],
   "source": [
    "# Land features\n",
    "df['LandSlope'] = df.LandSlope.map(data_dict.convert_landslope)\n",
    "df['LotShape'] = df.LotShape.map(data_dict.convert_lotshape)"
   ],
   "metadata": {
    "collapsed": false,
    "pycharm": {
     "name": "#%%\n"
    }
   }
  },
  {
   "cell_type": "code",
   "execution_count": 611,
   "outputs": [],
   "source": [
    "# Garage features\n",
    "df['GarageCond'] = df.GarageCond.map(data_dict.convert_garagecond)\n",
    "df['GarageQual'] = df.GarageQual.map(data_dict.convert_garagequal)"
   ],
   "metadata": {
    "collapsed": false,
    "pycharm": {
     "name": "#%%\n"
    }
   }
  },
  {
   "cell_type": "code",
   "execution_count": 612,
   "outputs": [],
   "source": [
    "# Road features\n",
    "df['Street'] = df.Street.map(data_dict.convert_street)\n",
    "df['PavedDrive'] = df.PavedDrive.map(data_dict.convert_paveddrive)\n",
    "df['Alley'] = df.Alley.map(data_dict.convert_alley)"
   ],
   "metadata": {
    "collapsed": false,
    "pycharm": {
     "name": "#%%\n"
    }
   }
  },
  {
   "cell_type": "code",
   "execution_count": 613,
   "outputs": [],
   "source": [
    "# Other features\n",
    "df['Utilities'] = df.Utilities.map(data_dict.convert_utilities)\n",
    "df['PoolQC'] = df.PoolQC.map(data_dict.convert_poolqc)"
   ],
   "metadata": {
    "collapsed": false,
    "pycharm": {
     "name": "#%%\n"
    }
   }
  },
  {
   "cell_type": "markdown",
   "source": [
    "## New Features\n",
    "New data we can create from existing data. Does not mean we need to drop old data columns"
   ],
   "metadata": {
    "collapsed": false
   }
  },
  {
   "cell_type": "code",
   "execution_count": 614,
   "outputs": [],
   "source": [
    "# See whether a property is in a PUD from the dwelling type\n",
    "df['IsPUD'] = df.MSSubClass.map(data_dict.get_pud_indicator)"
   ],
   "metadata": {
    "collapsed": false,
    "pycharm": {
     "name": "#%%\n"
    }
   }
  },
  {
   "cell_type": "code",
   "execution_count": 615,
   "outputs": [],
   "source": [
    "# TODO LotShape isRegular"
   ],
   "metadata": {
    "collapsed": false,
    "pycharm": {
     "name": "#%%\n"
    }
   }
  },
  {
   "cell_type": "code",
   "execution_count": 616,
   "outputs": [],
   "source": [
    "# Get number of floors for the property from the dwelling type\n",
    "df['NumFloors'] = df.MSSubClass.map(data_dict.get_num_floors)"
   ],
   "metadata": {
    "collapsed": false,
    "pycharm": {
     "name": "#%%\n"
    }
   }
  },
  {
   "cell_type": "markdown",
   "source": [
    "## Collapse/Combine Features\n",
    "* Collapse: Use smaller scales for Likert scale-type categorical features (and drop the larger scale feature)\n",
    "* Combine: Convert multiple features into a new feature (and drop the others)"
   ],
   "metadata": {
    "collapsed": false
   }
  },
  {
   "cell_type": "markdown",
   "source": [
    "Use smaller scales. Featured prefixed with `Collapse_`"
   ],
   "metadata": {
    "collapsed": false
   }
  },
  {
   "cell_type": "code",
   "execution_count": 617,
   "outputs": [],
   "source": [
    "df['Collapse_MSSubClass'] = df.MSSubClass.map(data_dict.collapse_mssubclass)\n",
    "df.drop(['MSSubClass'], inplace=True, axis=1)\n",
    "# TODO ask team others: (*Qual, *Cond)->*QualCond, Year->Age, IsNew,"
   ],
   "metadata": {
    "collapsed": false,
    "pycharm": {
     "name": "#%%\n"
    }
   }
  },
  {
   "cell_type": "markdown",
   "source": [
    "Combine multiple features. Features prefixed with `Combined_`"
   ],
   "metadata": {
    "collapsed": false,
    "pycharm": {
     "name": "#%% md\n"
    }
   }
  },
  {
   "cell_type": "code",
   "execution_count": 618,
   "outputs": [],
   "source": [
    "# Bathrooms\n",
    "df['Combine_BathroomsBsmt'] = df['BsmtFullBath'] + df['BsmtHalfBath']*.5\n",
    "df['Combine_BathroomsAbvGrd'] = df['FullBath'] + df['HalfBath']*0.5\n",
    "df.drop(['BsmtFullBath', 'BsmtHalfBath', 'FullBath', 'HalfBath'], inplace=True, axis=1)"
   ],
   "metadata": {
    "collapsed": false,
    "pycharm": {
     "name": "#%%\n"
    }
   }
  },
  {
   "cell_type": "code",
   "execution_count": 619,
   "outputs": [
    {
     "data": {
      "text/plain": "      Combine_Age  tempYrSold  YearBuilt  YearRemodAdd\n0              60        2010       1939          1950\n1              25        2009       1984          1984\n2               0        2007       1930          2007\n3               6        2009       1900          2003\n4               8        2009       2001          2001\n...           ...         ...        ...           ...\n2572           59        2009       1916          1950\n2573           54        2009       1955          1955\n2574           57        2007       1949          1950\n2575            7        2007       2000          2000\n2576           12        2006       1993          1994\n\n[2577 rows x 4 columns]",
      "text/html": "<div>\n<style scoped>\n    .dataframe tbody tr th:only-of-type {\n        vertical-align: middle;\n    }\n\n    .dataframe tbody tr th {\n        vertical-align: top;\n    }\n\n    .dataframe thead th {\n        text-align: right;\n    }\n</style>\n<table border=\"1\" class=\"dataframe\">\n  <thead>\n    <tr style=\"text-align: right;\">\n      <th></th>\n      <th>Combine_Age</th>\n      <th>tempYrSold</th>\n      <th>YearBuilt</th>\n      <th>YearRemodAdd</th>\n    </tr>\n  </thead>\n  <tbody>\n    <tr>\n      <th>0</th>\n      <td>60</td>\n      <td>2010</td>\n      <td>1939</td>\n      <td>1950</td>\n    </tr>\n    <tr>\n      <th>1</th>\n      <td>25</td>\n      <td>2009</td>\n      <td>1984</td>\n      <td>1984</td>\n    </tr>\n    <tr>\n      <th>2</th>\n      <td>0</td>\n      <td>2007</td>\n      <td>1930</td>\n      <td>2007</td>\n    </tr>\n    <tr>\n      <th>3</th>\n      <td>6</td>\n      <td>2009</td>\n      <td>1900</td>\n      <td>2003</td>\n    </tr>\n    <tr>\n      <th>4</th>\n      <td>8</td>\n      <td>2009</td>\n      <td>2001</td>\n      <td>2001</td>\n    </tr>\n    <tr>\n      <th>...</th>\n      <td>...</td>\n      <td>...</td>\n      <td>...</td>\n      <td>...</td>\n    </tr>\n    <tr>\n      <th>2572</th>\n      <td>59</td>\n      <td>2009</td>\n      <td>1916</td>\n      <td>1950</td>\n    </tr>\n    <tr>\n      <th>2573</th>\n      <td>54</td>\n      <td>2009</td>\n      <td>1955</td>\n      <td>1955</td>\n    </tr>\n    <tr>\n      <th>2574</th>\n      <td>57</td>\n      <td>2007</td>\n      <td>1949</td>\n      <td>1950</td>\n    </tr>\n    <tr>\n      <th>2575</th>\n      <td>7</td>\n      <td>2007</td>\n      <td>2000</td>\n      <td>2000</td>\n    </tr>\n    <tr>\n      <th>2576</th>\n      <td>12</td>\n      <td>2006</td>\n      <td>1993</td>\n      <td>1994</td>\n    </tr>\n  </tbody>\n</table>\n<p>2577 rows × 4 columns</p>\n</div>"
     },
     "execution_count": 619,
     "metadata": {},
     "output_type": "execute_result"
    }
   ],
   "source": [
    "# Age (since remodeling, if property was remodeled)\n",
    "df['tempYrSold'] = df['YrSold'].apply(lambda y: (y[3:])).astype(int)\n",
    "df['tempWasRenovatedAfterBuilding'] = df.apply(lambda x: x['YearRemodAdd'] > x['YearBuilt'], axis=1)\n",
    "df['Combine_Age'] = df.apply(lambda x: (x['tempYrSold'] - x['YearRemodAdd']) if x['tempWasRenovatedAfterBuilding'] else (x['tempYrSold'] - x['YearBuilt']),\n",
    "                             axis=1)\n",
    "# Check\n",
    "df[['Combine_Age', 'tempYrSold', 'YearBuilt', 'YearRemodAdd']]"
   ],
   "metadata": {
    "collapsed": false,
    "pycharm": {
     "name": "#%%\n"
    }
   }
  },
  {
   "cell_type": "code",
   "execution_count": 620,
   "outputs": [],
   "source": [
    "df.drop(['tempYrSold', 'tempWasRenovatedAfterBuilding'], inplace=True, axis=1)\n",
    "df.drop(['YearBuilt', 'YearRemodAdd'], inplace=True, axis=1)"
   ],
   "metadata": {
    "collapsed": false,
    "pycharm": {
     "name": "#%%\n"
    }
   }
  },
  {
   "cell_type": "markdown",
   "source": [
    "## Drop Other Features\n",
    "Drop features that have been identified via EDA to be\n",
    "* causes of multicolinearity\n",
    "* have low explanatory power (insignificant; having low p-values)"
   ],
   "metadata": {
    "collapsed": false,
    "pycharm": {
     "name": "#%% md\n"
    }
   }
  },
  {
   "cell_type": "code",
   "execution_count": 621,
   "outputs": [],
   "source": [
    "# TODO drop features"
   ],
   "metadata": {
    "collapsed": false,
    "pycharm": {
     "name": "#%%\n"
    }
   }
  },
  {
   "cell_type": "markdown",
   "source": [
    "## Add Log Target (SalePrice)\n",
    "From EDA, we found that the distributions of features are skewed when plotted against `SalePrice`"
   ],
   "metadata": {
    "collapsed": false
   }
  },
  {
   "cell_type": "code",
   "execution_count": 622,
   "outputs": [],
   "source": [
    "df['LogSalePrice'] = np.log(df.SalePrice)"
   ],
   "metadata": {
    "collapsed": false,
    "pycharm": {
     "name": "#%%\n"
    }
   }
  },
  {
   "cell_type": "markdown",
   "source": [
    "#### Housekeeping\n",
    "Check that we organized every feature"
   ],
   "metadata": {
    "collapsed": false
   }
  },
  {
   "cell_type": "code",
   "execution_count": 623,
   "outputs": [
    {
     "name": "stdout",
     "output_type": "stream",
     "text": [
      "81 #columns == 80 #features+PID+SalePrice\n"
     ]
    }
   ],
   "source": [
    "# Test that we have all features labeled by type of data\n",
    "features.check_features(df)"
   ],
   "metadata": {
    "collapsed": false,
    "pycharm": {
     "name": "#%%\n"
    }
   }
  },
  {
   "cell_type": "code",
   "execution_count": 624,
   "outputs": [
    {
     "data": {
      "text/plain": "      df.columns     features\n0       1stFlrSF     1stFlrSF\n1       2ndFlrSF     2ndFlrSF\n2      3SsnPorch    3SsnPorch\n3          Alley  AbvGrdBaths\n4   BedroomAbvGr        Alley\n..           ...          ...\n76  TotRmsAbvGrd  TotalBsmtSF\n77   TotalBsmtSF    Utilities\n78     Utilities   WoodDeckSF\n79    WoodDeckSF       YrSold\n80        YrSold          NaN\n\n[81 rows x 2 columns]",
      "text/html": "<div>\n<style scoped>\n    .dataframe tbody tr th:only-of-type {\n        vertical-align: middle;\n    }\n\n    .dataframe tbody tr th {\n        vertical-align: top;\n    }\n\n    .dataframe thead th {\n        text-align: right;\n    }\n</style>\n<table border=\"1\" class=\"dataframe\">\n  <thead>\n    <tr style=\"text-align: right;\">\n      <th></th>\n      <th>df.columns</th>\n      <th>features</th>\n    </tr>\n  </thead>\n  <tbody>\n    <tr>\n      <th>0</th>\n      <td>1stFlrSF</td>\n      <td>1stFlrSF</td>\n    </tr>\n    <tr>\n      <th>1</th>\n      <td>2ndFlrSF</td>\n      <td>2ndFlrSF</td>\n    </tr>\n    <tr>\n      <th>2</th>\n      <td>3SsnPorch</td>\n      <td>3SsnPorch</td>\n    </tr>\n    <tr>\n      <th>3</th>\n      <td>Alley</td>\n      <td>AbvGrdBaths</td>\n    </tr>\n    <tr>\n      <th>4</th>\n      <td>BedroomAbvGr</td>\n      <td>Alley</td>\n    </tr>\n    <tr>\n      <th>...</th>\n      <td>...</td>\n      <td>...</td>\n    </tr>\n    <tr>\n      <th>76</th>\n      <td>TotRmsAbvGrd</td>\n      <td>TotalBsmtSF</td>\n    </tr>\n    <tr>\n      <th>77</th>\n      <td>TotalBsmtSF</td>\n      <td>Utilities</td>\n    </tr>\n    <tr>\n      <th>78</th>\n      <td>Utilities</td>\n      <td>WoodDeckSF</td>\n    </tr>\n    <tr>\n      <th>79</th>\n      <td>WoodDeckSF</td>\n      <td>YrSold</td>\n    </tr>\n    <tr>\n      <th>80</th>\n      <td>YrSold</td>\n      <td>NaN</td>\n    </tr>\n  </tbody>\n</table>\n<p>81 rows × 2 columns</p>\n</div>"
     },
     "execution_count": 624,
     "metadata": {},
     "output_type": "execute_result"
    }
   ],
   "source": [
    "# Manually check that these are the same\n",
    "features.check_features2(df)"
   ],
   "metadata": {
    "collapsed": false,
    "pycharm": {
     "name": "#%%\n"
    }
   }
  },
  {
   "cell_type": "markdown",
   "source": [
    "### Dummify\n",
    "Dummify the categorical features"
   ],
   "metadata": {
    "collapsed": false
   }
  },
  {
   "cell_type": "code",
   "execution_count": 625,
   "outputs": [],
   "source": [
    "dummies = pd.get_dummies(df, columns = features.get_categorical_features(),\n",
    "                         prefix = features.get_categorical_features(), drop_first=True)"
   ],
   "metadata": {
    "collapsed": false,
    "pycharm": {
     "name": "#%%\n"
    }
   }
  },
  {
   "cell_type": "code",
   "execution_count": 626,
   "outputs": [
    {
     "data": {
      "text/plain": "            PID  GrLivArea  SalePrice  LotFrontage  LotArea  Street  Alley  \\\n0     909176150        856     126000         66.0     7890       2      0   \n1     905476230       1049     139500         42.0     4235       2      0   \n2     911128020       1001     124900         60.0     6060       2      0   \n3     535377150       1039     114000         80.0     8146       2      0   \n4     534177230       1665     227000         70.0     8400       2      0   \n...         ...        ...        ...          ...      ...     ...    ...   \n2572  903205040        952     121000         66.0     8854       2      0   \n2573  905402060       1733     139600         74.0    13680       2      0   \n2574  909275030       2002     145000         82.0     6270       2      0   \n2575  907192040       1842     217500         66.0     8826       2      0   \n2576  906223180       1911     215000         80.0     9554       2      0   \n\n      LotShape  Utilities  LandSlope  ...  MoSold_December  MoSold_February  \\\n0            4          4          3  ...                0                0   \n1            4          4          3  ...                0                1   \n2            4          4          3  ...                0                0   \n3            4          4          3  ...                0                0   \n4            4          4          3  ...                0                0   \n...        ...        ...        ...  ...              ...              ...   \n2572         4          4          3  ...                0                0   \n2573         3          4          3  ...                0                0   \n2574         4          4          3  ...                0                0   \n2575         4          4          3  ...                0                0   \n2576         3          4          3  ...                0                0   \n\n      MoSold_January  MoSold_July  MoSold_June  MoSold_March  MoSold_May  \\\n0                  0            0            0             1           0   \n1                  0            0            0             0           0   \n2                  0            0            0             0           0   \n3                  0            0            0             0           1   \n4                  0            0            0             0           0   \n...              ...          ...          ...           ...         ...   \n2572               0            0            0             0           1   \n2573               0            0            1             0           0   \n2574               0            0            0             0           0   \n2575               0            1            0             0           0   \n2576               0            0            0             0           0   \n\n      MoSold_November  MoSold_October  MoSold_September  \n0                   0               0                 0  \n1                   0               0                 0  \n2                   1               0                 0  \n3                   0               0                 0  \n4                   1               0                 0  \n...               ...             ...               ...  \n2572                0               0                 0  \n2573                0               0                 0  \n2574                0               0                 0  \n2575                0               0                 0  \n2576                0               0                 1  \n\n[2577 rows x 226 columns]",
      "text/html": "<div>\n<style scoped>\n    .dataframe tbody tr th:only-of-type {\n        vertical-align: middle;\n    }\n\n    .dataframe tbody tr th {\n        vertical-align: top;\n    }\n\n    .dataframe thead th {\n        text-align: right;\n    }\n</style>\n<table border=\"1\" class=\"dataframe\">\n  <thead>\n    <tr style=\"text-align: right;\">\n      <th></th>\n      <th>PID</th>\n      <th>GrLivArea</th>\n      <th>SalePrice</th>\n      <th>LotFrontage</th>\n      <th>LotArea</th>\n      <th>Street</th>\n      <th>Alley</th>\n      <th>LotShape</th>\n      <th>Utilities</th>\n      <th>LandSlope</th>\n      <th>...</th>\n      <th>MoSold_December</th>\n      <th>MoSold_February</th>\n      <th>MoSold_January</th>\n      <th>MoSold_July</th>\n      <th>MoSold_June</th>\n      <th>MoSold_March</th>\n      <th>MoSold_May</th>\n      <th>MoSold_November</th>\n      <th>MoSold_October</th>\n      <th>MoSold_September</th>\n    </tr>\n  </thead>\n  <tbody>\n    <tr>\n      <th>0</th>\n      <td>909176150</td>\n      <td>856</td>\n      <td>126000</td>\n      <td>66.0</td>\n      <td>7890</td>\n      <td>2</td>\n      <td>0</td>\n      <td>4</td>\n      <td>4</td>\n      <td>3</td>\n      <td>...</td>\n      <td>0</td>\n      <td>0</td>\n      <td>0</td>\n      <td>0</td>\n      <td>0</td>\n      <td>1</td>\n      <td>0</td>\n      <td>0</td>\n      <td>0</td>\n      <td>0</td>\n    </tr>\n    <tr>\n      <th>1</th>\n      <td>905476230</td>\n      <td>1049</td>\n      <td>139500</td>\n      <td>42.0</td>\n      <td>4235</td>\n      <td>2</td>\n      <td>0</td>\n      <td>4</td>\n      <td>4</td>\n      <td>3</td>\n      <td>...</td>\n      <td>0</td>\n      <td>1</td>\n      <td>0</td>\n      <td>0</td>\n      <td>0</td>\n      <td>0</td>\n      <td>0</td>\n      <td>0</td>\n      <td>0</td>\n      <td>0</td>\n    </tr>\n    <tr>\n      <th>2</th>\n      <td>911128020</td>\n      <td>1001</td>\n      <td>124900</td>\n      <td>60.0</td>\n      <td>6060</td>\n      <td>2</td>\n      <td>0</td>\n      <td>4</td>\n      <td>4</td>\n      <td>3</td>\n      <td>...</td>\n      <td>0</td>\n      <td>0</td>\n      <td>0</td>\n      <td>0</td>\n      <td>0</td>\n      <td>0</td>\n      <td>0</td>\n      <td>1</td>\n      <td>0</td>\n      <td>0</td>\n    </tr>\n    <tr>\n      <th>3</th>\n      <td>535377150</td>\n      <td>1039</td>\n      <td>114000</td>\n      <td>80.0</td>\n      <td>8146</td>\n      <td>2</td>\n      <td>0</td>\n      <td>4</td>\n      <td>4</td>\n      <td>3</td>\n      <td>...</td>\n      <td>0</td>\n      <td>0</td>\n      <td>0</td>\n      <td>0</td>\n      <td>0</td>\n      <td>0</td>\n      <td>1</td>\n      <td>0</td>\n      <td>0</td>\n      <td>0</td>\n    </tr>\n    <tr>\n      <th>4</th>\n      <td>534177230</td>\n      <td>1665</td>\n      <td>227000</td>\n      <td>70.0</td>\n      <td>8400</td>\n      <td>2</td>\n      <td>0</td>\n      <td>4</td>\n      <td>4</td>\n      <td>3</td>\n      <td>...</td>\n      <td>0</td>\n      <td>0</td>\n      <td>0</td>\n      <td>0</td>\n      <td>0</td>\n      <td>0</td>\n      <td>0</td>\n      <td>1</td>\n      <td>0</td>\n      <td>0</td>\n    </tr>\n    <tr>\n      <th>...</th>\n      <td>...</td>\n      <td>...</td>\n      <td>...</td>\n      <td>...</td>\n      <td>...</td>\n      <td>...</td>\n      <td>...</td>\n      <td>...</td>\n      <td>...</td>\n      <td>...</td>\n      <td>...</td>\n      <td>...</td>\n      <td>...</td>\n      <td>...</td>\n      <td>...</td>\n      <td>...</td>\n      <td>...</td>\n      <td>...</td>\n      <td>...</td>\n      <td>...</td>\n      <td>...</td>\n    </tr>\n    <tr>\n      <th>2572</th>\n      <td>903205040</td>\n      <td>952</td>\n      <td>121000</td>\n      <td>66.0</td>\n      <td>8854</td>\n      <td>2</td>\n      <td>0</td>\n      <td>4</td>\n      <td>4</td>\n      <td>3</td>\n      <td>...</td>\n      <td>0</td>\n      <td>0</td>\n      <td>0</td>\n      <td>0</td>\n      <td>0</td>\n      <td>0</td>\n      <td>1</td>\n      <td>0</td>\n      <td>0</td>\n      <td>0</td>\n    </tr>\n    <tr>\n      <th>2573</th>\n      <td>905402060</td>\n      <td>1733</td>\n      <td>139600</td>\n      <td>74.0</td>\n      <td>13680</td>\n      <td>2</td>\n      <td>0</td>\n      <td>3</td>\n      <td>4</td>\n      <td>3</td>\n      <td>...</td>\n      <td>0</td>\n      <td>0</td>\n      <td>0</td>\n      <td>0</td>\n      <td>1</td>\n      <td>0</td>\n      <td>0</td>\n      <td>0</td>\n      <td>0</td>\n      <td>0</td>\n    </tr>\n    <tr>\n      <th>2574</th>\n      <td>909275030</td>\n      <td>2002</td>\n      <td>145000</td>\n      <td>82.0</td>\n      <td>6270</td>\n      <td>2</td>\n      <td>0</td>\n      <td>4</td>\n      <td>4</td>\n      <td>3</td>\n      <td>...</td>\n      <td>0</td>\n      <td>0</td>\n      <td>0</td>\n      <td>0</td>\n      <td>0</td>\n      <td>0</td>\n      <td>0</td>\n      <td>0</td>\n      <td>0</td>\n      <td>0</td>\n    </tr>\n    <tr>\n      <th>2575</th>\n      <td>907192040</td>\n      <td>1842</td>\n      <td>217500</td>\n      <td>66.0</td>\n      <td>8826</td>\n      <td>2</td>\n      <td>0</td>\n      <td>4</td>\n      <td>4</td>\n      <td>3</td>\n      <td>...</td>\n      <td>0</td>\n      <td>0</td>\n      <td>0</td>\n      <td>1</td>\n      <td>0</td>\n      <td>0</td>\n      <td>0</td>\n      <td>0</td>\n      <td>0</td>\n      <td>0</td>\n    </tr>\n    <tr>\n      <th>2576</th>\n      <td>906223180</td>\n      <td>1911</td>\n      <td>215000</td>\n      <td>80.0</td>\n      <td>9554</td>\n      <td>2</td>\n      <td>0</td>\n      <td>3</td>\n      <td>4</td>\n      <td>3</td>\n      <td>...</td>\n      <td>0</td>\n      <td>0</td>\n      <td>0</td>\n      <td>0</td>\n      <td>0</td>\n      <td>0</td>\n      <td>0</td>\n      <td>0</td>\n      <td>0</td>\n      <td>1</td>\n    </tr>\n  </tbody>\n</table>\n<p>2577 rows × 226 columns</p>\n</div>"
     },
     "execution_count": 626,
     "metadata": {},
     "output_type": "execute_result"
    }
   ],
   "source": [
    "dummies"
   ],
   "metadata": {
    "collapsed": false,
    "pycharm": {
     "name": "#%%\n"
    }
   }
  },
  {
   "cell_type": "markdown",
   "source": [
    "Save outputs"
   ],
   "metadata": {
    "collapsed": false
   }
  },
  {
   "cell_type": "code",
   "execution_count": 627,
   "outputs": [],
   "source": [
    "df.to_csv(\"../data/engineered.csv\")"
   ],
   "metadata": {
    "collapsed": false,
    "pycharm": {
     "name": "#%%\n"
    }
   }
  },
  {
   "cell_type": "code",
   "execution_count": 628,
   "outputs": [],
   "source": [
    "dummies.to_csv(\"../data/engineered_encoded.csv\")"
   ],
   "metadata": {
    "collapsed": false,
    "pycharm": {
     "name": "#%%\n"
    }
   }
  }
 ],
 "metadata": {
  "kernelspec": {
   "display_name": "Python 3",
   "language": "python",
   "name": "python3"
  },
  "language_info": {
   "codemirror_mode": {
    "name": "ipython",
    "version": 2
   },
   "file_extension": ".py",
   "mimetype": "text/x-python",
   "name": "python",
   "nbconvert_exporter": "python",
   "pygments_lexer": "ipython2",
   "version": "2.7.6"
  }
 },
 "nbformat": 4,
 "nbformat_minor": 0
}