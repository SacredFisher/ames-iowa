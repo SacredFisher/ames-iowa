{
 "cells": [
  {
   "cell_type": "code",
   "execution_count": 41,
   "outputs": [
    {
     "name": "stdout",
     "output_type": "stream",
     "text": [
      "The autoreload extension is already loaded. To reload it, use:\n",
      "  %reload_ext autoreload\n"
     ]
    }
   ],
   "source": [
    "%load_ext autoreload\n",
    "%autoreload 2"
   ],
   "metadata": {
    "collapsed": false,
    "pycharm": {
     "name": "#%%\n"
    }
   }
  },
  {
   "cell_type": "code",
   "execution_count": 42,
   "metadata": {
    "collapsed": true
   },
   "outputs": [],
   "source": [
    "import pandas as pd\n",
    "from sklearn.linear_model import LinearRegression\n",
    "from sklearn.model_selection import train_test_split\n",
    "from sklearn.metrics import mean_squared_error\n",
    "import features\n",
    "import numpy as np\n",
    "import matplotlib.pyplot as plt\n",
    "import statsmodels.api as sm"
   ]
  },
  {
   "cell_type": "code",
   "execution_count": 43,
   "outputs": [],
   "source": [
    "ames = pd.read_csv(\"../data/engineered.csv\")\n",
    "ames.drop(\"Unnamed: 0\", axis=1, inplace=True)"
   ],
   "metadata": {
    "collapsed": false,
    "pycharm": {
     "name": "#%%\n"
    }
   }
  },
  {
   "cell_type": "code",
   "execution_count": 44,
   "outputs": [
    {
     "data": {
      "text/plain": "      GrLivArea  AllBathrooms  BedroomAbvGr    MSSubClass MSZoning  \\\n0           856           2.0             2   Dwelling_30       RL   \n1          1049           3.0             2  Dwelling_120       RL   \n2          1001           1.0             2   Dwelling_30  C (all)   \n3          1039           1.0             2   Dwelling_70       RL   \n4          1665           3.5             3   Dwelling_60       RL   \n...         ...           ...           ...           ...      ...   \n2572        952           1.0             2   Dwelling_30       RL   \n2573       1733           2.0             4   Dwelling_20       RL   \n2574       2002           2.0             4   Dwelling_90       RH   \n2575       1842           3.5             3   Dwelling_60       RL   \n2576       1911           2.5             3   Dwelling_60       RL   \n\n      OverallQual  OverallCond Neighborhood  KitchenQual SaleCondition  \\\n0               6            6        SWISU            3        Normal   \n1               5            5      Edwards            4        Normal   \n2               5            9       IDOTRR            4        Normal   \n3               4            8      OldTown            3        Normal   \n4               8            6       NWAmes            4        Normal   \n...           ...          ...          ...          ...           ...   \n2572            6            6      BrkSide            2        Normal   \n2573            3            5      Edwards            3        Normal   \n2574            5            6      Crawfor            3        Normal   \n2575            7            5      CollgCr            4        Normal   \n2576            8            5      SawyerW            4        Normal   \n\n       YrSold CentralAir  Fireplaces  IsNearNegativeCondition LandContour  \n0     Yr_2010          Y           1                        0         Lvl  \n1     Yr_2009          Y           0                        0         Lvl  \n2     Yr_2007          Y           0                        0         Lvl  \n3     Yr_2009          Y           0                        0         Lvl  \n4     Yr_2009          Y           0                        0         Lvl  \n...       ...        ...         ...                      ...         ...  \n2572  Yr_2009          N           1                        0         Lvl  \n2573  Yr_2009          Y           1                        0         Lvl  \n2574  Yr_2007          N           0                        0         HLS  \n2575  Yr_2007          Y           1                        0         Lvl  \n2576  Yr_2006          Y           1                        0         Lvl  \n\n[2577 rows x 15 columns]",
      "text/html": "<div>\n<style scoped>\n    .dataframe tbody tr th:only-of-type {\n        vertical-align: middle;\n    }\n\n    .dataframe tbody tr th {\n        vertical-align: top;\n    }\n\n    .dataframe thead th {\n        text-align: right;\n    }\n</style>\n<table border=\"1\" class=\"dataframe\">\n  <thead>\n    <tr style=\"text-align: right;\">\n      <th></th>\n      <th>GrLivArea</th>\n      <th>AllBathrooms</th>\n      <th>BedroomAbvGr</th>\n      <th>MSSubClass</th>\n      <th>MSZoning</th>\n      <th>OverallQual</th>\n      <th>OverallCond</th>\n      <th>Neighborhood</th>\n      <th>KitchenQual</th>\n      <th>SaleCondition</th>\n      <th>YrSold</th>\n      <th>CentralAir</th>\n      <th>Fireplaces</th>\n      <th>IsNearNegativeCondition</th>\n      <th>LandContour</th>\n    </tr>\n  </thead>\n  <tbody>\n    <tr>\n      <th>0</th>\n      <td>856</td>\n      <td>2.0</td>\n      <td>2</td>\n      <td>Dwelling_30</td>\n      <td>RL</td>\n      <td>6</td>\n      <td>6</td>\n      <td>SWISU</td>\n      <td>3</td>\n      <td>Normal</td>\n      <td>Yr_2010</td>\n      <td>Y</td>\n      <td>1</td>\n      <td>0</td>\n      <td>Lvl</td>\n    </tr>\n    <tr>\n      <th>1</th>\n      <td>1049</td>\n      <td>3.0</td>\n      <td>2</td>\n      <td>Dwelling_120</td>\n      <td>RL</td>\n      <td>5</td>\n      <td>5</td>\n      <td>Edwards</td>\n      <td>4</td>\n      <td>Normal</td>\n      <td>Yr_2009</td>\n      <td>Y</td>\n      <td>0</td>\n      <td>0</td>\n      <td>Lvl</td>\n    </tr>\n    <tr>\n      <th>2</th>\n      <td>1001</td>\n      <td>1.0</td>\n      <td>2</td>\n      <td>Dwelling_30</td>\n      <td>C (all)</td>\n      <td>5</td>\n      <td>9</td>\n      <td>IDOTRR</td>\n      <td>4</td>\n      <td>Normal</td>\n      <td>Yr_2007</td>\n      <td>Y</td>\n      <td>0</td>\n      <td>0</td>\n      <td>Lvl</td>\n    </tr>\n    <tr>\n      <th>3</th>\n      <td>1039</td>\n      <td>1.0</td>\n      <td>2</td>\n      <td>Dwelling_70</td>\n      <td>RL</td>\n      <td>4</td>\n      <td>8</td>\n      <td>OldTown</td>\n      <td>3</td>\n      <td>Normal</td>\n      <td>Yr_2009</td>\n      <td>Y</td>\n      <td>0</td>\n      <td>0</td>\n      <td>Lvl</td>\n    </tr>\n    <tr>\n      <th>4</th>\n      <td>1665</td>\n      <td>3.5</td>\n      <td>3</td>\n      <td>Dwelling_60</td>\n      <td>RL</td>\n      <td>8</td>\n      <td>6</td>\n      <td>NWAmes</td>\n      <td>4</td>\n      <td>Normal</td>\n      <td>Yr_2009</td>\n      <td>Y</td>\n      <td>0</td>\n      <td>0</td>\n      <td>Lvl</td>\n    </tr>\n    <tr>\n      <th>...</th>\n      <td>...</td>\n      <td>...</td>\n      <td>...</td>\n      <td>...</td>\n      <td>...</td>\n      <td>...</td>\n      <td>...</td>\n      <td>...</td>\n      <td>...</td>\n      <td>...</td>\n      <td>...</td>\n      <td>...</td>\n      <td>...</td>\n      <td>...</td>\n      <td>...</td>\n    </tr>\n    <tr>\n      <th>2572</th>\n      <td>952</td>\n      <td>1.0</td>\n      <td>2</td>\n      <td>Dwelling_30</td>\n      <td>RL</td>\n      <td>6</td>\n      <td>6</td>\n      <td>BrkSide</td>\n      <td>2</td>\n      <td>Normal</td>\n      <td>Yr_2009</td>\n      <td>N</td>\n      <td>1</td>\n      <td>0</td>\n      <td>Lvl</td>\n    </tr>\n    <tr>\n      <th>2573</th>\n      <td>1733</td>\n      <td>2.0</td>\n      <td>4</td>\n      <td>Dwelling_20</td>\n      <td>RL</td>\n      <td>3</td>\n      <td>5</td>\n      <td>Edwards</td>\n      <td>3</td>\n      <td>Normal</td>\n      <td>Yr_2009</td>\n      <td>Y</td>\n      <td>1</td>\n      <td>0</td>\n      <td>Lvl</td>\n    </tr>\n    <tr>\n      <th>2574</th>\n      <td>2002</td>\n      <td>2.0</td>\n      <td>4</td>\n      <td>Dwelling_90</td>\n      <td>RH</td>\n      <td>5</td>\n      <td>6</td>\n      <td>Crawfor</td>\n      <td>3</td>\n      <td>Normal</td>\n      <td>Yr_2007</td>\n      <td>N</td>\n      <td>0</td>\n      <td>0</td>\n      <td>HLS</td>\n    </tr>\n    <tr>\n      <th>2575</th>\n      <td>1842</td>\n      <td>3.5</td>\n      <td>3</td>\n      <td>Dwelling_60</td>\n      <td>RL</td>\n      <td>7</td>\n      <td>5</td>\n      <td>CollgCr</td>\n      <td>4</td>\n      <td>Normal</td>\n      <td>Yr_2007</td>\n      <td>Y</td>\n      <td>1</td>\n      <td>0</td>\n      <td>Lvl</td>\n    </tr>\n    <tr>\n      <th>2576</th>\n      <td>1911</td>\n      <td>2.5</td>\n      <td>3</td>\n      <td>Dwelling_60</td>\n      <td>RL</td>\n      <td>8</td>\n      <td>5</td>\n      <td>SawyerW</td>\n      <td>4</td>\n      <td>Normal</td>\n      <td>Yr_2006</td>\n      <td>Y</td>\n      <td>1</td>\n      <td>0</td>\n      <td>Lvl</td>\n    </tr>\n  </tbody>\n</table>\n<p>2577 rows × 15 columns</p>\n</div>"
     },
     "execution_count": 44,
     "metadata": {},
     "output_type": "execute_result"
    }
   ],
   "source": [
    "model = LinearRegression()\n",
    "\n",
    "# Select target and features to regress on\n",
    "target = ames.LogSalePrice\n",
    "X = ames[[\n",
    "    # Size\n",
    "    'GrLivArea', 'AllBathrooms', 'BedroomAbvGr',\n",
    "    # Type\n",
    "    'MSSubClass', 'MSZoning',\n",
    "    # Niceness\n",
    "    'OverallQual', 'OverallCond', 'Neighborhood', 'KitchenQual',\n",
    "    # Sale\n",
    "    'SaleCondition', 'YrSold',\n",
    "    # Features\n",
    "    'CentralAir', 'Fireplaces',\n",
    "    # Others\n",
    "    'IsNearNegativeCondition', 'LandContour'\n",
    "]]\n",
    "X"
   ],
   "metadata": {
    "collapsed": false,
    "pycharm": {
     "name": "#%%\n"
    }
   }
  },
  {
   "cell_type": "code",
   "execution_count": 45,
   "outputs": [
    {
     "data": {
      "text/plain": "      GrLivArea  AllBathrooms  BedroomAbvGr  OverallQual  OverallCond  \\\n0           856           2.0             2            6            6   \n1          1049           3.0             2            5            5   \n2          1001           1.0             2            5            9   \n3          1039           1.0             2            4            8   \n4          1665           3.5             3            8            6   \n...         ...           ...           ...          ...          ...   \n2572        952           1.0             2            6            6   \n2573       1733           2.0             4            3            5   \n2574       2002           2.0             4            5            6   \n2575       1842           3.5             3            7            5   \n2576       1911           2.5             3            8            5   \n\n      KitchenQual  Fireplaces  IsNearNegativeCondition  MSZoning_C (all)  \\\n0               3           1                        0                 0   \n1               4           0                        0                 0   \n2               4           0                        0                 1   \n3               3           0                        0                 0   \n4               4           0                        0                 0   \n...           ...         ...                      ...               ...   \n2572            2           1                        0                 0   \n2573            3           1                        0                 0   \n2574            3           0                        0                 0   \n2575            4           1                        0                 0   \n2576            4           1                        0                 0   \n\n      MSZoning_FV  ...  MSSubClass_Dwelling_85  MSSubClass_Dwelling_90  \\\n0               0  ...                       0                       0   \n1               0  ...                       0                       0   \n2               0  ...                       0                       0   \n3               0  ...                       0                       0   \n4               0  ...                       0                       0   \n...           ...  ...                     ...                     ...   \n2572            0  ...                       0                       0   \n2573            0  ...                       0                       0   \n2574            0  ...                       0                       1   \n2575            0  ...                       0                       0   \n2576            0  ...                       0                       0   \n\n      LandContour_HLS  LandContour_Low  LandContour_Lvl  YrSold_Yr_2007  \\\n0                   0                0                1               0   \n1                   0                0                1               0   \n2                   0                0                1               1   \n3                   0                0                1               0   \n4                   0                0                1               0   \n...               ...              ...              ...             ...   \n2572                0                0                1               0   \n2573                0                0                1               0   \n2574                1                0                0               1   \n2575                0                0                1               1   \n2576                0                0                1               0   \n\n      YrSold_Yr_2008  YrSold_Yr_2009  YrSold_Yr_2010  CentralAir_Y  \n0                  0               0               1             1  \n1                  0               1               0             1  \n2                  0               0               0             1  \n3                  0               1               0             1  \n4                  0               1               0             1  \n...              ...             ...             ...           ...  \n2572               0               1               0             0  \n2573               0               1               0             1  \n2574               0               0               0             0  \n2575               0               0               0             1  \n2576               0               0               0             1  \n\n[2577 rows x 69 columns]",
      "text/html": "<div>\n<style scoped>\n    .dataframe tbody tr th:only-of-type {\n        vertical-align: middle;\n    }\n\n    .dataframe tbody tr th {\n        vertical-align: top;\n    }\n\n    .dataframe thead th {\n        text-align: right;\n    }\n</style>\n<table border=\"1\" class=\"dataframe\">\n  <thead>\n    <tr style=\"text-align: right;\">\n      <th></th>\n      <th>GrLivArea</th>\n      <th>AllBathrooms</th>\n      <th>BedroomAbvGr</th>\n      <th>OverallQual</th>\n      <th>OverallCond</th>\n      <th>KitchenQual</th>\n      <th>Fireplaces</th>\n      <th>IsNearNegativeCondition</th>\n      <th>MSZoning_C (all)</th>\n      <th>MSZoning_FV</th>\n      <th>...</th>\n      <th>MSSubClass_Dwelling_85</th>\n      <th>MSSubClass_Dwelling_90</th>\n      <th>LandContour_HLS</th>\n      <th>LandContour_Low</th>\n      <th>LandContour_Lvl</th>\n      <th>YrSold_Yr_2007</th>\n      <th>YrSold_Yr_2008</th>\n      <th>YrSold_Yr_2009</th>\n      <th>YrSold_Yr_2010</th>\n      <th>CentralAir_Y</th>\n    </tr>\n  </thead>\n  <tbody>\n    <tr>\n      <th>0</th>\n      <td>856</td>\n      <td>2.0</td>\n      <td>2</td>\n      <td>6</td>\n      <td>6</td>\n      <td>3</td>\n      <td>1</td>\n      <td>0</td>\n      <td>0</td>\n      <td>0</td>\n      <td>...</td>\n      <td>0</td>\n      <td>0</td>\n      <td>0</td>\n      <td>0</td>\n      <td>1</td>\n      <td>0</td>\n      <td>0</td>\n      <td>0</td>\n      <td>1</td>\n      <td>1</td>\n    </tr>\n    <tr>\n      <th>1</th>\n      <td>1049</td>\n      <td>3.0</td>\n      <td>2</td>\n      <td>5</td>\n      <td>5</td>\n      <td>4</td>\n      <td>0</td>\n      <td>0</td>\n      <td>0</td>\n      <td>0</td>\n      <td>...</td>\n      <td>0</td>\n      <td>0</td>\n      <td>0</td>\n      <td>0</td>\n      <td>1</td>\n      <td>0</td>\n      <td>0</td>\n      <td>1</td>\n      <td>0</td>\n      <td>1</td>\n    </tr>\n    <tr>\n      <th>2</th>\n      <td>1001</td>\n      <td>1.0</td>\n      <td>2</td>\n      <td>5</td>\n      <td>9</td>\n      <td>4</td>\n      <td>0</td>\n      <td>0</td>\n      <td>1</td>\n      <td>0</td>\n      <td>...</td>\n      <td>0</td>\n      <td>0</td>\n      <td>0</td>\n      <td>0</td>\n      <td>1</td>\n      <td>1</td>\n      <td>0</td>\n      <td>0</td>\n      <td>0</td>\n      <td>1</td>\n    </tr>\n    <tr>\n      <th>3</th>\n      <td>1039</td>\n      <td>1.0</td>\n      <td>2</td>\n      <td>4</td>\n      <td>8</td>\n      <td>3</td>\n      <td>0</td>\n      <td>0</td>\n      <td>0</td>\n      <td>0</td>\n      <td>...</td>\n      <td>0</td>\n      <td>0</td>\n      <td>0</td>\n      <td>0</td>\n      <td>1</td>\n      <td>0</td>\n      <td>0</td>\n      <td>1</td>\n      <td>0</td>\n      <td>1</td>\n    </tr>\n    <tr>\n      <th>4</th>\n      <td>1665</td>\n      <td>3.5</td>\n      <td>3</td>\n      <td>8</td>\n      <td>6</td>\n      <td>4</td>\n      <td>0</td>\n      <td>0</td>\n      <td>0</td>\n      <td>0</td>\n      <td>...</td>\n      <td>0</td>\n      <td>0</td>\n      <td>0</td>\n      <td>0</td>\n      <td>1</td>\n      <td>0</td>\n      <td>0</td>\n      <td>1</td>\n      <td>0</td>\n      <td>1</td>\n    </tr>\n    <tr>\n      <th>...</th>\n      <td>...</td>\n      <td>...</td>\n      <td>...</td>\n      <td>...</td>\n      <td>...</td>\n      <td>...</td>\n      <td>...</td>\n      <td>...</td>\n      <td>...</td>\n      <td>...</td>\n      <td>...</td>\n      <td>...</td>\n      <td>...</td>\n      <td>...</td>\n      <td>...</td>\n      <td>...</td>\n      <td>...</td>\n      <td>...</td>\n      <td>...</td>\n      <td>...</td>\n      <td>...</td>\n    </tr>\n    <tr>\n      <th>2572</th>\n      <td>952</td>\n      <td>1.0</td>\n      <td>2</td>\n      <td>6</td>\n      <td>6</td>\n      <td>2</td>\n      <td>1</td>\n      <td>0</td>\n      <td>0</td>\n      <td>0</td>\n      <td>...</td>\n      <td>0</td>\n      <td>0</td>\n      <td>0</td>\n      <td>0</td>\n      <td>1</td>\n      <td>0</td>\n      <td>0</td>\n      <td>1</td>\n      <td>0</td>\n      <td>0</td>\n    </tr>\n    <tr>\n      <th>2573</th>\n      <td>1733</td>\n      <td>2.0</td>\n      <td>4</td>\n      <td>3</td>\n      <td>5</td>\n      <td>3</td>\n      <td>1</td>\n      <td>0</td>\n      <td>0</td>\n      <td>0</td>\n      <td>...</td>\n      <td>0</td>\n      <td>0</td>\n      <td>0</td>\n      <td>0</td>\n      <td>1</td>\n      <td>0</td>\n      <td>0</td>\n      <td>1</td>\n      <td>0</td>\n      <td>1</td>\n    </tr>\n    <tr>\n      <th>2574</th>\n      <td>2002</td>\n      <td>2.0</td>\n      <td>4</td>\n      <td>5</td>\n      <td>6</td>\n      <td>3</td>\n      <td>0</td>\n      <td>0</td>\n      <td>0</td>\n      <td>0</td>\n      <td>...</td>\n      <td>0</td>\n      <td>1</td>\n      <td>1</td>\n      <td>0</td>\n      <td>0</td>\n      <td>1</td>\n      <td>0</td>\n      <td>0</td>\n      <td>0</td>\n      <td>0</td>\n    </tr>\n    <tr>\n      <th>2575</th>\n      <td>1842</td>\n      <td>3.5</td>\n      <td>3</td>\n      <td>7</td>\n      <td>5</td>\n      <td>4</td>\n      <td>1</td>\n      <td>0</td>\n      <td>0</td>\n      <td>0</td>\n      <td>...</td>\n      <td>0</td>\n      <td>0</td>\n      <td>0</td>\n      <td>0</td>\n      <td>1</td>\n      <td>1</td>\n      <td>0</td>\n      <td>0</td>\n      <td>0</td>\n      <td>1</td>\n    </tr>\n    <tr>\n      <th>2576</th>\n      <td>1911</td>\n      <td>2.5</td>\n      <td>3</td>\n      <td>8</td>\n      <td>5</td>\n      <td>4</td>\n      <td>1</td>\n      <td>0</td>\n      <td>0</td>\n      <td>0</td>\n      <td>...</td>\n      <td>0</td>\n      <td>0</td>\n      <td>0</td>\n      <td>0</td>\n      <td>1</td>\n      <td>0</td>\n      <td>0</td>\n      <td>0</td>\n      <td>0</td>\n      <td>1</td>\n    </tr>\n  </tbody>\n</table>\n<p>2577 rows × 69 columns</p>\n</div>"
     },
     "execution_count": 45,
     "metadata": {},
     "output_type": "execute_result"
    }
   ],
   "source": [
    "# Dummify categorical features from all features selected for our model\n",
    "all_categorical_features = set(features.get_categorical_features())\n",
    "X_categorical_features = list(all_categorical_features.intersection(set(X.columns)))\n",
    "X = pd.get_dummies(X, columns=X_categorical_features, prefix=X_categorical_features, drop_first=True)\n",
    "X"
   ],
   "metadata": {
    "collapsed": false,
    "pycharm": {
     "name": "#%%\n"
    }
   }
  },
  {
   "cell_type": "code",
   "execution_count": 46,
   "outputs": [],
   "source": [
    "# Create training set and holdout\n",
    "X_train, X_test, y_train, y_test = train_test_split(X, target, test_size=0.3, random_state=42)"
   ],
   "metadata": {
    "collapsed": false,
    "pycharm": {
     "name": "#%%\n"
    }
   }
  },
  {
   "cell_type": "code",
   "execution_count": 47,
   "outputs": [],
   "source": [
    "# Fit model\n",
    "model.fit(X=X_train, y=y_train)\n",
    "y_predict = model.predict(X_test)"
   ],
   "metadata": {
    "collapsed": false,
    "pycharm": {
     "name": "#%%\n"
    }
   }
  },
  {
   "cell_type": "code",
   "execution_count": 64,
   "outputs": [
    {
     "name": "stdout",
     "output_type": "stream",
     "text": [
      "                            OLS Regression Results                            \n",
      "==============================================================================\n",
      "Dep. Variable:           LogSalePrice   R-squared:                       0.911\n",
      "Model:                            OLS   Adj. R-squared:                  0.907\n",
      "Method:                 Least Squares   F-statistic:                     255.9\n",
      "Date:                Fri, 04 Mar 2022   Prob (F-statistic):               0.00\n",
      "Time:                        18:21:47   Log-Likelihood:                 1344.3\n",
      "No. Observations:                1803   AIC:                            -2549.\n",
      "Df Residuals:                    1733   BIC:                            -2164.\n",
      "Df Model:                          69                                         \n",
      "Covariance Type:            nonrobust                                         \n",
      "===========================================================================================\n",
      "                              coef    std err          t      P>|t|      [0.025      0.975]\n",
      "-------------------------------------------------------------------------------------------\n",
      "const                      10.1991      0.127     80.469      0.000       9.951      10.448\n",
      "GrLivArea                   0.0003    1.2e-05     25.949      0.000       0.000       0.000\n",
      "AllBathrooms                0.0651      0.005     12.497      0.000       0.055       0.075\n",
      "BedroomAbvGr               -0.0252      0.005     -4.893      0.000      -0.035      -0.015\n",
      "OverallQual                 0.0781      0.004     20.668      0.000       0.071       0.085\n",
      "OverallCond                 0.0347      0.003     11.700      0.000       0.029       0.040\n",
      "KitchenQual                 0.0489      0.006      7.685      0.000       0.036       0.061\n",
      "Fireplaces                  0.0407      0.006      7.388      0.000       0.030       0.052\n",
      "IsNearNegativeCondition    -0.0437      0.012     -3.620      0.000      -0.067      -0.020\n",
      "MSZoning_C (all)           -0.0023      0.128     -0.018      0.986      -0.253       0.249\n",
      "MSZoning_FV                 0.1701      0.124      1.369      0.171      -0.074       0.414\n",
      "MSZoning_I (all)            0.1058      0.170      0.624      0.533      -0.227       0.439\n",
      "MSZoning_RH                 0.1126      0.126      0.897      0.370      -0.134       0.359\n",
      "MSZoning_RL                 0.2330      0.120      1.937      0.053      -0.003       0.469\n",
      "MSZoning_RM                 0.1980      0.121      1.631      0.103      -0.040       0.436\n",
      "SaleCondition_AdjLand       0.0853      0.088      0.969      0.332      -0.087       0.258\n",
      "SaleCondition_Alloca        0.1683      0.087      1.931      0.054      -0.003       0.339\n",
      "SaleCondition_Family       -0.0428      0.042     -1.011      0.312      -0.126       0.040\n",
      "SaleCondition_Normal        0.0874      0.020      4.462      0.000       0.049       0.126\n",
      "SaleCondition_Partial       0.1431      0.026      5.593      0.000       0.093       0.193\n",
      "Neighborhood_Blueste        0.0179      0.056      0.322      0.747      -0.091       0.127\n",
      "Neighborhood_BrDale        -0.0905      0.046     -1.980      0.048      -0.180      -0.001\n",
      "Neighborhood_BrkSide       -0.0648      0.036     -1.814      0.070      -0.135       0.005\n",
      "Neighborhood_ClearCr        0.0321      0.037      0.869      0.385      -0.040       0.105\n",
      "Neighborhood_CollgCr        0.0213      0.030      0.708      0.479      -0.038       0.080\n",
      "Neighborhood_Crawfor        0.0250      0.034      0.734      0.463      -0.042       0.092\n",
      "Neighborhood_Edwards       -0.0912      0.032     -2.882      0.004      -0.153      -0.029\n",
      "Neighborhood_Gilbert       -0.0102      0.031     -0.326      0.745      -0.072       0.051\n",
      "Neighborhood_Greens        -0.0557      0.073     -0.764      0.445      -0.199       0.087\n",
      "Neighborhood_GrnHill        0.3213      0.121      2.658      0.008       0.084       0.558\n",
      "Neighborhood_IDOTRR        -0.1097      0.040     -2.722      0.007      -0.189      -0.031\n",
      "Neighborhood_Landmrk        0.1503      0.128      1.179      0.239      -0.100       0.400\n",
      "Neighborhood_MeadowV       -0.1426      0.044     -3.248      0.001      -0.229      -0.057\n",
      "Neighborhood_Mitchel       -0.0096      0.032     -0.301      0.764      -0.073       0.053\n",
      "Neighborhood_NAmes         -0.0709      0.030     -2.329      0.020      -0.131      -0.011\n",
      "Neighborhood_NPkVill       -0.0540      0.041     -1.319      0.187      -0.134       0.026\n",
      "Neighborhood_NWAmes        -0.0661      0.032     -2.083      0.037      -0.128      -0.004\n",
      "Neighborhood_NoRidge        0.0730      0.034      2.158      0.031       0.007       0.139\n",
      "Neighborhood_NridgHt        0.1200      0.030      3.948      0.000       0.060       0.180\n",
      "Neighborhood_OldTown       -0.1379      0.036     -3.845      0.000      -0.208      -0.068\n",
      "Neighborhood_SWISU         -0.1567      0.039     -4.070      0.000      -0.232      -0.081\n",
      "Neighborhood_Sawyer        -0.0570      0.032     -1.767      0.077      -0.120       0.006\n",
      "Neighborhood_SawyerW       -0.0416      0.031     -1.331      0.183      -0.103       0.020\n",
      "Neighborhood_Somerst        0.1357      0.038      3.530      0.000       0.060       0.211\n",
      "Neighborhood_StoneBr        0.1164      0.035      3.363      0.001       0.049       0.184\n",
      "Neighborhood_Timber         0.0361      0.035      1.037      0.300      -0.032       0.104\n",
      "Neighborhood_Veenker        0.0115      0.042      0.271      0.786      -0.072       0.095\n",
      "MSSubClass_Dwelling_150    -0.4441      0.122     -3.651      0.000      -0.683      -0.205\n",
      "MSSubClass_Dwelling_160    -0.1498      0.023     -6.501      0.000      -0.195      -0.105\n",
      "MSSubClass_Dwelling_180    -0.0238      0.042     -0.569      0.569      -0.106       0.058\n",
      "MSSubClass_Dwelling_190     0.0101      0.027      0.367      0.714      -0.044       0.064\n",
      "MSSubClass_Dwelling_20      0.0851      0.016      5.331      0.000       0.054       0.116\n",
      "MSSubClass_Dwelling_30     -0.0350      0.022     -1.609      0.108      -0.078       0.008\n",
      "MSSubClass_Dwelling_40     -0.0451      0.056     -0.808      0.419      -0.154       0.064\n",
      "MSSubClass_Dwelling_45     -0.0237      0.039     -0.612      0.541      -0.100       0.052\n",
      "MSSubClass_Dwelling_50     -0.0129      0.021     -0.625      0.532      -0.053       0.027\n",
      "MSSubClass_Dwelling_60      0.0028      0.018      0.155      0.877      -0.032       0.038\n",
      "MSSubClass_Dwelling_70     -0.0400      0.024     -1.658      0.098      -0.087       0.007\n",
      "MSSubClass_Dwelling_75     -0.0729      0.038     -1.903      0.057      -0.148       0.002\n",
      "MSSubClass_Dwelling_80      0.0452      0.022      2.097      0.036       0.003       0.087\n",
      "MSSubClass_Dwelling_85      0.1179      0.028      4.262      0.000       0.064       0.172\n",
      "MSSubClass_Dwelling_90     -0.0530      0.025     -2.143      0.032      -0.101      -0.004\n",
      "LandContour_HLS             0.0505      0.022      2.297      0.022       0.007       0.094\n",
      "LandContour_Low             0.0703      0.026      2.687      0.007       0.019       0.122\n",
      "LandContour_Lvl             0.0136      0.015      0.894      0.372      -0.016       0.043\n",
      "YrSold_Yr_2007             -0.0178      0.009     -2.053      0.040      -0.035      -0.001\n",
      "YrSold_Yr_2008             -0.0175      0.009     -1.966      0.049      -0.035    -4.5e-05\n",
      "YrSold_Yr_2009             -0.0321      0.009     -3.625      0.000      -0.049      -0.015\n",
      "YrSold_Yr_2010             -0.0103      0.010     -1.017      0.309      -0.030       0.010\n",
      "CentralAir_Y                0.1297      0.014      9.576      0.000       0.103       0.156\n",
      "==============================================================================\n",
      "Omnibus:                      162.813   Durbin-Watson:                   2.013\n",
      "Prob(Omnibus):                  0.000   Jarque-Bera (JB):              595.197\n",
      "Skew:                          -0.392   Prob(JB):                    5.68e-130\n",
      "Kurtosis:                       5.703   Cond. No.                     1.84e+05\n",
      "==============================================================================\n",
      "\n",
      "Notes:\n",
      "[1] Standard Errors assume that the covariance matrix of the errors is correctly specified.\n",
      "[2] The condition number is large, 1.84e+05. This might indicate that there are\n",
      "strong multicollinearity or other numerical problems.\n"
     ]
    }
   ],
   "source": [
    "# Fit same model using statsmodels to see statistics\n",
    "X_add_const = sm.add_constant(X_train)\n",
    "ols = sm.OLS(y_train, X_add_const)\n",
    "ans = ols.fit()\n",
    "print(ans.summary())"
   ],
   "metadata": {
    "collapsed": false,
    "pycharm": {
     "name": "#%%\n"
    }
   }
  },
  {
   "cell_type": "code",
   "execution_count": 66,
   "outputs": [
    {
     "data": {
      "text/plain": "                    coeff          pvals  conf_lower  conf_higher\nconst           10.199127   0.000000e+00    9.950536    10.447718\nGrLivArea        0.000310  1.067222e-125    0.000287     0.000334\nAllBathrooms     0.065081   2.233486e-34    0.054867     0.075295\nBedroomAbvGr    -0.025245   1.087326e-06   -0.035365    -0.015125\nOverallQual      0.078074   5.279464e-85    0.070665     0.085483\n...                   ...            ...         ...          ...\nYrSold_Yr_2007  -0.017802   4.018523e-02   -0.034806    -0.000798\nYrSold_Yr_2008  -0.017457   4.941171e-02   -0.034868    -0.000045\nYrSold_Yr_2009  -0.032092   2.977560e-04   -0.049458    -0.014727\nYrSold_Yr_2010  -0.010296   3.092265e-01   -0.030148     0.009557\nCentralAir_Y     0.129654   3.337218e-21    0.103099     0.156209\n\n[70 rows x 4 columns]",
      "text/html": "<div>\n<style scoped>\n    .dataframe tbody tr th:only-of-type {\n        vertical-align: middle;\n    }\n\n    .dataframe tbody tr th {\n        vertical-align: top;\n    }\n\n    .dataframe thead th {\n        text-align: right;\n    }\n</style>\n<table border=\"1\" class=\"dataframe\">\n  <thead>\n    <tr style=\"text-align: right;\">\n      <th></th>\n      <th>coeff</th>\n      <th>pvals</th>\n      <th>conf_lower</th>\n      <th>conf_higher</th>\n    </tr>\n  </thead>\n  <tbody>\n    <tr>\n      <th>const</th>\n      <td>10.199127</td>\n      <td>0.000000e+00</td>\n      <td>9.950536</td>\n      <td>10.447718</td>\n    </tr>\n    <tr>\n      <th>GrLivArea</th>\n      <td>0.000310</td>\n      <td>1.067222e-125</td>\n      <td>0.000287</td>\n      <td>0.000334</td>\n    </tr>\n    <tr>\n      <th>AllBathrooms</th>\n      <td>0.065081</td>\n      <td>2.233486e-34</td>\n      <td>0.054867</td>\n      <td>0.075295</td>\n    </tr>\n    <tr>\n      <th>BedroomAbvGr</th>\n      <td>-0.025245</td>\n      <td>1.087326e-06</td>\n      <td>-0.035365</td>\n      <td>-0.015125</td>\n    </tr>\n    <tr>\n      <th>OverallQual</th>\n      <td>0.078074</td>\n      <td>5.279464e-85</td>\n      <td>0.070665</td>\n      <td>0.085483</td>\n    </tr>\n    <tr>\n      <th>...</th>\n      <td>...</td>\n      <td>...</td>\n      <td>...</td>\n      <td>...</td>\n    </tr>\n    <tr>\n      <th>YrSold_Yr_2007</th>\n      <td>-0.017802</td>\n      <td>4.018523e-02</td>\n      <td>-0.034806</td>\n      <td>-0.000798</td>\n    </tr>\n    <tr>\n      <th>YrSold_Yr_2008</th>\n      <td>-0.017457</td>\n      <td>4.941171e-02</td>\n      <td>-0.034868</td>\n      <td>-0.000045</td>\n    </tr>\n    <tr>\n      <th>YrSold_Yr_2009</th>\n      <td>-0.032092</td>\n      <td>2.977560e-04</td>\n      <td>-0.049458</td>\n      <td>-0.014727</td>\n    </tr>\n    <tr>\n      <th>YrSold_Yr_2010</th>\n      <td>-0.010296</td>\n      <td>3.092265e-01</td>\n      <td>-0.030148</td>\n      <td>0.009557</td>\n    </tr>\n    <tr>\n      <th>CentralAir_Y</th>\n      <td>0.129654</td>\n      <td>3.337218e-21</td>\n      <td>0.103099</td>\n      <td>0.156209</td>\n    </tr>\n  </tbody>\n</table>\n<p>70 rows × 4 columns</p>\n</div>"
     },
     "execution_count": 66,
     "metadata": {},
     "output_type": "execute_result"
    }
   ],
   "source": [
    "# See more statsmodels statistics\n",
    "def results_summary_to_dataframe(results):\n",
    "    '''Take the result of an statsmodel results table and transforms it into a dataframe'''\n",
    "    pvals = results.pvalues\n",
    "    coeff = results.params\n",
    "    conf_lower = results.conf_int()[0]\n",
    "    conf_higher = results.conf_int()[1]\n",
    "\n",
    "    results_df = pd.DataFrame({\"pvals\":pvals,\n",
    "                               \"coeff\":coeff,\n",
    "                               \"conf_lower\":conf_lower,\n",
    "                               \"conf_higher\":conf_higher\n",
    "                               })\n",
    "\n",
    "    # Reorder\n",
    "    results_df = results_df[[\"coeff\",\"pvals\",\"conf_lower\",\"conf_higher\"]]\n",
    "    return results_df\n",
    "\n",
    "results_summary_to_dataframe(ans)"
   ],
   "metadata": {
    "collapsed": false,
    "pycharm": {
     "name": "#%%\n"
    }
   }
  },
  {
   "cell_type": "code",
   "execution_count": 50,
   "outputs": [
    {
     "name": "stdout",
     "output_type": "stream",
     "text": [
      "Coefficient of Determination training set: 0.9106266488474948\n",
      "Coefficient of Determination holdout set: 0.8896179322540221\n",
      "MSE: 0.01691762133398028\n"
     ]
    }
   ],
   "source": [
    "# Score model\n",
    "print(f\"Coefficient of Determination training set: {model.score(X=X_train, y=y_train)}\")\n",
    "print(f\"Coefficient of Determination holdout set: {model.score(X=X_test, y=y_test)}\")\n",
    "print(f\"MSE: {mean_squared_error(y_true=y_test, y_pred=y_predict)}\")"
   ],
   "metadata": {
    "collapsed": false,
    "pycharm": {
     "name": "#%%\n"
    }
   }
  },
  {
   "cell_type": "code",
   "execution_count": 51,
   "outputs": [
    {
     "data": {
      "text/plain": "          Features Coefficients (log)  Coefficients\n0    __Intercept__          10.199127  26879.702386\n1        GrLivArea            0.00031       1.00031\n2     AllBathrooms           0.065081      1.067245\n3     BedroomAbvGr          -0.025245      0.975071\n4      OverallQual           0.078074      1.081202\n..             ...                ...           ...\n65  YrSold_Yr_2007          -0.017802      0.982356\n66  YrSold_Yr_2008          -0.017457      0.982695\n67  YrSold_Yr_2009          -0.032092      0.968417\n68  YrSold_Yr_2010          -0.010296      0.989757\n69    CentralAir_Y           0.129654      1.138434\n\n[70 rows x 3 columns]",
      "text/html": "<div>\n<style scoped>\n    .dataframe tbody tr th:only-of-type {\n        vertical-align: middle;\n    }\n\n    .dataframe tbody tr th {\n        vertical-align: top;\n    }\n\n    .dataframe thead th {\n        text-align: right;\n    }\n</style>\n<table border=\"1\" class=\"dataframe\">\n  <thead>\n    <tr style=\"text-align: right;\">\n      <th></th>\n      <th>Features</th>\n      <th>Coefficients (log)</th>\n      <th>Coefficients</th>\n    </tr>\n  </thead>\n  <tbody>\n    <tr>\n      <th>0</th>\n      <td>__Intercept__</td>\n      <td>10.199127</td>\n      <td>26879.702386</td>\n    </tr>\n    <tr>\n      <th>1</th>\n      <td>GrLivArea</td>\n      <td>0.00031</td>\n      <td>1.00031</td>\n    </tr>\n    <tr>\n      <th>2</th>\n      <td>AllBathrooms</td>\n      <td>0.065081</td>\n      <td>1.067245</td>\n    </tr>\n    <tr>\n      <th>3</th>\n      <td>BedroomAbvGr</td>\n      <td>-0.025245</td>\n      <td>0.975071</td>\n    </tr>\n    <tr>\n      <th>4</th>\n      <td>OverallQual</td>\n      <td>0.078074</td>\n      <td>1.081202</td>\n    </tr>\n    <tr>\n      <th>...</th>\n      <td>...</td>\n      <td>...</td>\n      <td>...</td>\n    </tr>\n    <tr>\n      <th>65</th>\n      <td>YrSold_Yr_2007</td>\n      <td>-0.017802</td>\n      <td>0.982356</td>\n    </tr>\n    <tr>\n      <th>66</th>\n      <td>YrSold_Yr_2008</td>\n      <td>-0.017457</td>\n      <td>0.982695</td>\n    </tr>\n    <tr>\n      <th>67</th>\n      <td>YrSold_Yr_2009</td>\n      <td>-0.032092</td>\n      <td>0.968417</td>\n    </tr>\n    <tr>\n      <th>68</th>\n      <td>YrSold_Yr_2010</td>\n      <td>-0.010296</td>\n      <td>0.989757</td>\n    </tr>\n    <tr>\n      <th>69</th>\n      <td>CentralAir_Y</td>\n      <td>0.129654</td>\n      <td>1.138434</td>\n    </tr>\n  </tbody>\n</table>\n<p>70 rows × 3 columns</p>\n</div>"
     },
     "execution_count": 51,
     "metadata": {},
     "output_type": "execute_result"
    }
   ],
   "source": [
    "# Beta coefficients\n",
    "beta_names = np.insert(model.feature_names_in_, 0, \"__Intercept__\")\n",
    "log_coefficients = np.insert(model.coef_, 0, model.intercept_)\n",
    "unlogged_coefficients = np.insert(np.exp(model.coef_), 0, np.exp(model.intercept_))\n",
    "coeff_array = np.vstack([beta_names, log_coefficients, unlogged_coefficients]).T\n",
    "pd.DataFrame(coeff_array, columns=['Features', 'Coefficients (log)', 'Coefficients'])"
   ],
   "metadata": {
    "collapsed": false,
    "pycharm": {
     "name": "#%%\n"
    }
   }
  },
  {
   "cell_type": "code",
   "execution_count": 51,
   "outputs": [],
   "source": [],
   "metadata": {
    "collapsed": false,
    "pycharm": {
     "name": "#%%\n"
    }
   }
  }
 ],
 "metadata": {
  "kernelspec": {
   "display_name": "Python 3",
   "language": "python",
   "name": "python3"
  },
  "language_info": {
   "codemirror_mode": {
    "name": "ipython",
    "version": 2
   },
   "file_extension": ".py",
   "mimetype": "text/x-python",
   "name": "python",
   "nbconvert_exporter": "python",
   "pygments_lexer": "ipython2",
   "version": "2.7.6"
  }
 },
 "nbformat": 4,
 "nbformat_minor": 0
}