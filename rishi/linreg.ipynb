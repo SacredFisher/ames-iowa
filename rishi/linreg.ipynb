{
 "cells": [
  {
   "cell_type": "code",
   "execution_count": 104,
   "outputs": [
    {
     "name": "stdout",
     "output_type": "stream",
     "text": [
      "The autoreload extension is already loaded. To reload it, use:\n",
      "  %reload_ext autoreload\n"
     ]
    }
   ],
   "source": [
    "%load_ext autoreload\n",
    "%autoreload 2"
   ],
   "metadata": {
    "collapsed": false,
    "pycharm": {
     "name": "#%%\n"
    }
   }
  },
  {
   "cell_type": "code",
   "execution_count": 105,
   "metadata": {
    "collapsed": true
   },
   "outputs": [],
   "source": [
    "import pandas as pd\n",
    "from sklearn.linear_model import LinearRegression\n",
    "from sklearn.model_selection import train_test_split\n",
    "from sklearn.metrics import mean_squared_error\n",
    "from helpers import features\n",
    "import numpy as np\n",
    "import matplotlib.pyplot as plt"
   ]
  },
  {
   "cell_type": "code",
   "execution_count": 106,
   "outputs": [],
   "source": [
    "ames = pd.read_csv(\"../data/engineered.csv\")\n",
    "ames.drop(\"Unnamed: 0\", axis=1, inplace=True)"
   ],
   "metadata": {
    "collapsed": false,
    "pycharm": {
     "name": "#%%\n"
    }
   }
  },
  {
   "cell_type": "code",
   "execution_count": 107,
   "outputs": [
    {
     "data": {
      "text/plain": "      GrLivArea  AllBathrooms  BedroomAbvGr    MSSubClass MSZoning  \\\n0           856           2.0             2   Dwelling_30       RL   \n1          1049           3.0             2  Dwelling_120       RL   \n2          1001           1.0             2   Dwelling_30  C (all)   \n3          1039           1.0             2   Dwelling_70       RL   \n4          1665           3.5             3   Dwelling_60       RL   \n...         ...           ...           ...           ...      ...   \n2572        952           1.0             2   Dwelling_30       RL   \n2573       1733           2.0             4   Dwelling_20       RL   \n2574       2002           2.0             4   Dwelling_90       RH   \n2575       1842           3.5             3   Dwelling_60       RL   \n2576       1911           2.5             3   Dwelling_60       RL   \n\n      OverallQual  OverallCond Neighborhood  KitchenQual SaleCondition  \\\n0               6            6        SWISU            3        Normal   \n1               5            5      Edwards            4        Normal   \n2               5            9       IDOTRR            4        Normal   \n3               4            8      OldTown            3        Normal   \n4               8            6       NWAmes            4        Normal   \n...           ...          ...          ...          ...           ...   \n2572            6            6      BrkSide            2        Normal   \n2573            3            5      Edwards            3        Normal   \n2574            5            6      Crawfor            3        Normal   \n2575            7            5      CollgCr            4        Normal   \n2576            8            5      SawyerW            4        Normal   \n\n       YrSold CentralAir  Fireplaces  IsNearNegativeCondition LandContour  \n0     Yr_2010          Y           1                    False         Lvl  \n1     Yr_2009          Y           0                    False         Lvl  \n2     Yr_2007          Y           0                    False         Lvl  \n3     Yr_2009          Y           0                    False         Lvl  \n4     Yr_2009          Y           0                    False         Lvl  \n...       ...        ...         ...                      ...         ...  \n2572  Yr_2009          N           1                    False         Lvl  \n2573  Yr_2009          Y           1                    False         Lvl  \n2574  Yr_2007          N           0                    False         HLS  \n2575  Yr_2007          Y           1                    False         Lvl  \n2576  Yr_2006          Y           1                    False         Lvl  \n\n[2577 rows x 15 columns]",
      "text/html": "<div>\n<style scoped>\n    .dataframe tbody tr th:only-of-type {\n        vertical-align: middle;\n    }\n\n    .dataframe tbody tr th {\n        vertical-align: top;\n    }\n\n    .dataframe thead th {\n        text-align: right;\n    }\n</style>\n<table border=\"1\" class=\"dataframe\">\n  <thead>\n    <tr style=\"text-align: right;\">\n      <th></th>\n      <th>GrLivArea</th>\n      <th>AllBathrooms</th>\n      <th>BedroomAbvGr</th>\n      <th>MSSubClass</th>\n      <th>MSZoning</th>\n      <th>OverallQual</th>\n      <th>OverallCond</th>\n      <th>Neighborhood</th>\n      <th>KitchenQual</th>\n      <th>SaleCondition</th>\n      <th>YrSold</th>\n      <th>CentralAir</th>\n      <th>Fireplaces</th>\n      <th>IsNearNegativeCondition</th>\n      <th>LandContour</th>\n    </tr>\n  </thead>\n  <tbody>\n    <tr>\n      <th>0</th>\n      <td>856</td>\n      <td>2.0</td>\n      <td>2</td>\n      <td>Dwelling_30</td>\n      <td>RL</td>\n      <td>6</td>\n      <td>6</td>\n      <td>SWISU</td>\n      <td>3</td>\n      <td>Normal</td>\n      <td>Yr_2010</td>\n      <td>Y</td>\n      <td>1</td>\n      <td>False</td>\n      <td>Lvl</td>\n    </tr>\n    <tr>\n      <th>1</th>\n      <td>1049</td>\n      <td>3.0</td>\n      <td>2</td>\n      <td>Dwelling_120</td>\n      <td>RL</td>\n      <td>5</td>\n      <td>5</td>\n      <td>Edwards</td>\n      <td>4</td>\n      <td>Normal</td>\n      <td>Yr_2009</td>\n      <td>Y</td>\n      <td>0</td>\n      <td>False</td>\n      <td>Lvl</td>\n    </tr>\n    <tr>\n      <th>2</th>\n      <td>1001</td>\n      <td>1.0</td>\n      <td>2</td>\n      <td>Dwelling_30</td>\n      <td>C (all)</td>\n      <td>5</td>\n      <td>9</td>\n      <td>IDOTRR</td>\n      <td>4</td>\n      <td>Normal</td>\n      <td>Yr_2007</td>\n      <td>Y</td>\n      <td>0</td>\n      <td>False</td>\n      <td>Lvl</td>\n    </tr>\n    <tr>\n      <th>3</th>\n      <td>1039</td>\n      <td>1.0</td>\n      <td>2</td>\n      <td>Dwelling_70</td>\n      <td>RL</td>\n      <td>4</td>\n      <td>8</td>\n      <td>OldTown</td>\n      <td>3</td>\n      <td>Normal</td>\n      <td>Yr_2009</td>\n      <td>Y</td>\n      <td>0</td>\n      <td>False</td>\n      <td>Lvl</td>\n    </tr>\n    <tr>\n      <th>4</th>\n      <td>1665</td>\n      <td>3.5</td>\n      <td>3</td>\n      <td>Dwelling_60</td>\n      <td>RL</td>\n      <td>8</td>\n      <td>6</td>\n      <td>NWAmes</td>\n      <td>4</td>\n      <td>Normal</td>\n      <td>Yr_2009</td>\n      <td>Y</td>\n      <td>0</td>\n      <td>False</td>\n      <td>Lvl</td>\n    </tr>\n    <tr>\n      <th>...</th>\n      <td>...</td>\n      <td>...</td>\n      <td>...</td>\n      <td>...</td>\n      <td>...</td>\n      <td>...</td>\n      <td>...</td>\n      <td>...</td>\n      <td>...</td>\n      <td>...</td>\n      <td>...</td>\n      <td>...</td>\n      <td>...</td>\n      <td>...</td>\n      <td>...</td>\n    </tr>\n    <tr>\n      <th>2572</th>\n      <td>952</td>\n      <td>1.0</td>\n      <td>2</td>\n      <td>Dwelling_30</td>\n      <td>RL</td>\n      <td>6</td>\n      <td>6</td>\n      <td>BrkSide</td>\n      <td>2</td>\n      <td>Normal</td>\n      <td>Yr_2009</td>\n      <td>N</td>\n      <td>1</td>\n      <td>False</td>\n      <td>Lvl</td>\n    </tr>\n    <tr>\n      <th>2573</th>\n      <td>1733</td>\n      <td>2.0</td>\n      <td>4</td>\n      <td>Dwelling_20</td>\n      <td>RL</td>\n      <td>3</td>\n      <td>5</td>\n      <td>Edwards</td>\n      <td>3</td>\n      <td>Normal</td>\n      <td>Yr_2009</td>\n      <td>Y</td>\n      <td>1</td>\n      <td>False</td>\n      <td>Lvl</td>\n    </tr>\n    <tr>\n      <th>2574</th>\n      <td>2002</td>\n      <td>2.0</td>\n      <td>4</td>\n      <td>Dwelling_90</td>\n      <td>RH</td>\n      <td>5</td>\n      <td>6</td>\n      <td>Crawfor</td>\n      <td>3</td>\n      <td>Normal</td>\n      <td>Yr_2007</td>\n      <td>N</td>\n      <td>0</td>\n      <td>False</td>\n      <td>HLS</td>\n    </tr>\n    <tr>\n      <th>2575</th>\n      <td>1842</td>\n      <td>3.5</td>\n      <td>3</td>\n      <td>Dwelling_60</td>\n      <td>RL</td>\n      <td>7</td>\n      <td>5</td>\n      <td>CollgCr</td>\n      <td>4</td>\n      <td>Normal</td>\n      <td>Yr_2007</td>\n      <td>Y</td>\n      <td>1</td>\n      <td>False</td>\n      <td>Lvl</td>\n    </tr>\n    <tr>\n      <th>2576</th>\n      <td>1911</td>\n      <td>2.5</td>\n      <td>3</td>\n      <td>Dwelling_60</td>\n      <td>RL</td>\n      <td>8</td>\n      <td>5</td>\n      <td>SawyerW</td>\n      <td>4</td>\n      <td>Normal</td>\n      <td>Yr_2006</td>\n      <td>Y</td>\n      <td>1</td>\n      <td>False</td>\n      <td>Lvl</td>\n    </tr>\n  </tbody>\n</table>\n<p>2577 rows × 15 columns</p>\n</div>"
     },
     "execution_count": 107,
     "metadata": {},
     "output_type": "execute_result"
    }
   ],
   "source": [
    "model = LinearRegression()\n",
    "\n",
    "# Select target and features to regress on\n",
    "target = ames.LogSalePrice\n",
    "X = ames[[\n",
    "    # Size\n",
    "    'GrLivArea', 'AllBathrooms', 'BedroomAbvGr',\n",
    "    # Type\n",
    "    'MSSubClass', 'MSZoning',\n",
    "    # Niceness\n",
    "    'OverallQual', 'OverallCond', 'Neighborhood', 'KitchenQual',\n",
    "    # Sale\n",
    "    'SaleCondition', 'YrSold',\n",
    "    # Features\n",
    "    'CentralAir', 'Fireplaces',\n",
    "    # Others\n",
    "    'IsNearNegativeCondition', 'LandContour'\n",
    "]]\n",
    "X"
   ],
   "metadata": {
    "collapsed": false,
    "pycharm": {
     "name": "#%%\n"
    }
   }
  },
  {
   "cell_type": "code",
   "execution_count": 108,
   "outputs": [
    {
     "data": {
      "text/plain": "      GrLivArea  AllBathrooms  BedroomAbvGr  OverallQual  OverallCond  \\\n0           856           2.0             2            6            6   \n1          1049           3.0             2            5            5   \n2          1001           1.0             2            5            9   \n3          1039           1.0             2            4            8   \n4          1665           3.5             3            8            6   \n...         ...           ...           ...          ...          ...   \n2572        952           1.0             2            6            6   \n2573       1733           2.0             4            3            5   \n2574       2002           2.0             4            5            6   \n2575       1842           3.5             3            7            5   \n2576       1911           2.5             3            8            5   \n\n      KitchenQual  Fireplaces  IsNearNegativeCondition  LandContour_HLS  \\\n0               3           1                    False                0   \n1               4           0                    False                0   \n2               4           0                    False                0   \n3               3           0                    False                0   \n4               4           0                    False                0   \n...           ...         ...                      ...              ...   \n2572            2           1                    False                0   \n2573            3           1                    False                0   \n2574            3           0                    False                1   \n2575            4           1                    False                0   \n2576            4           1                    False                0   \n\n      LandContour_Low  ...  SaleCondition_Alloca  SaleCondition_Family  \\\n0                   0  ...                     0                     0   \n1                   0  ...                     0                     0   \n2                   0  ...                     0                     0   \n3                   0  ...                     0                     0   \n4                   0  ...                     0                     0   \n...               ...  ...                   ...                   ...   \n2572                0  ...                     0                     0   \n2573                0  ...                     0                     0   \n2574                0  ...                     0                     0   \n2575                0  ...                     0                     0   \n2576                0  ...                     0                     0   \n\n      SaleCondition_Normal  SaleCondition_Partial  MSZoning_C (all)  \\\n0                        1                      0                 0   \n1                        1                      0                 0   \n2                        1                      0                 1   \n3                        1                      0                 0   \n4                        1                      0                 0   \n...                    ...                    ...               ...   \n2572                     1                      0                 0   \n2573                     1                      0                 0   \n2574                     1                      0                 0   \n2575                     1                      0                 0   \n2576                     1                      0                 0   \n\n      MSZoning_FV  MSZoning_I (all)  MSZoning_RH  MSZoning_RL  MSZoning_RM  \n0               0                 0            0            1            0  \n1               0                 0            0            1            0  \n2               0                 0            0            0            0  \n3               0                 0            0            1            0  \n4               0                 0            0            1            0  \n...           ...               ...          ...          ...          ...  \n2572            0                 0            0            1            0  \n2573            0                 0            0            1            0  \n2574            0                 0            1            0            0  \n2575            0                 0            0            1            0  \n2576            0                 0            0            1            0  \n\n[2577 rows x 69 columns]",
      "text/html": "<div>\n<style scoped>\n    .dataframe tbody tr th:only-of-type {\n        vertical-align: middle;\n    }\n\n    .dataframe tbody tr th {\n        vertical-align: top;\n    }\n\n    .dataframe thead th {\n        text-align: right;\n    }\n</style>\n<table border=\"1\" class=\"dataframe\">\n  <thead>\n    <tr style=\"text-align: right;\">\n      <th></th>\n      <th>GrLivArea</th>\n      <th>AllBathrooms</th>\n      <th>BedroomAbvGr</th>\n      <th>OverallQual</th>\n      <th>OverallCond</th>\n      <th>KitchenQual</th>\n      <th>Fireplaces</th>\n      <th>IsNearNegativeCondition</th>\n      <th>LandContour_HLS</th>\n      <th>LandContour_Low</th>\n      <th>...</th>\n      <th>SaleCondition_Alloca</th>\n      <th>SaleCondition_Family</th>\n      <th>SaleCondition_Normal</th>\n      <th>SaleCondition_Partial</th>\n      <th>MSZoning_C (all)</th>\n      <th>MSZoning_FV</th>\n      <th>MSZoning_I (all)</th>\n      <th>MSZoning_RH</th>\n      <th>MSZoning_RL</th>\n      <th>MSZoning_RM</th>\n    </tr>\n  </thead>\n  <tbody>\n    <tr>\n      <th>0</th>\n      <td>856</td>\n      <td>2.0</td>\n      <td>2</td>\n      <td>6</td>\n      <td>6</td>\n      <td>3</td>\n      <td>1</td>\n      <td>False</td>\n      <td>0</td>\n      <td>0</td>\n      <td>...</td>\n      <td>0</td>\n      <td>0</td>\n      <td>1</td>\n      <td>0</td>\n      <td>0</td>\n      <td>0</td>\n      <td>0</td>\n      <td>0</td>\n      <td>1</td>\n      <td>0</td>\n    </tr>\n    <tr>\n      <th>1</th>\n      <td>1049</td>\n      <td>3.0</td>\n      <td>2</td>\n      <td>5</td>\n      <td>5</td>\n      <td>4</td>\n      <td>0</td>\n      <td>False</td>\n      <td>0</td>\n      <td>0</td>\n      <td>...</td>\n      <td>0</td>\n      <td>0</td>\n      <td>1</td>\n      <td>0</td>\n      <td>0</td>\n      <td>0</td>\n      <td>0</td>\n      <td>0</td>\n      <td>1</td>\n      <td>0</td>\n    </tr>\n    <tr>\n      <th>2</th>\n      <td>1001</td>\n      <td>1.0</td>\n      <td>2</td>\n      <td>5</td>\n      <td>9</td>\n      <td>4</td>\n      <td>0</td>\n      <td>False</td>\n      <td>0</td>\n      <td>0</td>\n      <td>...</td>\n      <td>0</td>\n      <td>0</td>\n      <td>1</td>\n      <td>0</td>\n      <td>1</td>\n      <td>0</td>\n      <td>0</td>\n      <td>0</td>\n      <td>0</td>\n      <td>0</td>\n    </tr>\n    <tr>\n      <th>3</th>\n      <td>1039</td>\n      <td>1.0</td>\n      <td>2</td>\n      <td>4</td>\n      <td>8</td>\n      <td>3</td>\n      <td>0</td>\n      <td>False</td>\n      <td>0</td>\n      <td>0</td>\n      <td>...</td>\n      <td>0</td>\n      <td>0</td>\n      <td>1</td>\n      <td>0</td>\n      <td>0</td>\n      <td>0</td>\n      <td>0</td>\n      <td>0</td>\n      <td>1</td>\n      <td>0</td>\n    </tr>\n    <tr>\n      <th>4</th>\n      <td>1665</td>\n      <td>3.5</td>\n      <td>3</td>\n      <td>8</td>\n      <td>6</td>\n      <td>4</td>\n      <td>0</td>\n      <td>False</td>\n      <td>0</td>\n      <td>0</td>\n      <td>...</td>\n      <td>0</td>\n      <td>0</td>\n      <td>1</td>\n      <td>0</td>\n      <td>0</td>\n      <td>0</td>\n      <td>0</td>\n      <td>0</td>\n      <td>1</td>\n      <td>0</td>\n    </tr>\n    <tr>\n      <th>...</th>\n      <td>...</td>\n      <td>...</td>\n      <td>...</td>\n      <td>...</td>\n      <td>...</td>\n      <td>...</td>\n      <td>...</td>\n      <td>...</td>\n      <td>...</td>\n      <td>...</td>\n      <td>...</td>\n      <td>...</td>\n      <td>...</td>\n      <td>...</td>\n      <td>...</td>\n      <td>...</td>\n      <td>...</td>\n      <td>...</td>\n      <td>...</td>\n      <td>...</td>\n      <td>...</td>\n    </tr>\n    <tr>\n      <th>2572</th>\n      <td>952</td>\n      <td>1.0</td>\n      <td>2</td>\n      <td>6</td>\n      <td>6</td>\n      <td>2</td>\n      <td>1</td>\n      <td>False</td>\n      <td>0</td>\n      <td>0</td>\n      <td>...</td>\n      <td>0</td>\n      <td>0</td>\n      <td>1</td>\n      <td>0</td>\n      <td>0</td>\n      <td>0</td>\n      <td>0</td>\n      <td>0</td>\n      <td>1</td>\n      <td>0</td>\n    </tr>\n    <tr>\n      <th>2573</th>\n      <td>1733</td>\n      <td>2.0</td>\n      <td>4</td>\n      <td>3</td>\n      <td>5</td>\n      <td>3</td>\n      <td>1</td>\n      <td>False</td>\n      <td>0</td>\n      <td>0</td>\n      <td>...</td>\n      <td>0</td>\n      <td>0</td>\n      <td>1</td>\n      <td>0</td>\n      <td>0</td>\n      <td>0</td>\n      <td>0</td>\n      <td>0</td>\n      <td>1</td>\n      <td>0</td>\n    </tr>\n    <tr>\n      <th>2574</th>\n      <td>2002</td>\n      <td>2.0</td>\n      <td>4</td>\n      <td>5</td>\n      <td>6</td>\n      <td>3</td>\n      <td>0</td>\n      <td>False</td>\n      <td>1</td>\n      <td>0</td>\n      <td>...</td>\n      <td>0</td>\n      <td>0</td>\n      <td>1</td>\n      <td>0</td>\n      <td>0</td>\n      <td>0</td>\n      <td>0</td>\n      <td>1</td>\n      <td>0</td>\n      <td>0</td>\n    </tr>\n    <tr>\n      <th>2575</th>\n      <td>1842</td>\n      <td>3.5</td>\n      <td>3</td>\n      <td>7</td>\n      <td>5</td>\n      <td>4</td>\n      <td>1</td>\n      <td>False</td>\n      <td>0</td>\n      <td>0</td>\n      <td>...</td>\n      <td>0</td>\n      <td>0</td>\n      <td>1</td>\n      <td>0</td>\n      <td>0</td>\n      <td>0</td>\n      <td>0</td>\n      <td>0</td>\n      <td>1</td>\n      <td>0</td>\n    </tr>\n    <tr>\n      <th>2576</th>\n      <td>1911</td>\n      <td>2.5</td>\n      <td>3</td>\n      <td>8</td>\n      <td>5</td>\n      <td>4</td>\n      <td>1</td>\n      <td>False</td>\n      <td>0</td>\n      <td>0</td>\n      <td>...</td>\n      <td>0</td>\n      <td>0</td>\n      <td>1</td>\n      <td>0</td>\n      <td>0</td>\n      <td>0</td>\n      <td>0</td>\n      <td>0</td>\n      <td>1</td>\n      <td>0</td>\n    </tr>\n  </tbody>\n</table>\n<p>2577 rows × 69 columns</p>\n</div>"
     },
     "execution_count": 108,
     "metadata": {},
     "output_type": "execute_result"
    }
   ],
   "source": [
    "# Dummify categorical features from all features selected for our model\n",
    "all_categorical_features = set(features.get_categorical_features())\n",
    "X_categorical_features = list(all_categorical_features.intersection(set(X.columns)))\n",
    "X = pd.get_dummies(X, columns=X_categorical_features, prefix=X_categorical_features, drop_first=True)\n",
    "X"
   ],
   "metadata": {
    "collapsed": false,
    "pycharm": {
     "name": "#%%\n"
    }
   }
  },
  {
   "cell_type": "code",
   "execution_count": 109,
   "outputs": [],
   "source": [
    "# Create training set and holdout\n",
    "X_train, X_test, y_train, y_test = train_test_split(X, target, test_size=0.3, random_state=42)"
   ],
   "metadata": {
    "collapsed": false,
    "pycharm": {
     "name": "#%%\n"
    }
   }
  },
  {
   "cell_type": "code",
   "execution_count": 110,
   "outputs": [],
   "source": [
    "model.fit(X=X_train, y=y_train)\n",
    "y_predict = model.predict(X_test)\n"
   ],
   "metadata": {
    "collapsed": false,
    "pycharm": {
     "name": "#%%\n"
    }
   }
  },
  {
   "cell_type": "code",
   "execution_count": 111,
   "outputs": [
    {
     "name": "stdout",
     "output_type": "stream",
     "text": [
      "Coefficient of Determination training set: 0.9106266488474948\n",
      "Coefficient of Determination holdout set: 0.8896179322540221\n",
      "MSE: 0.01691762133398029\n"
     ]
    }
   ],
   "source": [
    "# Score model\n",
    "print(f\"Coefficient of Determination training set: {model.score(X=X_train, y=y_train)}\")\n",
    "print(f\"Coefficient of Determination holdout set: {model.score(X=X_test, y=y_test)}\")\n",
    "print(f\"MSE: {mean_squared_error(y_true=y_test, y_pred=y_predict)}\")"
   ],
   "metadata": {
    "collapsed": false,
    "pycharm": {
     "name": "#%%\n"
    }
   }
  },
  {
   "cell_type": "code",
   "execution_count": 112,
   "outputs": [
    {
     "data": {
      "text/plain": "            Features Coefficients (log)  Coefficients\n0      __Intercept__          10.199127  26879.702386\n1          GrLivArea            0.00031       1.00031\n2       AllBathrooms           0.065081      1.067245\n3       BedroomAbvGr          -0.025245      0.975071\n4        OverallQual           0.078074      1.081202\n..               ...                ...           ...\n65       MSZoning_FV           0.170074      1.185392\n66  MSZoning_I (all)           0.105847      1.111652\n67       MSZoning_RH           0.112586      1.119168\n68       MSZoning_RL           0.233004      1.262386\n69       MSZoning_RM           0.198023      1.218991\n\n[70 rows x 3 columns]",
      "text/html": "<div>\n<style scoped>\n    .dataframe tbody tr th:only-of-type {\n        vertical-align: middle;\n    }\n\n    .dataframe tbody tr th {\n        vertical-align: top;\n    }\n\n    .dataframe thead th {\n        text-align: right;\n    }\n</style>\n<table border=\"1\" class=\"dataframe\">\n  <thead>\n    <tr style=\"text-align: right;\">\n      <th></th>\n      <th>Features</th>\n      <th>Coefficients (log)</th>\n      <th>Coefficients</th>\n    </tr>\n  </thead>\n  <tbody>\n    <tr>\n      <th>0</th>\n      <td>__Intercept__</td>\n      <td>10.199127</td>\n      <td>26879.702386</td>\n    </tr>\n    <tr>\n      <th>1</th>\n      <td>GrLivArea</td>\n      <td>0.00031</td>\n      <td>1.00031</td>\n    </tr>\n    <tr>\n      <th>2</th>\n      <td>AllBathrooms</td>\n      <td>0.065081</td>\n      <td>1.067245</td>\n    </tr>\n    <tr>\n      <th>3</th>\n      <td>BedroomAbvGr</td>\n      <td>-0.025245</td>\n      <td>0.975071</td>\n    </tr>\n    <tr>\n      <th>4</th>\n      <td>OverallQual</td>\n      <td>0.078074</td>\n      <td>1.081202</td>\n    </tr>\n    <tr>\n      <th>...</th>\n      <td>...</td>\n      <td>...</td>\n      <td>...</td>\n    </tr>\n    <tr>\n      <th>65</th>\n      <td>MSZoning_FV</td>\n      <td>0.170074</td>\n      <td>1.185392</td>\n    </tr>\n    <tr>\n      <th>66</th>\n      <td>MSZoning_I (all)</td>\n      <td>0.105847</td>\n      <td>1.111652</td>\n    </tr>\n    <tr>\n      <th>67</th>\n      <td>MSZoning_RH</td>\n      <td>0.112586</td>\n      <td>1.119168</td>\n    </tr>\n    <tr>\n      <th>68</th>\n      <td>MSZoning_RL</td>\n      <td>0.233004</td>\n      <td>1.262386</td>\n    </tr>\n    <tr>\n      <th>69</th>\n      <td>MSZoning_RM</td>\n      <td>0.198023</td>\n      <td>1.218991</td>\n    </tr>\n  </tbody>\n</table>\n<p>70 rows × 3 columns</p>\n</div>"
     },
     "execution_count": 112,
     "metadata": {},
     "output_type": "execute_result"
    }
   ],
   "source": [
    "# Beta coefficients\n",
    "beta_names = np.insert(model.feature_names_in_, 0, \"__Intercept__\")\n",
    "log_coefficients = np.insert(model.coef_, 0, model.intercept_)\n",
    "unlogged_coefficients = np.insert(np.exp(model.coef_), 0, np.exp(model.intercept_))\n",
    "coeff_array = np.vstack([beta_names, log_coefficients, unlogged_coefficients]).T\n",
    "pd.DataFrame(coeff_array, columns=['Features', 'Coefficients (log)', 'Coefficients'])"
   ],
   "metadata": {
    "collapsed": false,
    "pycharm": {
     "name": "#%%\n"
    }
   }
  },
  {
   "cell_type": "code",
   "execution_count": 112,
   "outputs": [],
   "source": [],
   "metadata": {
    "collapsed": false,
    "pycharm": {
     "name": "#%%\n"
    }
   }
  }
 ],
 "metadata": {
  "kernelspec": {
   "display_name": "Python 3",
   "language": "python",
   "name": "python3"
  },
  "language_info": {
   "codemirror_mode": {
    "name": "ipython",
    "version": 2
   },
   "file_extension": ".py",
   "mimetype": "text/x-python",
   "name": "python",
   "nbconvert_exporter": "python",
   "pygments_lexer": "ipython2",
   "version": "2.7.6"
  }
 },
 "nbformat": 4,
 "nbformat_minor": 0
}