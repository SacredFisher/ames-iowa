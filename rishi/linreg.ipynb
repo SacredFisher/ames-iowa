{
 "cells": [
  {
   "cell_type": "code",
   "execution_count": 26,
   "outputs": [
    {
     "name": "stdout",
     "output_type": "stream",
     "text": [
      "The autoreload extension is already loaded. To reload it, use:\n",
      "  %reload_ext autoreload\n"
     ]
    }
   ],
   "source": [
    "%load_ext autoreload\n",
    "%autoreload 2"
   ],
   "metadata": {
    "collapsed": false,
    "pycharm": {
     "name": "#%%\n"
    }
   }
  },
  {
   "cell_type": "code",
   "execution_count": 27,
   "metadata": {
    "collapsed": true
   },
   "outputs": [],
   "source": [
    "import pandas as pd\n",
    "from sklearn.linear_model import LinearRegression\n",
    "from sklearn.model_selection import train_test_split\n",
    "import features"
   ]
  },
  {
   "cell_type": "code",
   "execution_count": 28,
   "outputs": [],
   "source": [
    "ames = pd.read_csv(\"../data/engineered.csv\")\n",
    "ames.drop(\"Unnamed: 0\", axis=1, inplace=True)"
   ],
   "metadata": {
    "collapsed": false,
    "pycharm": {
     "name": "#%%\n"
    }
   }
  },
  {
   "cell_type": "code",
   "execution_count": 29,
   "outputs": [
    {
     "data": {
      "text/plain": "      GrLivArea  LotFrontage    MSSubClass BldgType  OverallQual Neighborhood  \\\n0           856         66.0   Dwelling_30     1Fam            6        SWISU   \n1          1049         42.0  Dwelling_120   TwnhsE            5      Edwards   \n2          1001         60.0   Dwelling_30     1Fam            5       IDOTRR   \n3          1039         80.0   Dwelling_70     1Fam            4      OldTown   \n4          1665         70.0   Dwelling_60     1Fam            8       NWAmes   \n...         ...          ...           ...      ...          ...          ...   \n2572        952         66.0   Dwelling_30     1Fam            6      BrkSide   \n2573       1733         74.0   Dwelling_20     1Fam            3      Edwards   \n2574       2002         82.0   Dwelling_90   Duplex            5      Crawfor   \n2575       1842         66.0   Dwelling_60     1Fam            7      CollgCr   \n2576       1911         80.0   Dwelling_60     1Fam            8      SawyerW   \n\n     SaleCondition  \n0           Normal  \n1           Normal  \n2           Normal  \n3           Normal  \n4           Normal  \n...            ...  \n2572        Normal  \n2573        Normal  \n2574        Normal  \n2575        Normal  \n2576        Normal  \n\n[2577 rows x 7 columns]",
      "text/html": "<div>\n<style scoped>\n    .dataframe tbody tr th:only-of-type {\n        vertical-align: middle;\n    }\n\n    .dataframe tbody tr th {\n        vertical-align: top;\n    }\n\n    .dataframe thead th {\n        text-align: right;\n    }\n</style>\n<table border=\"1\" class=\"dataframe\">\n  <thead>\n    <tr style=\"text-align: right;\">\n      <th></th>\n      <th>GrLivArea</th>\n      <th>LotFrontage</th>\n      <th>MSSubClass</th>\n      <th>BldgType</th>\n      <th>OverallQual</th>\n      <th>Neighborhood</th>\n      <th>SaleCondition</th>\n    </tr>\n  </thead>\n  <tbody>\n    <tr>\n      <th>0</th>\n      <td>856</td>\n      <td>66.0</td>\n      <td>Dwelling_30</td>\n      <td>1Fam</td>\n      <td>6</td>\n      <td>SWISU</td>\n      <td>Normal</td>\n    </tr>\n    <tr>\n      <th>1</th>\n      <td>1049</td>\n      <td>42.0</td>\n      <td>Dwelling_120</td>\n      <td>TwnhsE</td>\n      <td>5</td>\n      <td>Edwards</td>\n      <td>Normal</td>\n    </tr>\n    <tr>\n      <th>2</th>\n      <td>1001</td>\n      <td>60.0</td>\n      <td>Dwelling_30</td>\n      <td>1Fam</td>\n      <td>5</td>\n      <td>IDOTRR</td>\n      <td>Normal</td>\n    </tr>\n    <tr>\n      <th>3</th>\n      <td>1039</td>\n      <td>80.0</td>\n      <td>Dwelling_70</td>\n      <td>1Fam</td>\n      <td>4</td>\n      <td>OldTown</td>\n      <td>Normal</td>\n    </tr>\n    <tr>\n      <th>4</th>\n      <td>1665</td>\n      <td>70.0</td>\n      <td>Dwelling_60</td>\n      <td>1Fam</td>\n      <td>8</td>\n      <td>NWAmes</td>\n      <td>Normal</td>\n    </tr>\n    <tr>\n      <th>...</th>\n      <td>...</td>\n      <td>...</td>\n      <td>...</td>\n      <td>...</td>\n      <td>...</td>\n      <td>...</td>\n      <td>...</td>\n    </tr>\n    <tr>\n      <th>2572</th>\n      <td>952</td>\n      <td>66.0</td>\n      <td>Dwelling_30</td>\n      <td>1Fam</td>\n      <td>6</td>\n      <td>BrkSide</td>\n      <td>Normal</td>\n    </tr>\n    <tr>\n      <th>2573</th>\n      <td>1733</td>\n      <td>74.0</td>\n      <td>Dwelling_20</td>\n      <td>1Fam</td>\n      <td>3</td>\n      <td>Edwards</td>\n      <td>Normal</td>\n    </tr>\n    <tr>\n      <th>2574</th>\n      <td>2002</td>\n      <td>82.0</td>\n      <td>Dwelling_90</td>\n      <td>Duplex</td>\n      <td>5</td>\n      <td>Crawfor</td>\n      <td>Normal</td>\n    </tr>\n    <tr>\n      <th>2575</th>\n      <td>1842</td>\n      <td>66.0</td>\n      <td>Dwelling_60</td>\n      <td>1Fam</td>\n      <td>7</td>\n      <td>CollgCr</td>\n      <td>Normal</td>\n    </tr>\n    <tr>\n      <th>2576</th>\n      <td>1911</td>\n      <td>80.0</td>\n      <td>Dwelling_60</td>\n      <td>1Fam</td>\n      <td>8</td>\n      <td>SawyerW</td>\n      <td>Normal</td>\n    </tr>\n  </tbody>\n</table>\n<p>2577 rows × 7 columns</p>\n</div>"
     },
     "execution_count": 29,
     "metadata": {},
     "output_type": "execute_result"
    }
   ],
   "source": [
    "model = LinearRegression()\n",
    "\n",
    "# Select target and features to regress on\n",
    "target = ames.LogSalePrice\n",
    "X = ames[['GrLivArea', 'LotFrontage',\n",
    "      'MSSubClass', 'BldgType',\n",
    "      'OverallQual', 'Neighborhood',\n",
    "      'SaleCondition']]\n",
    "X"
   ],
   "metadata": {
    "collapsed": false,
    "pycharm": {
     "name": "#%%\n"
    }
   }
  },
  {
   "cell_type": "code",
   "execution_count": 30,
   "outputs": [
    {
     "data": {
      "text/plain": "      GrLivArea  LotFrontage  OverallQual  BldgType_2fmCon  BldgType_Duplex  \\\n0           856         66.0            6                0                0   \n1          1049         42.0            5                0                0   \n2          1001         60.0            5                0                0   \n3          1039         80.0            4                0                0   \n4          1665         70.0            8                0                0   \n...         ...          ...          ...              ...              ...   \n2572        952         66.0            6                0                0   \n2573       1733         74.0            3                0                0   \n2574       2002         82.0            5                0                1   \n2575       1842         66.0            7                0                0   \n2576       1911         80.0            8                0                0   \n\n      BldgType_Twnhs  BldgType_TwnhsE  SaleCondition_AdjLand  \\\n0                  0                0                      0   \n1                  0                1                      0   \n2                  0                0                      0   \n3                  0                0                      0   \n4                  0                0                      0   \n...              ...              ...                    ...   \n2572               0                0                      0   \n2573               0                0                      0   \n2574               0                0                      0   \n2575               0                0                      0   \n2576               0                0                      0   \n\n      SaleCondition_Alloca  SaleCondition_Family  ...  Neighborhood_NoRidge  \\\n0                        0                     0  ...                     0   \n1                        0                     0  ...                     0   \n2                        0                     0  ...                     0   \n3                        0                     0  ...                     0   \n4                        0                     0  ...                     0   \n...                    ...                   ...  ...                   ...   \n2572                     0                     0  ...                     0   \n2573                     0                     0  ...                     0   \n2574                     0                     0  ...                     0   \n2575                     0                     0  ...                     0   \n2576                     0                     0  ...                     0   \n\n      Neighborhood_NridgHt  Neighborhood_OldTown  Neighborhood_SWISU  \\\n0                        0                     0                   1   \n1                        0                     0                   0   \n2                        0                     0                   0   \n3                        0                     1                   0   \n4                        0                     0                   0   \n...                    ...                   ...                 ...   \n2572                     0                     0                   0   \n2573                     0                     0                   0   \n2574                     0                     0                   0   \n2575                     0                     0                   0   \n2576                     0                     0                   0   \n\n      Neighborhood_Sawyer  Neighborhood_SawyerW  Neighborhood_Somerst  \\\n0                       0                     0                     0   \n1                       0                     0                     0   \n2                       0                     0                     0   \n3                       0                     0                     0   \n4                       0                     0                     0   \n...                   ...                   ...                   ...   \n2572                    0                     0                     0   \n2573                    0                     0                     0   \n2574                    0                     0                     0   \n2575                    0                     0                     0   \n2576                    0                     1                     0   \n\n      Neighborhood_StoneBr  Neighborhood_Timber  Neighborhood_Veenker  \n0                        0                    0                     0  \n1                        0                    0                     0  \n2                        0                    0                     0  \n3                        0                    0                     0  \n4                        0                    0                     0  \n...                    ...                  ...                   ...  \n2572                     0                    0                     0  \n2573                     0                    0                     0  \n2574                     0                    0                     0  \n2575                     0                    0                     0  \n2576                     0                    0                     0  \n\n[2577 rows x 54 columns]",
      "text/html": "<div>\n<style scoped>\n    .dataframe tbody tr th:only-of-type {\n        vertical-align: middle;\n    }\n\n    .dataframe tbody tr th {\n        vertical-align: top;\n    }\n\n    .dataframe thead th {\n        text-align: right;\n    }\n</style>\n<table border=\"1\" class=\"dataframe\">\n  <thead>\n    <tr style=\"text-align: right;\">\n      <th></th>\n      <th>GrLivArea</th>\n      <th>LotFrontage</th>\n      <th>OverallQual</th>\n      <th>BldgType_2fmCon</th>\n      <th>BldgType_Duplex</th>\n      <th>BldgType_Twnhs</th>\n      <th>BldgType_TwnhsE</th>\n      <th>SaleCondition_AdjLand</th>\n      <th>SaleCondition_Alloca</th>\n      <th>SaleCondition_Family</th>\n      <th>...</th>\n      <th>Neighborhood_NoRidge</th>\n      <th>Neighborhood_NridgHt</th>\n      <th>Neighborhood_OldTown</th>\n      <th>Neighborhood_SWISU</th>\n      <th>Neighborhood_Sawyer</th>\n      <th>Neighborhood_SawyerW</th>\n      <th>Neighborhood_Somerst</th>\n      <th>Neighborhood_StoneBr</th>\n      <th>Neighborhood_Timber</th>\n      <th>Neighborhood_Veenker</th>\n    </tr>\n  </thead>\n  <tbody>\n    <tr>\n      <th>0</th>\n      <td>856</td>\n      <td>66.0</td>\n      <td>6</td>\n      <td>0</td>\n      <td>0</td>\n      <td>0</td>\n      <td>0</td>\n      <td>0</td>\n      <td>0</td>\n      <td>0</td>\n      <td>...</td>\n      <td>0</td>\n      <td>0</td>\n      <td>0</td>\n      <td>1</td>\n      <td>0</td>\n      <td>0</td>\n      <td>0</td>\n      <td>0</td>\n      <td>0</td>\n      <td>0</td>\n    </tr>\n    <tr>\n      <th>1</th>\n      <td>1049</td>\n      <td>42.0</td>\n      <td>5</td>\n      <td>0</td>\n      <td>0</td>\n      <td>0</td>\n      <td>1</td>\n      <td>0</td>\n      <td>0</td>\n      <td>0</td>\n      <td>...</td>\n      <td>0</td>\n      <td>0</td>\n      <td>0</td>\n      <td>0</td>\n      <td>0</td>\n      <td>0</td>\n      <td>0</td>\n      <td>0</td>\n      <td>0</td>\n      <td>0</td>\n    </tr>\n    <tr>\n      <th>2</th>\n      <td>1001</td>\n      <td>60.0</td>\n      <td>5</td>\n      <td>0</td>\n      <td>0</td>\n      <td>0</td>\n      <td>0</td>\n      <td>0</td>\n      <td>0</td>\n      <td>0</td>\n      <td>...</td>\n      <td>0</td>\n      <td>0</td>\n      <td>0</td>\n      <td>0</td>\n      <td>0</td>\n      <td>0</td>\n      <td>0</td>\n      <td>0</td>\n      <td>0</td>\n      <td>0</td>\n    </tr>\n    <tr>\n      <th>3</th>\n      <td>1039</td>\n      <td>80.0</td>\n      <td>4</td>\n      <td>0</td>\n      <td>0</td>\n      <td>0</td>\n      <td>0</td>\n      <td>0</td>\n      <td>0</td>\n      <td>0</td>\n      <td>...</td>\n      <td>0</td>\n      <td>0</td>\n      <td>1</td>\n      <td>0</td>\n      <td>0</td>\n      <td>0</td>\n      <td>0</td>\n      <td>0</td>\n      <td>0</td>\n      <td>0</td>\n    </tr>\n    <tr>\n      <th>4</th>\n      <td>1665</td>\n      <td>70.0</td>\n      <td>8</td>\n      <td>0</td>\n      <td>0</td>\n      <td>0</td>\n      <td>0</td>\n      <td>0</td>\n      <td>0</td>\n      <td>0</td>\n      <td>...</td>\n      <td>0</td>\n      <td>0</td>\n      <td>0</td>\n      <td>0</td>\n      <td>0</td>\n      <td>0</td>\n      <td>0</td>\n      <td>0</td>\n      <td>0</td>\n      <td>0</td>\n    </tr>\n    <tr>\n      <th>...</th>\n      <td>...</td>\n      <td>...</td>\n      <td>...</td>\n      <td>...</td>\n      <td>...</td>\n      <td>...</td>\n      <td>...</td>\n      <td>...</td>\n      <td>...</td>\n      <td>...</td>\n      <td>...</td>\n      <td>...</td>\n      <td>...</td>\n      <td>...</td>\n      <td>...</td>\n      <td>...</td>\n      <td>...</td>\n      <td>...</td>\n      <td>...</td>\n      <td>...</td>\n      <td>...</td>\n    </tr>\n    <tr>\n      <th>2572</th>\n      <td>952</td>\n      <td>66.0</td>\n      <td>6</td>\n      <td>0</td>\n      <td>0</td>\n      <td>0</td>\n      <td>0</td>\n      <td>0</td>\n      <td>0</td>\n      <td>0</td>\n      <td>...</td>\n      <td>0</td>\n      <td>0</td>\n      <td>0</td>\n      <td>0</td>\n      <td>0</td>\n      <td>0</td>\n      <td>0</td>\n      <td>0</td>\n      <td>0</td>\n      <td>0</td>\n    </tr>\n    <tr>\n      <th>2573</th>\n      <td>1733</td>\n      <td>74.0</td>\n      <td>3</td>\n      <td>0</td>\n      <td>0</td>\n      <td>0</td>\n      <td>0</td>\n      <td>0</td>\n      <td>0</td>\n      <td>0</td>\n      <td>...</td>\n      <td>0</td>\n      <td>0</td>\n      <td>0</td>\n      <td>0</td>\n      <td>0</td>\n      <td>0</td>\n      <td>0</td>\n      <td>0</td>\n      <td>0</td>\n      <td>0</td>\n    </tr>\n    <tr>\n      <th>2574</th>\n      <td>2002</td>\n      <td>82.0</td>\n      <td>5</td>\n      <td>0</td>\n      <td>1</td>\n      <td>0</td>\n      <td>0</td>\n      <td>0</td>\n      <td>0</td>\n      <td>0</td>\n      <td>...</td>\n      <td>0</td>\n      <td>0</td>\n      <td>0</td>\n      <td>0</td>\n      <td>0</td>\n      <td>0</td>\n      <td>0</td>\n      <td>0</td>\n      <td>0</td>\n      <td>0</td>\n    </tr>\n    <tr>\n      <th>2575</th>\n      <td>1842</td>\n      <td>66.0</td>\n      <td>7</td>\n      <td>0</td>\n      <td>0</td>\n      <td>0</td>\n      <td>0</td>\n      <td>0</td>\n      <td>0</td>\n      <td>0</td>\n      <td>...</td>\n      <td>0</td>\n      <td>0</td>\n      <td>0</td>\n      <td>0</td>\n      <td>0</td>\n      <td>0</td>\n      <td>0</td>\n      <td>0</td>\n      <td>0</td>\n      <td>0</td>\n    </tr>\n    <tr>\n      <th>2576</th>\n      <td>1911</td>\n      <td>80.0</td>\n      <td>8</td>\n      <td>0</td>\n      <td>0</td>\n      <td>0</td>\n      <td>0</td>\n      <td>0</td>\n      <td>0</td>\n      <td>0</td>\n      <td>...</td>\n      <td>0</td>\n      <td>0</td>\n      <td>0</td>\n      <td>0</td>\n      <td>0</td>\n      <td>1</td>\n      <td>0</td>\n      <td>0</td>\n      <td>0</td>\n      <td>0</td>\n    </tr>\n  </tbody>\n</table>\n<p>2577 rows × 54 columns</p>\n</div>"
     },
     "execution_count": 30,
     "metadata": {},
     "output_type": "execute_result"
    }
   ],
   "source": [
    "# Dummify categorical features from all features selected for our model\n",
    "all_categorical_features = set(features.get_categorical_features())\n",
    "X_categorical_features = list(all_categorical_features.intersection(set(X.columns)))\n",
    "X = pd.get_dummies(X, columns=X_categorical_features, prefix=X_categorical_features, drop_first=True)\n",
    "X"
   ],
   "metadata": {
    "collapsed": false,
    "pycharm": {
     "name": "#%%\n"
    }
   }
  },
  {
   "cell_type": "code",
   "execution_count": 31,
   "outputs": [],
   "source": [
    "# Create training set and holdout\n",
    "X_train, X_test, y_train, y_test = train_test_split(X, target, test_size=0.3, random_state=42)"
   ],
   "metadata": {
    "collapsed": false,
    "pycharm": {
     "name": "#%%\n"
    }
   }
  },
  {
   "cell_type": "code",
   "execution_count": 32,
   "outputs": [
    {
     "data": {
      "text/plain": "LinearRegression()"
     },
     "execution_count": 32,
     "metadata": {},
     "output_type": "execute_result"
    }
   ],
   "source": [
    "model.fit(X=X_train, y=y_train)"
   ],
   "metadata": {
    "collapsed": false,
    "pycharm": {
     "name": "#%%\n"
    }
   }
  },
  {
   "cell_type": "code",
   "execution_count": 33,
   "outputs": [
    {
     "name": "stdout",
     "output_type": "stream",
     "text": [
      "R^2 training set: 0.8697149632982363\n",
      "R^2 holdout set: 0.8611487115099061\n"
     ]
    }
   ],
   "source": [
    "# Score model\n",
    "print(f\"R^2 training set: {model.score(X=X_train, y=y_train)}\")\n",
    "print(f\"R^2 holdout set: {model.score(X=X_test, y=y_test)}\")"
   ],
   "metadata": {
    "collapsed": false,
    "pycharm": {
     "name": "#%%\n"
    }
   }
  }
 ],
 "metadata": {
  "kernelspec": {
   "display_name": "Python 3",
   "language": "python",
   "name": "python3"
  },
  "language_info": {
   "codemirror_mode": {
    "name": "ipython",
    "version": 2
   },
   "file_extension": ".py",
   "mimetype": "text/x-python",
   "name": "python",
   "nbconvert_exporter": "python",
   "pygments_lexer": "ipython2",
   "version": "2.7.6"
  }
 },
 "nbformat": 4,
 "nbformat_minor": 0
}