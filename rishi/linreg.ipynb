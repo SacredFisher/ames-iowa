{
 "cells": [
  {
   "cell_type": "code",
   "execution_count": 290,
   "outputs": [
    {
     "name": "stdout",
     "output_type": "stream",
     "text": [
      "The autoreload extension is already loaded. To reload it, use:\n",
      "  %reload_ext autoreload\n"
     ]
    }
   ],
   "source": [
    "%load_ext autoreload\n",
    "%autoreload 2"
   ],
   "metadata": {
    "collapsed": false,
    "pycharm": {
     "name": "#%%\n"
    }
   }
  },
  {
   "cell_type": "code",
   "execution_count": 291,
   "metadata": {
    "collapsed": true
   },
   "outputs": [],
   "source": [
    "import pandas as pd\n",
    "from sklearn.linear_model import LinearRegression\n",
    "from sklearn.model_selection import train_test_split\n",
    "from sklearn.metrics import mean_squared_error\n",
    "import features\n",
    "import numpy as np\n",
    "import seaborn as sns\n",
    "import matplotlib.pyplot as plt\n",
    "import statsmodels.api as sm"
   ]
  },
  {
   "cell_type": "markdown",
   "source": [
    "Read data"
   ],
   "metadata": {
    "collapsed": false
   }
  },
  {
   "cell_type": "code",
   "execution_count": 292,
   "outputs": [],
   "source": [
    "ames = pd.read_csv(\"../data/engineered.csv\")\n",
    "ames.drop(\"Unnamed: 0\", axis=1, inplace=True)"
   ],
   "metadata": {
    "collapsed": false,
    "pycharm": {
     "name": "#%%\n"
    }
   }
  },
  {
   "cell_type": "markdown",
   "source": [
    "Select target and features for X to regress on"
   ],
   "metadata": {
    "collapsed": false
   }
  },
  {
   "cell_type": "code",
   "execution_count": 293,
   "outputs": [],
   "source": [
    "X_best_so_far = ames[[\n",
    "    # Size\n",
    "    'GrLivArea', 'AllBathrooms', 'BedroomAbvGr',\n",
    "    # Type\n",
    "    'MSSubClass', 'MSZoning',\n",
    "    # Niceness\n",
    "    'OverallQual', 'OverallCond', 'Neighborhood', 'KitchenQual',\n",
    "    # Sale\n",
    "    'SaleCondition', 'YrSold',\n",
    "    # Features\n",
    "    'CentralAir', 'Fireplaces',\n",
    "    # Others\n",
    "    'IsNearNegativeCondition', 'LandContour'\n",
    "]]"
   ],
   "metadata": {
    "collapsed": false,
    "pycharm": {
     "name": "#%%\n"
    }
   }
  },
  {
   "cell_type": "code",
   "execution_count": 294,
   "outputs": [],
   "source": [
    "# use james' feature engineering\n",
    "# TODO add to engineered.csv\n",
    "ames['TotalOutdoorSF'] = ames.ScreenPorch + ames.WoodDeckSF + ames.OpenPorchSF + ames.EnclosedPorch\n",
    "ames['Age'] = 2010 - ames.YearBuilt\n",
    "ames['AgeRemod'] = 2010 - ames.YearRemodAdd\n",
    "ames['AgeGarage'] = 2010 - ames.GarageYrBlt\n",
    "ames['HasPool'] = (ames.PoolArea > 1).astype(int)\n",
    "ames['TotalFinBsmtSF'] = ames.BsmtFinSF1 + ames.BsmtFinSF2\n",
    "ames['TotalOutdoorSF'] = ames.ScreenPorch + ames.WoodDeckSF + ames.OpenPorchSF + ames.EnclosedPorch\n",
    "ames['logLotArea'] = np.log(ames.LotArea)\n",
    "\n",
    "# test features from James' tree model\n",
    "box_keep_all = ['LandSlope','BsmtExposure','BsmtFullBath','BsmtHalfBath','Fireplaces','BsmtFinType1','HeatingQC','FullBath','HalfBath',\n",
    "                'Functional','TotRmsAbvGrd','GarageCars','PavedDrive','HasPool']\n",
    "\n",
    "box_keep_1 = ['OverallQual','OverallCond']\n",
    "\n",
    "box_keep_2 = ['ExterQual','ExterCond','BsmtQual','BsmtCond','KitchenQual','FireplaceQu','GarageQual','GarageCond']\n",
    "\n",
    "scatter_keep_all = ['LotFrontage','GarageArea','MasVnrArea']\n",
    "\n",
    "scatter_keep_1 = ['TotalOutdoorSF','TotalBsmtSF','GrLivArea']\n",
    "\n",
    "scatter_keep_2 = ['BsmtFinSF1','1stFlrSF','2ndFlrSF','ScreenPorch','WoodDeckSF','OpenPorchSF','EnclosedPorch']\n",
    "\n",
    "\n",
    "features_james = box_keep_all + box_keep_2 + scatter_keep_all + scatter_keep_2\n",
    "\n",
    "features_broad = box_keep_all + box_keep_1 + scatter_keep_all + scatter_keep_1\n",
    "\n"
   ],
   "metadata": {
    "collapsed": false,
    "pycharm": {
     "name": "#%%\n"
    }
   }
  },
  {
   "cell_type": "code",
   "execution_count": 295,
   "outputs": [
    {
     "data": {
      "text/plain": "      GrLivArea  TotalFinBsmtSF  LotArea  TotalOutdoorSF  AllBathrooms  \\\n0           856           238.0     7890             166           2.0   \n1          1049           945.0     4235             105           3.0   \n2          1001           737.0     6060             196           1.0   \n3          1039             0.0     8146             279           1.0   \n4          1665           643.0     8400              45           3.5   \n...         ...             ...      ...             ...           ...   \n2572        952             0.0     8854             138           1.0   \n2573       1733             0.0    13680               0           2.0   \n2574       2002           284.0     6270               0           2.0   \n2575       1842           841.0     8826             289           3.5   \n2576       1911           380.0     9554             263           2.5   \n\n      BedroomAbvGr    MSSubClass MSZoning  OverallQual  OverallCond  \\\n0                2   Dwelling_30       RL            6            6   \n1                2  Dwelling_120       RL            5            5   \n2                2   Dwelling_30  C (all)            5            9   \n3                2   Dwelling_70       RL            4            8   \n4                3   Dwelling_60       RL            8            6   \n...            ...           ...      ...          ...          ...   \n2572             2   Dwelling_30       RL            6            6   \n2573             4   Dwelling_20       RL            3            5   \n2574             4   Dwelling_90       RH            5            6   \n2575             3   Dwelling_60       RL            7            5   \n2576             3   Dwelling_60       RL            8            5   \n\n     Neighborhood  KitchenQual SaleCondition   YrSold CentralAir  Fireplaces  \\\n0           SWISU            3        Normal  Yr_2010          Y           1   \n1         Edwards            4        Normal  Yr_2009          Y           0   \n2          IDOTRR            4        Normal  Yr_2007          Y           0   \n3         OldTown            3        Normal  Yr_2009          Y           0   \n4          NWAmes            4        Normal  Yr_2009          Y           0   \n...           ...          ...           ...      ...        ...         ...   \n2572      BrkSide            2        Normal  Yr_2009          N           1   \n2573      Edwards            3        Normal  Yr_2009          Y           1   \n2574      Crawfor            3        Normal  Yr_2007          N           0   \n2575      CollgCr            4        Normal  Yr_2007          Y           1   \n2576      SawyerW            4        Normal  Yr_2006          Y           1   \n\n      HasPool  IsNearNegativeCondition LandContour  \n0           0                        0         Lvl  \n1           0                        0         Lvl  \n2           0                        0         Lvl  \n3           0                        0         Lvl  \n4           0                        0         Lvl  \n...       ...                      ...         ...  \n2572        0                        0         Lvl  \n2573        0                        0         Lvl  \n2574        0                        0         HLS  \n2575        0                        0         Lvl  \n2576        0                        0         Lvl  \n\n[2577 rows x 19 columns]",
      "text/html": "<div>\n<style scoped>\n    .dataframe tbody tr th:only-of-type {\n        vertical-align: middle;\n    }\n\n    .dataframe tbody tr th {\n        vertical-align: top;\n    }\n\n    .dataframe thead th {\n        text-align: right;\n    }\n</style>\n<table border=\"1\" class=\"dataframe\">\n  <thead>\n    <tr style=\"text-align: right;\">\n      <th></th>\n      <th>GrLivArea</th>\n      <th>TotalFinBsmtSF</th>\n      <th>LotArea</th>\n      <th>TotalOutdoorSF</th>\n      <th>AllBathrooms</th>\n      <th>BedroomAbvGr</th>\n      <th>MSSubClass</th>\n      <th>MSZoning</th>\n      <th>OverallQual</th>\n      <th>OverallCond</th>\n      <th>Neighborhood</th>\n      <th>KitchenQual</th>\n      <th>SaleCondition</th>\n      <th>YrSold</th>\n      <th>CentralAir</th>\n      <th>Fireplaces</th>\n      <th>HasPool</th>\n      <th>IsNearNegativeCondition</th>\n      <th>LandContour</th>\n    </tr>\n  </thead>\n  <tbody>\n    <tr>\n      <th>0</th>\n      <td>856</td>\n      <td>238.0</td>\n      <td>7890</td>\n      <td>166</td>\n      <td>2.0</td>\n      <td>2</td>\n      <td>Dwelling_30</td>\n      <td>RL</td>\n      <td>6</td>\n      <td>6</td>\n      <td>SWISU</td>\n      <td>3</td>\n      <td>Normal</td>\n      <td>Yr_2010</td>\n      <td>Y</td>\n      <td>1</td>\n      <td>0</td>\n      <td>0</td>\n      <td>Lvl</td>\n    </tr>\n    <tr>\n      <th>1</th>\n      <td>1049</td>\n      <td>945.0</td>\n      <td>4235</td>\n      <td>105</td>\n      <td>3.0</td>\n      <td>2</td>\n      <td>Dwelling_120</td>\n      <td>RL</td>\n      <td>5</td>\n      <td>5</td>\n      <td>Edwards</td>\n      <td>4</td>\n      <td>Normal</td>\n      <td>Yr_2009</td>\n      <td>Y</td>\n      <td>0</td>\n      <td>0</td>\n      <td>0</td>\n      <td>Lvl</td>\n    </tr>\n    <tr>\n      <th>2</th>\n      <td>1001</td>\n      <td>737.0</td>\n      <td>6060</td>\n      <td>196</td>\n      <td>1.0</td>\n      <td>2</td>\n      <td>Dwelling_30</td>\n      <td>C (all)</td>\n      <td>5</td>\n      <td>9</td>\n      <td>IDOTRR</td>\n      <td>4</td>\n      <td>Normal</td>\n      <td>Yr_2007</td>\n      <td>Y</td>\n      <td>0</td>\n      <td>0</td>\n      <td>0</td>\n      <td>Lvl</td>\n    </tr>\n    <tr>\n      <th>3</th>\n      <td>1039</td>\n      <td>0.0</td>\n      <td>8146</td>\n      <td>279</td>\n      <td>1.0</td>\n      <td>2</td>\n      <td>Dwelling_70</td>\n      <td>RL</td>\n      <td>4</td>\n      <td>8</td>\n      <td>OldTown</td>\n      <td>3</td>\n      <td>Normal</td>\n      <td>Yr_2009</td>\n      <td>Y</td>\n      <td>0</td>\n      <td>0</td>\n      <td>0</td>\n      <td>Lvl</td>\n    </tr>\n    <tr>\n      <th>4</th>\n      <td>1665</td>\n      <td>643.0</td>\n      <td>8400</td>\n      <td>45</td>\n      <td>3.5</td>\n      <td>3</td>\n      <td>Dwelling_60</td>\n      <td>RL</td>\n      <td>8</td>\n      <td>6</td>\n      <td>NWAmes</td>\n      <td>4</td>\n      <td>Normal</td>\n      <td>Yr_2009</td>\n      <td>Y</td>\n      <td>0</td>\n      <td>0</td>\n      <td>0</td>\n      <td>Lvl</td>\n    </tr>\n    <tr>\n      <th>...</th>\n      <td>...</td>\n      <td>...</td>\n      <td>...</td>\n      <td>...</td>\n      <td>...</td>\n      <td>...</td>\n      <td>...</td>\n      <td>...</td>\n      <td>...</td>\n      <td>...</td>\n      <td>...</td>\n      <td>...</td>\n      <td>...</td>\n      <td>...</td>\n      <td>...</td>\n      <td>...</td>\n      <td>...</td>\n      <td>...</td>\n      <td>...</td>\n    </tr>\n    <tr>\n      <th>2572</th>\n      <td>952</td>\n      <td>0.0</td>\n      <td>8854</td>\n      <td>138</td>\n      <td>1.0</td>\n      <td>2</td>\n      <td>Dwelling_30</td>\n      <td>RL</td>\n      <td>6</td>\n      <td>6</td>\n      <td>BrkSide</td>\n      <td>2</td>\n      <td>Normal</td>\n      <td>Yr_2009</td>\n      <td>N</td>\n      <td>1</td>\n      <td>0</td>\n      <td>0</td>\n      <td>Lvl</td>\n    </tr>\n    <tr>\n      <th>2573</th>\n      <td>1733</td>\n      <td>0.0</td>\n      <td>13680</td>\n      <td>0</td>\n      <td>2.0</td>\n      <td>4</td>\n      <td>Dwelling_20</td>\n      <td>RL</td>\n      <td>3</td>\n      <td>5</td>\n      <td>Edwards</td>\n      <td>3</td>\n      <td>Normal</td>\n      <td>Yr_2009</td>\n      <td>Y</td>\n      <td>1</td>\n      <td>0</td>\n      <td>0</td>\n      <td>Lvl</td>\n    </tr>\n    <tr>\n      <th>2574</th>\n      <td>2002</td>\n      <td>284.0</td>\n      <td>6270</td>\n      <td>0</td>\n      <td>2.0</td>\n      <td>4</td>\n      <td>Dwelling_90</td>\n      <td>RH</td>\n      <td>5</td>\n      <td>6</td>\n      <td>Crawfor</td>\n      <td>3</td>\n      <td>Normal</td>\n      <td>Yr_2007</td>\n      <td>N</td>\n      <td>0</td>\n      <td>0</td>\n      <td>0</td>\n      <td>HLS</td>\n    </tr>\n    <tr>\n      <th>2575</th>\n      <td>1842</td>\n      <td>841.0</td>\n      <td>8826</td>\n      <td>289</td>\n      <td>3.5</td>\n      <td>3</td>\n      <td>Dwelling_60</td>\n      <td>RL</td>\n      <td>7</td>\n      <td>5</td>\n      <td>CollgCr</td>\n      <td>4</td>\n      <td>Normal</td>\n      <td>Yr_2007</td>\n      <td>Y</td>\n      <td>1</td>\n      <td>0</td>\n      <td>0</td>\n      <td>Lvl</td>\n    </tr>\n    <tr>\n      <th>2576</th>\n      <td>1911</td>\n      <td>380.0</td>\n      <td>9554</td>\n      <td>263</td>\n      <td>2.5</td>\n      <td>3</td>\n      <td>Dwelling_60</td>\n      <td>RL</td>\n      <td>8</td>\n      <td>5</td>\n      <td>SawyerW</td>\n      <td>4</td>\n      <td>Normal</td>\n      <td>Yr_2006</td>\n      <td>Y</td>\n      <td>1</td>\n      <td>0</td>\n      <td>0</td>\n      <td>Lvl</td>\n    </tr>\n  </tbody>\n</table>\n<p>2577 rows × 19 columns</p>\n</div>"
     },
     "execution_count": 295,
     "metadata": {},
     "output_type": "execute_result"
    }
   ],
   "source": [
    "model = LinearRegression()\n",
    "\n",
    "target = ames.LogSalePrice\n",
    "X = ames[[\n",
    "    # Size, Bedrooms, Bathrooms\n",
    "    'GrLivArea', 'TotalFinBsmtSF', 'LotArea', 'TotalOutdoorSF',\n",
    "    'AllBathrooms', 'BedroomAbvGr',\n",
    "    # Type\n",
    "    'MSSubClass', 'MSZoning',\n",
    "    # Niceness\n",
    "    'OverallQual', 'OverallCond', 'Neighborhood', 'KitchenQual',\n",
    "    # Sale\n",
    "    'SaleCondition', 'YrSold',\n",
    "    # Features\n",
    "    'CentralAir', 'Fireplaces', 'HasPool',\n",
    "    # Others\n",
    "    'IsNearNegativeCondition', 'LandContour'\n",
    "]]\n",
    "X"
   ],
   "metadata": {
    "collapsed": false,
    "pycharm": {
     "name": "#%%\n"
    }
   }
  },
  {
   "cell_type": "markdown",
   "source": [
    "Encode categorical features"
   ],
   "metadata": {
    "collapsed": false
   }
  },
  {
   "cell_type": "code",
   "execution_count": 296,
   "outputs": [
    {
     "data": {
      "text/plain": "      GrLivArea  TotalFinBsmtSF  LotArea  TotalOutdoorSF  AllBathrooms  \\\n0           856           238.0     7890             166           2.0   \n1          1049           945.0     4235             105           3.0   \n2          1001           737.0     6060             196           1.0   \n3          1039             0.0     8146             279           1.0   \n4          1665           643.0     8400              45           3.5   \n...         ...             ...      ...             ...           ...   \n2572        952             0.0     8854             138           1.0   \n2573       1733             0.0    13680               0           2.0   \n2574       2002           284.0     6270               0           2.0   \n2575       1842           841.0     8826             289           3.5   \n2576       1911           380.0     9554             263           2.5   \n\n      BedroomAbvGr  OverallQual  OverallCond  KitchenQual  Fireplaces  ...  \\\n0                2            6            6            3           1  ...   \n1                2            5            5            4           0  ...   \n2                2            5            9            4           0  ...   \n3                2            4            8            3           0  ...   \n4                3            8            6            4           0  ...   \n...            ...          ...          ...          ...         ...  ...   \n2572             2            6            6            2           1  ...   \n2573             4            3            5            3           1  ...   \n2574             4            5            6            3           0  ...   \n2575             3            7            5            4           1  ...   \n2576             3            8            5            4           1  ...   \n\n      MSSubClass_Dwelling_85  MSSubClass_Dwelling_90  LandContour_HLS  \\\n0                          0                       0                0   \n1                          0                       0                0   \n2                          0                       0                0   \n3                          0                       0                0   \n4                          0                       0                0   \n...                      ...                     ...              ...   \n2572                       0                       0                0   \n2573                       0                       0                0   \n2574                       0                       1                1   \n2575                       0                       0                0   \n2576                       0                       0                0   \n\n      LandContour_Low  LandContour_Lvl  YrSold_Yr_2007  YrSold_Yr_2008  \\\n0                   0                1               0               0   \n1                   0                1               0               0   \n2                   0                1               1               0   \n3                   0                1               0               0   \n4                   0                1               0               0   \n...               ...              ...             ...             ...   \n2572                0                1               0               0   \n2573                0                1               0               0   \n2574                0                0               1               0   \n2575                0                1               1               0   \n2576                0                1               0               0   \n\n      YrSold_Yr_2009  YrSold_Yr_2010  CentralAir_Y  \n0                  0               1             1  \n1                  1               0             1  \n2                  0               0             1  \n3                  1               0             1  \n4                  1               0             1  \n...              ...             ...           ...  \n2572               1               0             0  \n2573               1               0             1  \n2574               0               0             0  \n2575               0               0             1  \n2576               0               0             1  \n\n[2577 rows x 73 columns]",
      "text/html": "<div>\n<style scoped>\n    .dataframe tbody tr th:only-of-type {\n        vertical-align: middle;\n    }\n\n    .dataframe tbody tr th {\n        vertical-align: top;\n    }\n\n    .dataframe thead th {\n        text-align: right;\n    }\n</style>\n<table border=\"1\" class=\"dataframe\">\n  <thead>\n    <tr style=\"text-align: right;\">\n      <th></th>\n      <th>GrLivArea</th>\n      <th>TotalFinBsmtSF</th>\n      <th>LotArea</th>\n      <th>TotalOutdoorSF</th>\n      <th>AllBathrooms</th>\n      <th>BedroomAbvGr</th>\n      <th>OverallQual</th>\n      <th>OverallCond</th>\n      <th>KitchenQual</th>\n      <th>Fireplaces</th>\n      <th>...</th>\n      <th>MSSubClass_Dwelling_85</th>\n      <th>MSSubClass_Dwelling_90</th>\n      <th>LandContour_HLS</th>\n      <th>LandContour_Low</th>\n      <th>LandContour_Lvl</th>\n      <th>YrSold_Yr_2007</th>\n      <th>YrSold_Yr_2008</th>\n      <th>YrSold_Yr_2009</th>\n      <th>YrSold_Yr_2010</th>\n      <th>CentralAir_Y</th>\n    </tr>\n  </thead>\n  <tbody>\n    <tr>\n      <th>0</th>\n      <td>856</td>\n      <td>238.0</td>\n      <td>7890</td>\n      <td>166</td>\n      <td>2.0</td>\n      <td>2</td>\n      <td>6</td>\n      <td>6</td>\n      <td>3</td>\n      <td>1</td>\n      <td>...</td>\n      <td>0</td>\n      <td>0</td>\n      <td>0</td>\n      <td>0</td>\n      <td>1</td>\n      <td>0</td>\n      <td>0</td>\n      <td>0</td>\n      <td>1</td>\n      <td>1</td>\n    </tr>\n    <tr>\n      <th>1</th>\n      <td>1049</td>\n      <td>945.0</td>\n      <td>4235</td>\n      <td>105</td>\n      <td>3.0</td>\n      <td>2</td>\n      <td>5</td>\n      <td>5</td>\n      <td>4</td>\n      <td>0</td>\n      <td>...</td>\n      <td>0</td>\n      <td>0</td>\n      <td>0</td>\n      <td>0</td>\n      <td>1</td>\n      <td>0</td>\n      <td>0</td>\n      <td>1</td>\n      <td>0</td>\n      <td>1</td>\n    </tr>\n    <tr>\n      <th>2</th>\n      <td>1001</td>\n      <td>737.0</td>\n      <td>6060</td>\n      <td>196</td>\n      <td>1.0</td>\n      <td>2</td>\n      <td>5</td>\n      <td>9</td>\n      <td>4</td>\n      <td>0</td>\n      <td>...</td>\n      <td>0</td>\n      <td>0</td>\n      <td>0</td>\n      <td>0</td>\n      <td>1</td>\n      <td>1</td>\n      <td>0</td>\n      <td>0</td>\n      <td>0</td>\n      <td>1</td>\n    </tr>\n    <tr>\n      <th>3</th>\n      <td>1039</td>\n      <td>0.0</td>\n      <td>8146</td>\n      <td>279</td>\n      <td>1.0</td>\n      <td>2</td>\n      <td>4</td>\n      <td>8</td>\n      <td>3</td>\n      <td>0</td>\n      <td>...</td>\n      <td>0</td>\n      <td>0</td>\n      <td>0</td>\n      <td>0</td>\n      <td>1</td>\n      <td>0</td>\n      <td>0</td>\n      <td>1</td>\n      <td>0</td>\n      <td>1</td>\n    </tr>\n    <tr>\n      <th>4</th>\n      <td>1665</td>\n      <td>643.0</td>\n      <td>8400</td>\n      <td>45</td>\n      <td>3.5</td>\n      <td>3</td>\n      <td>8</td>\n      <td>6</td>\n      <td>4</td>\n      <td>0</td>\n      <td>...</td>\n      <td>0</td>\n      <td>0</td>\n      <td>0</td>\n      <td>0</td>\n      <td>1</td>\n      <td>0</td>\n      <td>0</td>\n      <td>1</td>\n      <td>0</td>\n      <td>1</td>\n    </tr>\n    <tr>\n      <th>...</th>\n      <td>...</td>\n      <td>...</td>\n      <td>...</td>\n      <td>...</td>\n      <td>...</td>\n      <td>...</td>\n      <td>...</td>\n      <td>...</td>\n      <td>...</td>\n      <td>...</td>\n      <td>...</td>\n      <td>...</td>\n      <td>...</td>\n      <td>...</td>\n      <td>...</td>\n      <td>...</td>\n      <td>...</td>\n      <td>...</td>\n      <td>...</td>\n      <td>...</td>\n      <td>...</td>\n    </tr>\n    <tr>\n      <th>2572</th>\n      <td>952</td>\n      <td>0.0</td>\n      <td>8854</td>\n      <td>138</td>\n      <td>1.0</td>\n      <td>2</td>\n      <td>6</td>\n      <td>6</td>\n      <td>2</td>\n      <td>1</td>\n      <td>...</td>\n      <td>0</td>\n      <td>0</td>\n      <td>0</td>\n      <td>0</td>\n      <td>1</td>\n      <td>0</td>\n      <td>0</td>\n      <td>1</td>\n      <td>0</td>\n      <td>0</td>\n    </tr>\n    <tr>\n      <th>2573</th>\n      <td>1733</td>\n      <td>0.0</td>\n      <td>13680</td>\n      <td>0</td>\n      <td>2.0</td>\n      <td>4</td>\n      <td>3</td>\n      <td>5</td>\n      <td>3</td>\n      <td>1</td>\n      <td>...</td>\n      <td>0</td>\n      <td>0</td>\n      <td>0</td>\n      <td>0</td>\n      <td>1</td>\n      <td>0</td>\n      <td>0</td>\n      <td>1</td>\n      <td>0</td>\n      <td>1</td>\n    </tr>\n    <tr>\n      <th>2574</th>\n      <td>2002</td>\n      <td>284.0</td>\n      <td>6270</td>\n      <td>0</td>\n      <td>2.0</td>\n      <td>4</td>\n      <td>5</td>\n      <td>6</td>\n      <td>3</td>\n      <td>0</td>\n      <td>...</td>\n      <td>0</td>\n      <td>1</td>\n      <td>1</td>\n      <td>0</td>\n      <td>0</td>\n      <td>1</td>\n      <td>0</td>\n      <td>0</td>\n      <td>0</td>\n      <td>0</td>\n    </tr>\n    <tr>\n      <th>2575</th>\n      <td>1842</td>\n      <td>841.0</td>\n      <td>8826</td>\n      <td>289</td>\n      <td>3.5</td>\n      <td>3</td>\n      <td>7</td>\n      <td>5</td>\n      <td>4</td>\n      <td>1</td>\n      <td>...</td>\n      <td>0</td>\n      <td>0</td>\n      <td>0</td>\n      <td>0</td>\n      <td>1</td>\n      <td>1</td>\n      <td>0</td>\n      <td>0</td>\n      <td>0</td>\n      <td>1</td>\n    </tr>\n    <tr>\n      <th>2576</th>\n      <td>1911</td>\n      <td>380.0</td>\n      <td>9554</td>\n      <td>263</td>\n      <td>2.5</td>\n      <td>3</td>\n      <td>8</td>\n      <td>5</td>\n      <td>4</td>\n      <td>1</td>\n      <td>...</td>\n      <td>0</td>\n      <td>0</td>\n      <td>0</td>\n      <td>0</td>\n      <td>1</td>\n      <td>0</td>\n      <td>0</td>\n      <td>0</td>\n      <td>0</td>\n      <td>1</td>\n    </tr>\n  </tbody>\n</table>\n<p>2577 rows × 73 columns</p>\n</div>"
     },
     "execution_count": 296,
     "metadata": {},
     "output_type": "execute_result"
    }
   ],
   "source": [
    "# All possible features\n",
    "all_categorical_features = set(features.get_categorical_features())\n",
    "all_numerical_features = set(features.get_numerical_features())\n",
    "\n",
    "# What are the categorical + numerical features in X\n",
    "X_categorical_features = list(all_categorical_features.intersection(set(X.columns)))\n",
    "X_numerical_features = list(all_numerical_features.intersection(set(X.columns)))\n",
    "X_features = X_categorical_features + X_numerical_features\n",
    "\n",
    "# Dummify categorical features from all features selected for our model\n",
    "X = pd.get_dummies(X, columns=X_categorical_features, prefix=X_categorical_features, drop_first=True)\n",
    "X"
   ],
   "metadata": {
    "collapsed": false,
    "pycharm": {
     "name": "#%%\n"
    }
   }
  },
  {
   "cell_type": "markdown",
   "source": [
    "Check for multicolinearity"
   ],
   "metadata": {
    "collapsed": false
   }
  },
  {
   "cell_type": "code",
   "execution_count": 297,
   "outputs": [
    {
     "data": {
      "text/plain": "          features          VIF\n0            const  2926.610436\n1        GrLivArea     4.554141\n2   TotalFinBsmtSF     2.015172\n3          LotArea     1.477531\n4   TotalOutdoorSF     1.360440\n..             ...          ...\n69  YrSold_Yr_2007     1.724683\n70  YrSold_Yr_2008     1.702732\n71  YrSold_Yr_2009     1.743014\n72  YrSold_Yr_2010     1.458629\n73    CentralAir_Y     1.424064\n\n[74 rows x 2 columns]",
      "text/html": "<div>\n<style scoped>\n    .dataframe tbody tr th:only-of-type {\n        vertical-align: middle;\n    }\n\n    .dataframe tbody tr th {\n        vertical-align: top;\n    }\n\n    .dataframe thead th {\n        text-align: right;\n    }\n</style>\n<table border=\"1\" class=\"dataframe\">\n  <thead>\n    <tr style=\"text-align: right;\">\n      <th></th>\n      <th>features</th>\n      <th>VIF</th>\n    </tr>\n  </thead>\n  <tbody>\n    <tr>\n      <th>0</th>\n      <td>const</td>\n      <td>2926.610436</td>\n    </tr>\n    <tr>\n      <th>1</th>\n      <td>GrLivArea</td>\n      <td>4.554141</td>\n    </tr>\n    <tr>\n      <th>2</th>\n      <td>TotalFinBsmtSF</td>\n      <td>2.015172</td>\n    </tr>\n    <tr>\n      <th>3</th>\n      <td>LotArea</td>\n      <td>1.477531</td>\n    </tr>\n    <tr>\n      <th>4</th>\n      <td>TotalOutdoorSF</td>\n      <td>1.360440</td>\n    </tr>\n    <tr>\n      <th>...</th>\n      <td>...</td>\n      <td>...</td>\n    </tr>\n    <tr>\n      <th>69</th>\n      <td>YrSold_Yr_2007</td>\n      <td>1.724683</td>\n    </tr>\n    <tr>\n      <th>70</th>\n      <td>YrSold_Yr_2008</td>\n      <td>1.702732</td>\n    </tr>\n    <tr>\n      <th>71</th>\n      <td>YrSold_Yr_2009</td>\n      <td>1.743014</td>\n    </tr>\n    <tr>\n      <th>72</th>\n      <td>YrSold_Yr_2010</td>\n      <td>1.458629</td>\n    </tr>\n    <tr>\n      <th>73</th>\n      <td>CentralAir_Y</td>\n      <td>1.424064</td>\n    </tr>\n  </tbody>\n</table>\n<p>74 rows × 2 columns</p>\n</div>"
     },
     "execution_count": 297,
     "metadata": {},
     "output_type": "execute_result"
    }
   ],
   "source": [
    "# NOTE: The VIFs in the R car package also give VIF by the degrees of freedom of the feature which is useful for\n",
    "# dummified features with lots of categories. So cross-check with linreg.R\n",
    "from statsmodels.stats.outliers_influence import variance_inflation_factor\n",
    "from statsmodels.tools.tools import add_constant\n",
    "\n",
    "X_add_const = add_constant(X) # apparently, this is required for statsmodels\n",
    "vif = pd.DataFrame()\n",
    "vif['features'] = X_add_const.columns\n",
    "vif['VIF'] = [variance_inflation_factor(X_add_const.values, i) for i in range(X_add_const.shape[1])]\n",
    "vif"
   ],
   "metadata": {
    "collapsed": false,
    "pycharm": {
     "name": "#%%\n"
    }
   }
  },
  {
   "cell_type": "code",
   "execution_count": 298,
   "outputs": [],
   "source": [
    "# Create training set and holdout\n",
    "X_train, X_test, y_train, y_test = train_test_split(X, target, test_size=0.3, random_state=42)"
   ],
   "metadata": {
    "collapsed": false,
    "pycharm": {
     "name": "#%%\n"
    }
   }
  },
  {
   "cell_type": "code",
   "execution_count": 299,
   "outputs": [],
   "source": [
    "# Fit model\n",
    "model.fit(X=X_train, y=y_train)\n",
    "y_predict = model.predict(X_test)"
   ],
   "metadata": {
    "collapsed": false,
    "pycharm": {
     "name": "#%%\n"
    }
   }
  },
  {
   "cell_type": "code",
   "execution_count": 300,
   "outputs": [
    {
     "name": "stdout",
     "output_type": "stream",
     "text": [
      "                            OLS Regression Results                            \n",
      "==============================================================================\n",
      "Dep. Variable:           LogSalePrice   R-squared:                       0.920\n",
      "Model:                            OLS   Adj. R-squared:                  0.916\n",
      "Method:                 Least Squares   F-statistic:                     271.0\n",
      "Date:                Sun, 06 Mar 2022   Prob (F-statistic):               0.00\n",
      "Time:                        17:26:26   Log-Likelihood:                 1440.0\n",
      "No. Observations:                1803   AIC:                            -2732.\n",
      "Df Residuals:                    1729   BIC:                            -2325.\n",
      "Df Model:                          73                                         \n",
      "Covariance Type:            nonrobust                                         \n",
      "===========================================================================================\n",
      "                              coef    std err          t      P>|t|      [0.025      0.975]\n",
      "-------------------------------------------------------------------------------------------\n",
      "const                      10.2335      0.121     84.810      0.000       9.997      10.470\n",
      "GrLivArea                   0.0003   1.17e-05     26.264      0.000       0.000       0.000\n",
      "TotalFinBsmtSF              0.0001   8.25e-06     12.451      0.000    8.65e-05       0.000\n",
      "LotArea                   2.03e-06   4.18e-07      4.857      0.000    1.21e-06    2.85e-06\n",
      "TotalOutdoorSF           5.572e-05    1.9e-05      2.938      0.003    1.85e-05    9.29e-05\n",
      "AllBathrooms                0.0284      0.006      4.983      0.000       0.017       0.040\n",
      "BedroomAbvGr               -0.0144      0.005     -2.890      0.004      -0.024      -0.005\n",
      "OverallQual                 0.0798      0.004     22.114      0.000       0.073       0.087\n",
      "OverallCond                 0.0332      0.003     11.780      0.000       0.028       0.039\n",
      "KitchenQual                 0.0469      0.006      7.749      0.000       0.035       0.059\n",
      "Fireplaces                  0.0256      0.005      4.776      0.000       0.015       0.036\n",
      "HasPool                    -0.0354      0.047     -0.754      0.451      -0.127       0.057\n",
      "IsNearNegativeCondition    -0.0444      0.012     -3.852      0.000      -0.067      -0.022\n",
      "MSZoning_C (all)           -0.0200      0.122     -0.165      0.869      -0.259       0.219\n",
      "MSZoning_FV                 0.1688      0.118      1.428      0.153      -0.063       0.401\n",
      "MSZoning_I (all)            0.0692      0.161      0.429      0.668      -0.247       0.385\n",
      "MSZoning_RH                 0.0979      0.120      0.819      0.413      -0.137       0.332\n",
      "MSZoning_RL                 0.2215      0.114      1.935      0.053      -0.003       0.446\n",
      "MSZoning_RM                 0.1828      0.116      1.581      0.114      -0.044       0.410\n",
      "SaleCondition_AdjLand       0.0320      0.084      0.382      0.702      -0.132       0.196\n",
      "SaleCondition_Alloca        0.1713      0.083      2.071      0.039       0.009       0.334\n",
      "SaleCondition_Family       -0.0490      0.040     -1.217      0.224      -0.128       0.030\n",
      "SaleCondition_Normal        0.0948      0.019      5.085      0.000       0.058       0.131\n",
      "SaleCondition_Partial       0.1612      0.024      6.620      0.000       0.113       0.209\n",
      "Neighborhood_Blueste       -0.0185      0.053     -0.350      0.727      -0.122       0.085\n",
      "Neighborhood_BrDale        -0.1312      0.044     -3.013      0.003      -0.217      -0.046\n",
      "Neighborhood_BrkSide       -0.0969      0.034     -2.847      0.004      -0.164      -0.030\n",
      "Neighborhood_ClearCr       -0.0309      0.036     -0.866      0.387      -0.101       0.039\n",
      "Neighborhood_CollgCr       -0.0135      0.029     -0.471      0.638      -0.070       0.043\n",
      "Neighborhood_Crawfor       -0.0071      0.032     -0.218      0.827      -0.071       0.057\n",
      "Neighborhood_Edwards       -0.1344      0.030     -4.446      0.000      -0.194      -0.075\n",
      "Neighborhood_Gilbert       -0.0238      0.030     -0.794      0.427      -0.082       0.035\n",
      "Neighborhood_Greens        -0.1217      0.069     -1.754      0.080      -0.258       0.014\n",
      "Neighborhood_GrnHill        0.3353      0.115      2.919      0.004       0.110       0.561\n",
      "Neighborhood_IDOTRR        -0.1412      0.038     -3.683      0.000      -0.216      -0.066\n",
      "Neighborhood_Landmrk        0.1135      0.121      0.937      0.349      -0.124       0.351\n",
      "Neighborhood_MeadowV       -0.1933      0.042     -4.617      0.000      -0.275      -0.111\n",
      "Neighborhood_Mitchel       -0.0624      0.031     -2.033      0.042      -0.123      -0.002\n",
      "Neighborhood_NAmes         -0.1216      0.029     -4.170      0.000      -0.179      -0.064\n",
      "Neighborhood_NPkVill       -0.0881      0.039     -2.263      0.024      -0.165      -0.012\n",
      "Neighborhood_NWAmes        -0.1094      0.030     -3.613      0.000      -0.169      -0.050\n",
      "Neighborhood_NoRidge        0.0120      0.032      0.370      0.712      -0.052       0.076\n",
      "Neighborhood_NridgHt        0.0775      0.029      2.669      0.008       0.021       0.135\n",
      "Neighborhood_OldTown       -0.1679      0.034     -4.919      0.000      -0.235      -0.101\n",
      "Neighborhood_SWISU         -0.1828      0.037     -4.987      0.000      -0.255      -0.111\n",
      "Neighborhood_Sawyer        -0.1148      0.031     -3.713      0.000      -0.175      -0.054\n",
      "Neighborhood_SawyerW       -0.0743      0.030     -2.499      0.013      -0.133      -0.016\n",
      "Neighborhood_Somerst        0.1033      0.037      2.825      0.005       0.032       0.175\n",
      "Neighborhood_StoneBr        0.0735      0.033      2.226      0.026       0.009       0.138\n",
      "Neighborhood_Timber        -0.0222      0.033     -0.666      0.506      -0.088       0.043\n",
      "Neighborhood_Veenker       -0.0633      0.041     -1.556      0.120      -0.143       0.016\n",
      "MSSubClass_Dwelling_150    -0.3568      0.116     -3.079      0.002      -0.584      -0.130\n",
      "MSSubClass_Dwelling_160    -0.1202      0.022     -5.462      0.000      -0.163      -0.077\n",
      "MSSubClass_Dwelling_180    -0.0004      0.040     -0.010      0.992      -0.078       0.077\n",
      "MSSubClass_Dwelling_190    -0.0205      0.027     -0.771      0.441      -0.073       0.032\n",
      "MSSubClass_Dwelling_20      0.0602      0.015      3.918      0.000       0.030       0.090\n",
      "MSSubClass_Dwelling_30     -0.0373      0.021     -1.786      0.074      -0.078       0.004\n",
      "MSSubClass_Dwelling_40     -0.0412      0.053     -0.779      0.436      -0.145       0.063\n",
      "MSSubClass_Dwelling_45     -0.0132      0.037     -0.357      0.721      -0.086       0.059\n",
      "MSSubClass_Dwelling_50     -0.0176      0.020     -0.894      0.371      -0.056       0.021\n",
      "MSSubClass_Dwelling_60      0.0125      0.017      0.728      0.466      -0.021       0.046\n",
      "MSSubClass_Dwelling_70     -0.0348      0.023     -1.507      0.132      -0.080       0.010\n",
      "MSSubClass_Dwelling_75     -0.0644      0.036     -1.765      0.078      -0.136       0.007\n",
      "MSSubClass_Dwelling_80      0.0381      0.021      1.853      0.064      -0.002       0.078\n",
      "MSSubClass_Dwelling_85      0.0882      0.026      3.346      0.001       0.037       0.140\n",
      "MSSubClass_Dwelling_90     -0.0265      0.024     -1.115      0.265      -0.073       0.020\n",
      "LandContour_HLS             0.0512      0.021      2.448      0.014       0.010       0.092\n",
      "LandContour_Low             0.0287      0.025      1.135      0.257      -0.021       0.078\n",
      "LandContour_Lvl             0.0228      0.014      1.575      0.115      -0.006       0.051\n",
      "YrSold_Yr_2007             -0.0128      0.008     -1.552      0.121      -0.029       0.003\n",
      "YrSold_Yr_2008             -0.0153      0.008     -1.820      0.069      -0.032       0.001\n",
      "YrSold_Yr_2009             -0.0274      0.008     -3.259      0.001      -0.044      -0.011\n",
      "YrSold_Yr_2010             -0.0074      0.010     -0.768      0.443      -0.026       0.011\n",
      "CentralAir_Y                0.1231      0.013      9.561      0.000       0.098       0.148\n",
      "==============================================================================\n",
      "Omnibus:                      229.980   Durbin-Watson:                   1.997\n",
      "Prob(Omnibus):                  0.000   Jarque-Bera (JB):             1085.808\n",
      "Skew:                          -0.514   Prob(JB):                    1.66e-236\n",
      "Kurtosis:                       6.660   Cond. No.                     1.51e+06\n",
      "==============================================================================\n",
      "\n",
      "Notes:\n",
      "[1] Standard Errors assume that the covariance matrix of the errors is correctly specified.\n",
      "[2] The condition number is large, 1.51e+06. This might indicate that there are\n",
      "strong multicollinearity or other numerical problems.\n"
     ]
    }
   ],
   "source": [
    "# Fit same model using statsmodels to see statistics\n",
    "X_add_const = sm.add_constant(X_train)\n",
    "ols = sm.OLS(y_train, X_add_const)\n",
    "ans = ols.fit()\n",
    "print(ans.summary())"
   ],
   "metadata": {
    "collapsed": false,
    "pycharm": {
     "name": "#%%\n"
    }
   }
  },
  {
   "cell_type": "code",
   "execution_count": 301,
   "outputs": [
    {
     "name": "stdout",
     "output_type": "stream",
     "text": [
      "AIC -2731.9619171419345\n",
      "BIC -2325.168582624889\n"
     ]
    },
    {
     "data": {
      "text/plain": "                    coeff          pvals  conf_lower  conf_higher\nconst           10.233456   0.000000e+00    9.996796    10.470117\nGrLivArea        0.000306  3.209727e-128    0.000283     0.000329\nTotalFinBsmtSF   0.000103   3.821278e-34    0.000087     0.000119\nLotArea          0.000002   1.296334e-06    0.000001     0.000003\nTotalOutdoorSF   0.000056   3.345393e-03    0.000019     0.000093\n...                   ...            ...         ...          ...\nYrSold_Yr_2007  -0.012787   1.209537e-01   -0.028951     0.003377\nYrSold_Yr_2008  -0.015350   6.899498e-02   -0.031896     0.001196\nYrSold_Yr_2009  -0.027449   1.138722e-03   -0.043968    -0.010931\nYrSold_Yr_2010  -0.007384   4.427931e-01   -0.026250     0.011482\nCentralAir_Y     0.123144   3.858246e-21    0.097881     0.148406\n\n[74 rows x 4 columns]",
      "text/html": "<div>\n<style scoped>\n    .dataframe tbody tr th:only-of-type {\n        vertical-align: middle;\n    }\n\n    .dataframe tbody tr th {\n        vertical-align: top;\n    }\n\n    .dataframe thead th {\n        text-align: right;\n    }\n</style>\n<table border=\"1\" class=\"dataframe\">\n  <thead>\n    <tr style=\"text-align: right;\">\n      <th></th>\n      <th>coeff</th>\n      <th>pvals</th>\n      <th>conf_lower</th>\n      <th>conf_higher</th>\n    </tr>\n  </thead>\n  <tbody>\n    <tr>\n      <th>const</th>\n      <td>10.233456</td>\n      <td>0.000000e+00</td>\n      <td>9.996796</td>\n      <td>10.470117</td>\n    </tr>\n    <tr>\n      <th>GrLivArea</th>\n      <td>0.000306</td>\n      <td>3.209727e-128</td>\n      <td>0.000283</td>\n      <td>0.000329</td>\n    </tr>\n    <tr>\n      <th>TotalFinBsmtSF</th>\n      <td>0.000103</td>\n      <td>3.821278e-34</td>\n      <td>0.000087</td>\n      <td>0.000119</td>\n    </tr>\n    <tr>\n      <th>LotArea</th>\n      <td>0.000002</td>\n      <td>1.296334e-06</td>\n      <td>0.000001</td>\n      <td>0.000003</td>\n    </tr>\n    <tr>\n      <th>TotalOutdoorSF</th>\n      <td>0.000056</td>\n      <td>3.345393e-03</td>\n      <td>0.000019</td>\n      <td>0.000093</td>\n    </tr>\n    <tr>\n      <th>...</th>\n      <td>...</td>\n      <td>...</td>\n      <td>...</td>\n      <td>...</td>\n    </tr>\n    <tr>\n      <th>YrSold_Yr_2007</th>\n      <td>-0.012787</td>\n      <td>1.209537e-01</td>\n      <td>-0.028951</td>\n      <td>0.003377</td>\n    </tr>\n    <tr>\n      <th>YrSold_Yr_2008</th>\n      <td>-0.015350</td>\n      <td>6.899498e-02</td>\n      <td>-0.031896</td>\n      <td>0.001196</td>\n    </tr>\n    <tr>\n      <th>YrSold_Yr_2009</th>\n      <td>-0.027449</td>\n      <td>1.138722e-03</td>\n      <td>-0.043968</td>\n      <td>-0.010931</td>\n    </tr>\n    <tr>\n      <th>YrSold_Yr_2010</th>\n      <td>-0.007384</td>\n      <td>4.427931e-01</td>\n      <td>-0.026250</td>\n      <td>0.011482</td>\n    </tr>\n    <tr>\n      <th>CentralAir_Y</th>\n      <td>0.123144</td>\n      <td>3.858246e-21</td>\n      <td>0.097881</td>\n      <td>0.148406</td>\n    </tr>\n  </tbody>\n</table>\n<p>74 rows × 4 columns</p>\n</div>"
     },
     "execution_count": 301,
     "metadata": {},
     "output_type": "execute_result"
    }
   ],
   "source": [
    "# See more statsmodels statistics\n",
    "def results_summary_to_dataframe(results):\n",
    "    '''Take the result of an statsmodel results table and transforms it into a dataframe'''\n",
    "    pvals = results.pvalues\n",
    "    coeff = results.params\n",
    "    conf_lower = results.conf_int()[0]\n",
    "    conf_higher = results.conf_int()[1]\n",
    "\n",
    "    results_df = pd.DataFrame({\"pvals\":pvals,\n",
    "                               \"coeff\":coeff,\n",
    "                               \"conf_lower\":conf_lower,\n",
    "                               \"conf_higher\":conf_higher\n",
    "                               })\n",
    "\n",
    "    # Reorder\n",
    "    results_df = results_df[[\"coeff\",\"pvals\",\"conf_lower\",\"conf_higher\"]]\n",
    "    return results_df\n",
    "\n",
    "print(f\"AIC {ans.aic}\")\n",
    "print(f\"BIC {ans.bic}\")\n",
    "results_summary_to_dataframe(ans)"
   ],
   "metadata": {
    "collapsed": false,
    "pycharm": {
     "name": "#%%\n"
    }
   }
  },
  {
   "cell_type": "code",
   "execution_count": 302,
   "outputs": [
    {
     "name": "stdout",
     "output_type": "stream",
     "text": [
      "Coefficient of Determination training set: 0.91963\n",
      "Coefficient of Determination holdout set:  0.90246\n",
      "MSE:                                       0.01495\n"
     ]
    }
   ],
   "source": [
    "# Score model\n",
    "print(f\"Coefficient of Determination training set: {round(model.score(X=X_train, y=y_train), 5)}\")\n",
    "print(f\"Coefficient of Determination holdout set:  {round(model.score(X=X_test, y=y_test), 5)}\")\n",
    "print(f\"MSE:                                       {round(mean_squared_error(y_true=y_test, y_pred=y_predict), 5)}\")"
   ],
   "metadata": {
    "collapsed": false,
    "pycharm": {
     "name": "#%%\n"
    }
   }
  },
  {
   "cell_type": "code",
   "execution_count": 303,
   "outputs": [
    {
     "data": {
      "text/plain": "          Features Coefficients (log)  Coefficients\n0    __Intercept__          10.233456  27818.495913\n1        GrLivArea           0.000306      1.000306\n2   TotalFinBsmtSF           0.000103      1.000103\n3          LotArea           0.000002      1.000002\n4   TotalOutdoorSF           0.000056      1.000056\n..             ...                ...           ...\n69  YrSold_Yr_2007          -0.012787      0.987294\n70  YrSold_Yr_2008           -0.01535      0.984767\n71  YrSold_Yr_2009          -0.027449      0.972924\n72  YrSold_Yr_2010          -0.007384      0.992643\n73    CentralAir_Y           0.123144      1.131047\n\n[74 rows x 3 columns]",
      "text/html": "<div>\n<style scoped>\n    .dataframe tbody tr th:only-of-type {\n        vertical-align: middle;\n    }\n\n    .dataframe tbody tr th {\n        vertical-align: top;\n    }\n\n    .dataframe thead th {\n        text-align: right;\n    }\n</style>\n<table border=\"1\" class=\"dataframe\">\n  <thead>\n    <tr style=\"text-align: right;\">\n      <th></th>\n      <th>Features</th>\n      <th>Coefficients (log)</th>\n      <th>Coefficients</th>\n    </tr>\n  </thead>\n  <tbody>\n    <tr>\n      <th>0</th>\n      <td>__Intercept__</td>\n      <td>10.233456</td>\n      <td>27818.495913</td>\n    </tr>\n    <tr>\n      <th>1</th>\n      <td>GrLivArea</td>\n      <td>0.000306</td>\n      <td>1.000306</td>\n    </tr>\n    <tr>\n      <th>2</th>\n      <td>TotalFinBsmtSF</td>\n      <td>0.000103</td>\n      <td>1.000103</td>\n    </tr>\n    <tr>\n      <th>3</th>\n      <td>LotArea</td>\n      <td>0.000002</td>\n      <td>1.000002</td>\n    </tr>\n    <tr>\n      <th>4</th>\n      <td>TotalOutdoorSF</td>\n      <td>0.000056</td>\n      <td>1.000056</td>\n    </tr>\n    <tr>\n      <th>...</th>\n      <td>...</td>\n      <td>...</td>\n      <td>...</td>\n    </tr>\n    <tr>\n      <th>69</th>\n      <td>YrSold_Yr_2007</td>\n      <td>-0.012787</td>\n      <td>0.987294</td>\n    </tr>\n    <tr>\n      <th>70</th>\n      <td>YrSold_Yr_2008</td>\n      <td>-0.01535</td>\n      <td>0.984767</td>\n    </tr>\n    <tr>\n      <th>71</th>\n      <td>YrSold_Yr_2009</td>\n      <td>-0.027449</td>\n      <td>0.972924</td>\n    </tr>\n    <tr>\n      <th>72</th>\n      <td>YrSold_Yr_2010</td>\n      <td>-0.007384</td>\n      <td>0.992643</td>\n    </tr>\n    <tr>\n      <th>73</th>\n      <td>CentralAir_Y</td>\n      <td>0.123144</td>\n      <td>1.131047</td>\n    </tr>\n  </tbody>\n</table>\n<p>74 rows × 3 columns</p>\n</div>"
     },
     "execution_count": 303,
     "metadata": {},
     "output_type": "execute_result"
    }
   ],
   "source": [
    "# Beta coefficients\n",
    "beta_names = np.insert(model.feature_names_in_, 0, \"__Intercept__\")\n",
    "log_coefficients = np.insert(model.coef_, 0, model.intercept_)\n",
    "unlogged_coefficients = np.insert(np.exp(model.coef_), 0, np.exp(model.intercept_))\n",
    "coeff_array = np.vstack([beta_names, log_coefficients, unlogged_coefficients]).T\n",
    "pd.DataFrame(coeff_array, columns=['Features', 'Coefficients (log)', 'Coefficients'])"
   ],
   "metadata": {
    "collapsed": false,
    "pycharm": {
     "name": "#%%\n"
    }
   }
  },
  {
   "cell_type": "code",
   "execution_count": 304,
   "outputs": [
    {
     "data": {
      "text/plain": "count    774.000000\nmean       0.007042\nstd        0.122146\nmin       -1.436565\n25%       -0.054783\n50%        0.002972\n75%        0.068545\nmax        0.565300\nName: LogSalePrice, dtype: float64"
     },
     "execution_count": 304,
     "metadata": {},
     "output_type": "execute_result"
    }
   ],
   "source": [
    "# Residuals\n",
    "model_residuals_test = y_test - y_predict\n",
    "model_residuals_test.describe()"
   ],
   "metadata": {
    "collapsed": false,
    "pycharm": {
     "name": "#%%\n"
    }
   }
  },
  {
   "cell_type": "code",
   "execution_count": 305,
   "outputs": [
    {
     "data": {
      "text/plain": "<Figure size 720x432 with 1 Axes>",
      "image/png": "[encoded data removed]"
     },
     "metadata": {
      "needs_background": "light"
     },
     "output_type": "display_data"
    }
   ],
   "source": [
    "# Plot residuals\n",
    "residuals_all = ames.LogSalePrice - model.predict(X)\n",
    "residuals_train = y_train - model.predict(X_train)\n",
    "residuals_test = y_test - model.predict(X_test)\n",
    "residuals = pd.DataFrame({\"Train+Test\": residuals_all, \"Train\": residuals_train, \"Test\": residuals_test})\n",
    "\n",
    "fig, ax = plt.subplots(figsize=(10,6))\n",
    "sns.histplot(residuals, kde=True, ax=ax)\n",
    "plt.title(\"Linear model residuals\")\n",
    "plt.show()"
   ],
   "metadata": {
    "collapsed": false,
    "pycharm": {
     "name": "#%%\n"
    }
   }
  },
  {
   "cell_type": "code",
   "execution_count": 306,
   "outputs": [
    {
     "data": {
      "text/plain": "<Figure size 432x288 with 1 Axes>",
      "image/png": "[encoded data removed]"
     },
     "metadata": {
      "needs_background": "light"
     },
     "output_type": "display_data"
    }
   ],
   "source": [
    "# Quantile-Quantile plot\n",
    "from scipy import stats\n",
    "stats.probplot(residuals_test, dist=\"norm\", plot=plt)\n",
    "plt.title(\"Q-Q plot, test test\")\n",
    "plt.show()"
   ],
   "metadata": {
    "collapsed": false,
    "pycharm": {
     "name": "#%%\n"
    }
   }
  },
  {
   "cell_type": "code",
   "execution_count": 307,
   "outputs": [
    {
     "data": {
      "text/plain": "<Figure size 432x288 with 1 Axes>",
      "image/png": "[encoded data removed]"
     },
     "metadata": {
      "needs_background": "light"
     },
     "output_type": "display_data"
    }
   ],
   "source": [
    "# Residuals vs Predicted LogSalePrice\n",
    "sns.scatterplot(x=residuals_test, y=y_predict)\n",
    "plt.title(\"Test data set residuals vs Predicted LogSalePrice\")\n",
    "plt.xlabel(\"Residuals\")\n",
    "plt.ylabel(\"LogSalePrice\")\n",
    "plt.show()"
   ],
   "metadata": {
    "collapsed": false,
    "pycharm": {
     "name": "#%%\n"
    }
   }
  },
  {
   "cell_type": "markdown",
   "source": [],
   "metadata": {
    "collapsed": false
   }
  },
  {
   "cell_type": "code",
   "execution_count": 307,
   "outputs": [],
   "source": [],
   "metadata": {
    "collapsed": false,
    "pycharm": {
     "name": "#%%\n"
    }
   }
  }
 ],
 "metadata": {
  "kernelspec": {
   "display_name": "Python 3",
   "language": "python",
   "name": "python3"
  },
  "language_info": {
   "codemirror_mode": {
    "name": "ipython",
    "version": 2
   },
   "file_extension": ".py",
   "mimetype": "text/x-python",
   "name": "python",
   "nbconvert_exporter": "python",
   "pygments_lexer": "ipython2",
   "version": "2.7.6"
  }
 },
 "nbformat": 4,
 "nbformat_minor": 0
}